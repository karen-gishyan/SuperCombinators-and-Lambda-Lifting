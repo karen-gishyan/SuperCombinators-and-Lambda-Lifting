{
 "cells": [
  {
   "cell_type": "markdown",
   "metadata": {},
   "source": [
    "# Library Import"
   ]
  },
  {
   "cell_type": "code",
   "execution_count": 34,
   "metadata": {
    "collapsed": true
   },
   "outputs": [],
   "source": [
    "import pandas as pd\n",
    "import plotly.plotly as py\n",
    "import plotly.graph_objs as go \n",
    "from sklearn.cross_validation import cross_val_predict\n",
    "from sklearn.ensemble import GradientBoostingRegressor\n",
    "from sklearn.model_selection import train_test_split\n",
    "from sklearn.metrics import r2_score\n",
    "from sklearn.metrics import mean_squared_error\n",
    "import numpy as np\n",
    "import plotly.plotly as py\n",
    "import plotly.figure_factory as ff\n",
    "from plotly.offline import download_plotlyjs, init_notebook_mode, plot, iplot\n",
    "import plotly.figure_factory as ff\n",
    "import keras\n",
    "from keras.layers import Input\n",
    "from keras.layers import Dense\n",
    "from keras.models import Model\n",
    "from keras.callbacks import TensorBoard\n",
    "from sklearn.utils import shuffle\n",
    "from seaborn import heatmap\n",
    "%matplotlib inline"
   ]
  },
  {
   "cell_type": "markdown",
   "metadata": {},
   "source": [
    "# Histograms"
   ]
  },
  {
   "cell_type": "code",
   "execution_count": 35,
   "metadata": {},
   "outputs": [
    {
     "name": "stdout",
     "output_type": "stream",
     "text": [
      "Aw, snap! We don't have an account for ''. Want to try again? You can authenticate with your email address or username. Sign in is not case sensitive.\n",
      "\n",
      "Don't have an account? plot.ly\n",
      "\n",
      "Questions? support@plot.ly\n"
     ]
    },
    {
     "data": {
      "text/plain": [
       "''"
      ]
     },
     "execution_count": 35,
     "metadata": {},
     "output_type": "execute_result"
    }
   ],
   "source": [
    "team= pd.read_csv('Final Team.csv') # importing the data\n",
    "a=team['0-3 feet FGA %']\n",
    "b=team['3-10 feet FGA %']\n",
    "c=team['10-16 feet FGA %']\n",
    "d=team['16 feet and away FGA %']\n",
    "hist_data=[a,b,c,d]\n",
    "group_labels=['0-3 feet FGA %','3-10 feet FGA% ','10-16 feet FGA %','16 feet and away FGA %']\n",
    "fig = ff.create_distplot(hist_data,group_labels,bin_size=0.02)\n",
    "py.plot(fig, filename='Distplot with Multiple Datasets') # making the plot"
   ]
  },
  {
   "cell_type": "code",
   "execution_count": 36,
   "metadata": {},
   "outputs": [
    {
     "name": "stdout",
     "output_type": "stream",
     "text": [
      "Aw, snap! We don't have an account for ''. Want to try again? You can authenticate with your email address or username. Sign in is not case sensitive.\n",
      "\n",
      "Don't have an account? plot.ly\n",
      "\n",
      "Questions? support@plot.ly\n"
     ]
    },
    {
     "data": {
      "text/plain": [
       "''"
      ]
     },
     "execution_count": 36,
     "metadata": {},
     "output_type": "execute_result"
    }
   ],
   "source": [
    "player=pd.read_csv('Final Player.csv')\n",
    "player=player.iloc[8681:,0:25]\n",
    "player=player.dropna(axis=0,how='any')\n",
    "a=player['Total Rebound %']\n",
    "b=player['Assist %']\n",
    "e=player['Turn Over %']\n",
    "hist_data=[a,b,e]\n",
    "group_labels=['Total Rebound %','Assist %','Turn Over %']\n",
    "fig = ff.create_distplot(hist_data,group_labels,bin_size=10)\n",
    "py.plot(fig, filename='Distplot with Multiple Datasets')"
   ]
  },
  {
   "cell_type": "markdown",
   "metadata": {},
   "source": [
    "# Player Data Import, Slicing and Dicing"
   ]
  },
  {
   "cell_type": "code",
   "execution_count": 37,
   "metadata": {
    "collapsed": true
   },
   "outputs": [],
   "source": [
    "player=pd.read_csv('Final Player.csv')\n",
    "player=player.iloc[:,0:25] # selecting \n",
    "player=player.drop(['Year','Team','Player','Minutes Played'],axis=1) # removing the selected columns\n",
    "player=player.iloc[0:16859:,] \n",
    "player=player.dropna(axis=0,how='any') # removing the NA values\n",
    "x=player.iloc[:,0:21]  # independent variables\n",
    "y=player['Value of Replacement Player'] # dependent variable"
   ]
  },
  {
   "cell_type": "markdown",
   "metadata": {},
   "source": [
    "# Training and Testing Sets"
   ]
  },
  {
   "cell_type": "code",
   "execution_count": 38,
   "metadata": {
    "collapsed": true
   },
   "outputs": [],
   "source": [
    "x_train,x_test, y_train,y_test=train_test_split(x,y,test_size=0.3,random_state=42)"
   ]
  },
  {
   "cell_type": "markdown",
   "metadata": {},
   "source": [
    "# Gradient Boosting Regression for Final Player Dataset"
   ]
  },
  {
   "cell_type": "code",
   "execution_count": 39,
   "metadata": {},
   "outputs": [
    {
     "data": {
      "text/plain": [
       "0.99989386154534166"
      ]
     },
     "execution_count": 39,
     "metadata": {},
     "output_type": "execute_result"
    }
   ],
   "source": [
    "grad=GradientBoostingRegressor(max_depth=10)\n",
    "fit=grad.fit(x_train,y_train)\n",
    "predict=grad.predict(x_test)\n",
    "score=r2_score(y_test,predict)\n",
    "score"
   ]
  },
  {
   "cell_type": "markdown",
   "metadata": {},
   "source": [
    "# Generating Cross Validated Estimates"
   ]
  },
  {
   "cell_type": "code",
   "execution_count": 40,
   "metadata": {
    "collapsed": true
   },
   "outputs": [],
   "source": [
    "predicted = cross_val_predict(grad, x, y, cv=10)"
   ]
  },
  {
   "cell_type": "markdown",
   "metadata": {},
   "source": [
    "# Plotting the Cross Validated Model"
   ]
  },
  {
   "cell_type": "code",
   "execution_count": 41,
   "metadata": {},
   "outputs": [
    {
     "name": "stdout",
     "output_type": "stream",
     "text": [
      "Aw, snap! We don't have an account for ''. Want to try again? You can authenticate with your email address or username. Sign in is not case sensitive.\n",
      "\n",
      "Don't have an account? plot.ly\n",
      "\n",
      "Questions? support@plot.ly\n"
     ]
    },
    {
     "data": {
      "text/plain": [
       "''"
      ]
     },
     "execution_count": 41,
     "metadata": {},
     "output_type": "execute_result"
    }
   ],
   "source": [
    "trace1 = go.Scatter(x=y, y=predicted, mode='markers',\n",
    "                    marker = dict(size=8,\n",
    "                                  color='rgb(0, 0, 255)',\n",
    "                                  line=dict(\n",
    "                                    width=2,\n",
    "                                    color='rgb(0, 0, 0)'))\n",
    "                   )\n",
    "trace2 = go.Scatter(x=[y.min(), y.max()],y=[y.min(), y.max()],\n",
    "                    line = dict(color=('rgb(0, 0, 0)'),\n",
    "                                width=5, dash='dash')\n",
    "                   )\n",
    "layout = go.Layout(showlegend=False,\n",
    "                   yaxis=dict(\n",
    "                    range = [-10,60],\n",
    "                    zeroline=False,\n",
    "                    title='Predicted'),\n",
    "                   xaxis=dict(\n",
    "                    title='Measured',)\n",
    "                  )\n",
    "\n",
    "fig = go.Figure(data = [trace1,trace2], layout = layout)\n",
    "py.plot(fig, filename=\"c-v-predict\")\n"
   ]
  },
  {
   "cell_type": "markdown",
   "metadata": {},
   "source": [
    "# Neural Network Prediction for Player Dataset"
   ]
  },
  {
   "cell_type": "code",
   "execution_count": 42,
   "metadata": {},
   "outputs": [
    {
     "name": "stdout",
     "output_type": "stream",
     "text": [
      "Index(['Age', 'Games', 'Minutes Played', 'Player Efficiency Rating',\n",
      "       'True Shooting %', 'Free Throw Attempt Rate', 'Offensive Rebound %',\n",
      "       'Defensive Rebound %', 'Total Rebound %', 'Assist %', 'Steal %',\n",
      "       'Block %', 'Turn Over %', 'Usage %', 'Offensive Win Shares',\n",
      "       'Defensive Win Shares', 'Win Shares', 'Win Shares per 48 minutes',\n",
      "       'Offensive Box Plus/Minus', 'Defensive Box Plus Minus',\n",
      "       'Box Plus Minus', 'Value of Replacement Player'],\n",
      "      dtype='object')\n"
     ]
    }
   ],
   "source": [
    "data = pd.read_csv('./players.csv')\n",
    "for name in data.columns:\n",
    "    if 'Unnamed' in name:\n",
    "        del data[name]\n",
    "print(data.columns)"
   ]
  },
  {
   "cell_type": "code",
   "execution_count": 43,
   "metadata": {},
   "outputs": [
    {
     "name": "stdout",
     "output_type": "stream",
     "text": [
      "17729\n",
      "16781\n"
     ]
    }
   ],
   "source": [
    "print(len(data))\n",
    "data = data.dropna(axis=0, how='any')\n",
    "print(len(data))"
   ]
  },
  {
   "cell_type": "markdown",
   "metadata": {},
   "source": [
    "## Normalize data"
   ]
  },
  {
   "cell_type": "code",
   "execution_count": 44,
   "metadata": {},
   "outputs": [
    {
     "data": {
      "text/html": [
       "<div>\n",
       "<style scoped>\n",
       "    .dataframe tbody tr th:only-of-type {\n",
       "        vertical-align: middle;\n",
       "    }\n",
       "\n",
       "    .dataframe tbody tr th {\n",
       "        vertical-align: top;\n",
       "    }\n",
       "\n",
       "    .dataframe thead th {\n",
       "        text-align: right;\n",
       "    }\n",
       "</style>\n",
       "<table border=\"1\" class=\"dataframe\">\n",
       "  <thead>\n",
       "    <tr style=\"text-align: right;\">\n",
       "      <th></th>\n",
       "      <th>Age</th>\n",
       "      <th>Games</th>\n",
       "      <th>Minutes Played</th>\n",
       "      <th>Player Efficiency Rating</th>\n",
       "      <th>True Shooting %</th>\n",
       "      <th>Free Throw Attempt Rate</th>\n",
       "      <th>Offensive Rebound %</th>\n",
       "      <th>Defensive Rebound %</th>\n",
       "      <th>Total Rebound %</th>\n",
       "      <th>Assist %</th>\n",
       "      <th>...</th>\n",
       "      <th>Turn Over %</th>\n",
       "      <th>Usage %</th>\n",
       "      <th>Offensive Win Shares</th>\n",
       "      <th>Defensive Win Shares</th>\n",
       "      <th>Win Shares</th>\n",
       "      <th>Win Shares per 48 minutes</th>\n",
       "      <th>Offensive Box Plus/Minus</th>\n",
       "      <th>Defensive Box Plus Minus</th>\n",
       "      <th>Box Plus Minus</th>\n",
       "      <th>Value of Replacement Player</th>\n",
       "    </tr>\n",
       "  </thead>\n",
       "  <tbody>\n",
       "    <tr>\n",
       "      <th>0</th>\n",
       "      <td>0.307692</td>\n",
       "      <td>1.000000</td>\n",
       "      <td>1.000000</td>\n",
       "      <td>0.483842</td>\n",
       "      <td>0.00481</td>\n",
       "      <td>0.056667</td>\n",
       "      <td>0.080</td>\n",
       "      <td>0.258</td>\n",
       "      <td>0.170</td>\n",
       "      <td>0.068</td>\n",
       "      <td>...</td>\n",
       "      <td>0.135</td>\n",
       "      <td>0.233</td>\n",
       "      <td>0.251366</td>\n",
       "      <td>0.594059</td>\n",
       "      <td>0.355263</td>\n",
       "      <td>0.561181</td>\n",
       "      <td>0.600559</td>\n",
       "      <td>0.485348</td>\n",
       "      <td>0.667585</td>\n",
       "      <td>0.233577</td>\n",
       "    </tr>\n",
       "    <tr>\n",
       "      <th>1</th>\n",
       "      <td>0.423077</td>\n",
       "      <td>1.000000</td>\n",
       "      <td>0.910916</td>\n",
       "      <td>0.499317</td>\n",
       "      <td>0.00521</td>\n",
       "      <td>0.054333</td>\n",
       "      <td>0.036</td>\n",
       "      <td>0.064</td>\n",
       "      <td>0.050</td>\n",
       "      <td>0.222</td>\n",
       "      <td>...</td>\n",
       "      <td>0.128</td>\n",
       "      <td>0.268</td>\n",
       "      <td>0.502732</td>\n",
       "      <td>0.267327</td>\n",
       "      <td>0.416667</td>\n",
       "      <td>0.567212</td>\n",
       "      <td>0.639665</td>\n",
       "      <td>0.459707</td>\n",
       "      <td>0.693297</td>\n",
       "      <td>0.401460</td>\n",
       "    </tr>\n",
       "    <tr>\n",
       "      <th>2</th>\n",
       "      <td>0.538462</td>\n",
       "      <td>0.987654</td>\n",
       "      <td>0.892219</td>\n",
       "      <td>0.490214</td>\n",
       "      <td>0.00489</td>\n",
       "      <td>0.060833</td>\n",
       "      <td>0.102</td>\n",
       "      <td>0.227</td>\n",
       "      <td>0.164</td>\n",
       "      <td>0.065</td>\n",
       "      <td>...</td>\n",
       "      <td>0.123</td>\n",
       "      <td>0.216</td>\n",
       "      <td>0.360656</td>\n",
       "      <td>0.574257</td>\n",
       "      <td>0.434211</td>\n",
       "      <td>0.569151</td>\n",
       "      <td>0.614525</td>\n",
       "      <td>0.503663</td>\n",
       "      <td>0.690542</td>\n",
       "      <td>0.379562</td>\n",
       "    </tr>\n",
       "    <tr>\n",
       "      <th>3</th>\n",
       "      <td>0.423077</td>\n",
       "      <td>0.938272</td>\n",
       "      <td>0.883695</td>\n",
       "      <td>0.497041</td>\n",
       "      <td>0.00533</td>\n",
       "      <td>0.038833</td>\n",
       "      <td>0.080</td>\n",
       "      <td>0.256</td>\n",
       "      <td>0.170</td>\n",
       "      <td>0.157</td>\n",
       "      <td>...</td>\n",
       "      <td>0.139</td>\n",
       "      <td>0.188</td>\n",
       "      <td>0.502732</td>\n",
       "      <td>0.574257</td>\n",
       "      <td>0.543860</td>\n",
       "      <td>0.577553</td>\n",
       "      <td>0.630354</td>\n",
       "      <td>0.520147</td>\n",
       "      <td>0.715335</td>\n",
       "      <td>0.532847</td>\n",
       "    </tr>\n",
       "    <tr>\n",
       "      <th>4</th>\n",
       "      <td>0.307692</td>\n",
       "      <td>0.962963</td>\n",
       "      <td>0.874622</td>\n",
       "      <td>0.512517</td>\n",
       "      <td>0.00567</td>\n",
       "      <td>0.068667</td>\n",
       "      <td>0.078</td>\n",
       "      <td>0.247</td>\n",
       "      <td>0.164</td>\n",
       "      <td>0.134</td>\n",
       "      <td>...</td>\n",
       "      <td>0.158</td>\n",
       "      <td>0.261</td>\n",
       "      <td>0.546448</td>\n",
       "      <td>0.495050</td>\n",
       "      <td>0.548246</td>\n",
       "      <td>0.578199</td>\n",
       "      <td>0.635940</td>\n",
       "      <td>0.496337</td>\n",
       "      <td>0.707071</td>\n",
       "      <td>0.481752</td>\n",
       "    </tr>\n",
       "  </tbody>\n",
       "</table>\n",
       "<p>5 rows × 22 columns</p>\n",
       "</div>"
      ],
      "text/plain": [
       "        Age     Games  Minutes Played  Player Efficiency Rating  \\\n",
       "0  0.307692  1.000000        1.000000                  0.483842   \n",
       "1  0.423077  1.000000        0.910916                  0.499317   \n",
       "2  0.538462  0.987654        0.892219                  0.490214   \n",
       "3  0.423077  0.938272        0.883695                  0.497041   \n",
       "4  0.307692  0.962963        0.874622                  0.512517   \n",
       "\n",
       "   True Shooting %  Free Throw Attempt Rate  Offensive Rebound %  \\\n",
       "0          0.00481                 0.056667                0.080   \n",
       "1          0.00521                 0.054333                0.036   \n",
       "2          0.00489                 0.060833                0.102   \n",
       "3          0.00533                 0.038833                0.080   \n",
       "4          0.00567                 0.068667                0.078   \n",
       "\n",
       "   Defensive Rebound %  Total Rebound %  Assist %  \\\n",
       "0                0.258            0.170     0.068   \n",
       "1                0.064            0.050     0.222   \n",
       "2                0.227            0.164     0.065   \n",
       "3                0.256            0.170     0.157   \n",
       "4                0.247            0.164     0.134   \n",
       "\n",
       "              ...               Turn Over %  Usage %  Offensive Win Shares  \\\n",
       "0             ...                     0.135    0.233              0.251366   \n",
       "1             ...                     0.128    0.268              0.502732   \n",
       "2             ...                     0.123    0.216              0.360656   \n",
       "3             ...                     0.139    0.188              0.502732   \n",
       "4             ...                     0.158    0.261              0.546448   \n",
       "\n",
       "   Defensive Win Shares  Win Shares  Win Shares per 48 minutes  \\\n",
       "0              0.594059    0.355263                   0.561181   \n",
       "1              0.267327    0.416667                   0.567212   \n",
       "2              0.574257    0.434211                   0.569151   \n",
       "3              0.574257    0.543860                   0.577553   \n",
       "4              0.495050    0.548246                   0.578199   \n",
       "\n",
       "   Offensive Box Plus/Minus  Defensive Box Plus Minus  Box Plus Minus  \\\n",
       "0                  0.600559                  0.485348        0.667585   \n",
       "1                  0.639665                  0.459707        0.693297   \n",
       "2                  0.614525                  0.503663        0.690542   \n",
       "3                  0.630354                  0.520147        0.715335   \n",
       "4                  0.635940                  0.496337        0.707071   \n",
       "\n",
       "   Value of Replacement Player  \n",
       "0                     0.233577  \n",
       "1                     0.401460  \n",
       "2                     0.379562  \n",
       "3                     0.532847  \n",
       "4                     0.481752  \n",
       "\n",
       "[5 rows x 22 columns]"
      ]
     },
     "execution_count": 44,
     "metadata": {},
     "output_type": "execute_result"
    }
   ],
   "source": [
    "for col_name in data.columns:\n",
    "    if '%' in col_name:\n",
    "        data[col_name] /= 100.\n",
    "    else:\n",
    "        a = data[col_name]\n",
    "        a = a - a.min()\n",
    "        a = a / a.max()\n",
    "        data[col_name] = a\n",
    "\n",
    "data.head()"
   ]
  },
  {
   "cell_type": "markdown",
   "metadata": {},
   "source": [
    "## Divide data into train/test"
   ]
  },
  {
   "cell_type": "code",
   "execution_count": 45,
   "metadata": {
    "collapsed": true
   },
   "outputs": [],
   "source": [
    "def get(df, predict_col_name):\n",
    "    Y = df[predict_col_name]\n",
    "    X = df.loc[:, df.columns != predict_col_name]\n",
    "    return X.as_matrix(), Y.as_matrix()\n",
    "\n",
    "\n",
    "data = shuffle(data)\n",
    "train_percentage = 0.8\n",
    "l = int(len(data) * train_percentage)\n",
    "train_data = data.iloc[: l, :]\n",
    "test_data = data.iloc[l :, :]\n",
    "\n",
    "dependent_variable = 'Defensive Rebound %'\n",
    "train_x, train_y = get(train_data, dependent_variable)\n",
    "test_x, test_y = get(test_data, dependent_variable)"
   ]
  },
  {
   "cell_type": "code",
   "execution_count": 46,
   "metadata": {},
   "outputs": [
    {
     "data": {
      "text/plain": [
       "(13424, 21)"
      ]
     },
     "execution_count": 46,
     "metadata": {},
     "output_type": "execute_result"
    }
   ],
   "source": [
    "train_x.shape"
   ]
  },
  {
   "cell_type": "markdown",
   "metadata": {},
   "source": [
    "# Training"
   ]
  },
  {
   "cell_type": "code",
   "execution_count": 47,
   "metadata": {},
   "outputs": [
    {
     "name": "stdout",
     "output_type": "stream",
     "text": [
      "_________________________________________________________________\n",
      "Layer (type)                 Output Shape              Param #   \n",
      "=================================================================\n",
      "input_3 (InputLayer)         (None, 21)                0         \n",
      "_________________________________________________________________\n",
      "dense_7 (Dense)              (None, 64)                1408      \n",
      "_________________________________________________________________\n",
      "dense_8 (Dense)              (None, 32)                2080      \n",
      "_________________________________________________________________\n",
      "dense_9 (Dense)              (None, 1)                 33        \n",
      "=================================================================\n",
      "Total params: 3,521\n",
      "Trainable params: 3,521\n",
      "Non-trainable params: 0\n",
      "_________________________________________________________________\n"
     ]
    }
   ],
   "source": [
    "net_input = Input(shape=(train_x.shape[1],))\n",
    "x = Dense(64, activation='sigmoid')(net_input)\n",
    "x = Dense(32, activation='tanh')(x)\n",
    "out = Dense(1, activation='sigmoid')(x)\n",
    "\n",
    "model = Model(inputs=net_input, outputs=out)\n",
    "model.compile(optimizer='sgd', loss='mse')\n",
    "model.summary()"
   ]
  },
  {
   "cell_type": "code",
   "execution_count": 48,
   "metadata": {},
   "outputs": [
    {
     "name": "stdout",
     "output_type": "stream",
     "text": [
      "Train on 13424 samples, validate on 3357 samples\n",
      "Epoch 1/50\n",
      "13424/13424 [==============================] - 0s - loss: 0.1393 - val_loss: 0.0212\n",
      "Epoch 2/50\n",
      "13424/13424 [==============================] - 0s - loss: 0.0116 - val_loss: 0.0071\n",
      "Epoch 3/50\n",
      "13424/13424 [==============================] - 0s - loss: 0.0058 - val_loss: 0.0051\n",
      "Epoch 4/50\n",
      "13424/13424 [==============================] - 0s - loss: 0.0048 - val_loss: 0.0046\n",
      "Epoch 5/50\n",
      "13424/13424 [==============================] - 0s - loss: 0.0045 - val_loss: 0.0044\n",
      "Epoch 6/50\n",
      "13424/13424 [==============================] - 0s - loss: 0.0044 - val_loss: 0.0044\n",
      "Epoch 7/50\n",
      "13424/13424 [==============================] - 0s - loss: 0.0043 - val_loss: 0.0044\n",
      "Epoch 8/50\n",
      "13424/13424 [==============================] - 0s - loss: 0.0043 - val_loss: 0.0043\n",
      "Epoch 9/50\n",
      "13424/13424 [==============================] - 0s - loss: 0.0043 - val_loss: 0.0043\n",
      "Epoch 10/50\n",
      "13424/13424 [==============================] - 0s - loss: 0.0043 - val_loss: 0.0043\n",
      "Epoch 11/50\n",
      "13424/13424 [==============================] - 0s - loss: 0.0043 - val_loss: 0.0043\n",
      "Epoch 12/50\n",
      "13424/13424 [==============================] - 0s - loss: 0.0043 - val_loss: 0.0043\n",
      "Epoch 13/50\n",
      "13424/13424 [==============================] - 0s - loss: 0.0043 - val_loss: 0.0043\n",
      "Epoch 14/50\n",
      "13424/13424 [==============================] - 0s - loss: 0.0043 - val_loss: 0.0043\n",
      "Epoch 15/50\n",
      "13424/13424 [==============================] - 0s - loss: 0.0043 - val_loss: 0.0043\n",
      "Epoch 16/50\n",
      "13424/13424 [==============================] - 0s - loss: 0.0043 - val_loss: 0.0043\n",
      "Epoch 17/50\n",
      "13424/13424 [==============================] - 0s - loss: 0.0043 - val_loss: 0.0043\n",
      "Epoch 18/50\n",
      "13424/13424 [==============================] - 0s - loss: 0.0043 - val_loss: 0.0043\n",
      "Epoch 19/50\n",
      "13424/13424 [==============================] - 0s - loss: 0.0043 - val_loss: 0.0043\n",
      "Epoch 20/50\n",
      "13424/13424 [==============================] - 0s - loss: 0.0043 - val_loss: 0.0043\n",
      "Epoch 21/50\n",
      "13424/13424 [==============================] - 0s - loss: 0.0043 - val_loss: 0.0043\n",
      "Epoch 22/50\n",
      "13424/13424 [==============================] - 0s - loss: 0.0043 - val_loss: 0.0043\n",
      "Epoch 23/50\n",
      "13424/13424 [==============================] - 0s - loss: 0.0043 - val_loss: 0.0043\n",
      "Epoch 24/50\n",
      "13424/13424 [==============================] - 0s - loss: 0.0043 - val_loss: 0.0043\n",
      "Epoch 25/50\n",
      "13424/13424 [==============================] - 0s - loss: 0.0043 - val_loss: 0.0043\n",
      "Epoch 26/50\n",
      "13424/13424 [==============================] - 0s - loss: 0.0043 - val_loss: 0.0043\n",
      "Epoch 27/50\n",
      "13424/13424 [==============================] - 0s - loss: 0.0043 - val_loss: 0.0043\n",
      "Epoch 28/50\n",
      "13424/13424 [==============================] - 0s - loss: 0.0043 - val_loss: 0.0043\n",
      "Epoch 29/50\n",
      "13424/13424 [==============================] - 0s - loss: 0.0043 - val_loss: 0.0043\n",
      "Epoch 30/50\n",
      "13424/13424 [==============================] - 0s - loss: 0.0043 - val_loss: 0.0043\n",
      "Epoch 31/50\n",
      "13424/13424 [==============================] - 0s - loss: 0.0043 - val_loss: 0.0043\n",
      "Epoch 32/50\n",
      "13424/13424 [==============================] - 0s - loss: 0.0043 - val_loss: 0.0043\n",
      "Epoch 33/50\n",
      "13424/13424 [==============================] - 0s - loss: 0.0043 - val_loss: 0.0043\n",
      "Epoch 34/50\n",
      "13424/13424 [==============================] - 0s - loss: 0.0043 - val_loss: 0.0043\n",
      "Epoch 35/50\n",
      "13424/13424 [==============================] - 0s - loss: 0.0043 - val_loss: 0.0043\n",
      "Epoch 36/50\n",
      "13424/13424 [==============================] - 0s - loss: 0.0043 - val_loss: 0.0043\n",
      "Epoch 37/50\n",
      "13424/13424 [==============================] - 0s - loss: 0.0043 - val_loss: 0.0043\n",
      "Epoch 38/50\n",
      "13424/13424 [==============================] - 0s - loss: 0.0043 - val_loss: 0.0043\n",
      "Epoch 39/50\n",
      "13424/13424 [==============================] - 0s - loss: 0.0043 - val_loss: 0.0043\n",
      "Epoch 40/50\n",
      "13424/13424 [==============================] - 0s - loss: 0.0043 - val_loss: 0.0043\n",
      "Epoch 41/50\n",
      "13424/13424 [==============================] - 0s - loss: 0.0043 - val_loss: 0.0043\n",
      "Epoch 42/50\n",
      "13424/13424 [==============================] - 0s - loss: 0.0043 - val_loss: 0.0043\n",
      "Epoch 43/50\n",
      "13424/13424 [==============================] - 0s - loss: 0.0043 - val_loss: 0.0043\n",
      "Epoch 44/50\n",
      "13424/13424 [==============================] - 0s - loss: 0.0043 - val_loss: 0.0043\n",
      "Epoch 45/50\n",
      "13424/13424 [==============================] - 0s - loss: 0.0043 - val_loss: 0.0043\n",
      "Epoch 46/50\n",
      "13424/13424 [==============================] - 0s - loss: 0.0043 - val_loss: 0.0043\n",
      "Epoch 47/50\n",
      "13424/13424 [==============================] - 0s - loss: 0.0043 - val_loss: 0.0043\n",
      "Epoch 48/50\n",
      "13424/13424 [==============================] - 0s - loss: 0.0043 - val_loss: 0.0043\n",
      "Epoch 49/50\n",
      "13424/13424 [==============================] - 0s - loss: 0.0043 - val_loss: 0.0043\n",
      "Epoch 50/50\n",
      "13424/13424 [==============================] - 0s - loss: 0.0043 - val_loss: 0.0043\n"
     ]
    },
    {
     "data": {
      "text/plain": [
       "<keras.callbacks.History at 0x11b625f98>"
      ]
     },
     "execution_count": 48,
     "metadata": {},
     "output_type": "execute_result"
    }
   ],
   "source": [
    "model.fit(train_x, train_y, batch_size=256, epochs=50, validation_data=(test_x, test_y))"
   ]
  },
  {
   "cell_type": "markdown",
   "metadata": {},
   "source": [
    "# Shots Data Import"
   ]
  },
  {
   "cell_type": "code",
   "execution_count": 49,
   "metadata": {
    "collapsed": true
   },
   "outputs": [],
   "source": [
    "shots=pd.read_csv('shots1.csv')\n",
    "shots=shots.iloc[:,3:31]\n",
    "y=shots['NBA_FANTASY_PTS']\n",
    "del shots['NBA_FANTASY_PTS']\n",
    "x=shots\n",
    "shots=shots.dropna(axis=0,how='any')"
   ]
  },
  {
   "cell_type": "markdown",
   "metadata": {},
   "source": [
    "# Training and Testing Sets"
   ]
  },
  {
   "cell_type": "code",
   "execution_count": 50,
   "metadata": {
    "collapsed": true
   },
   "outputs": [],
   "source": [
    "x_train,x_test, y_train,y_test=train_test_split(x,y,test_size=0.3,random_state=42)"
   ]
  },
  {
   "cell_type": "markdown",
   "metadata": {},
   "source": [
    "# Gradient Boosting Regression"
   ]
  },
  {
   "cell_type": "code",
   "execution_count": 59,
   "metadata": {},
   "outputs": [
    {
     "name": "stdout",
     "output_type": "stream",
     "text": [
      "0.31524591915\n"
     ]
    }
   ],
   "source": [
    "params = {'n_estimators': 500, 'max_depth': 4, 'min_samples_split': 2,\n",
    "          'learning_rate': 0.01, 'loss': 'ls'}\n",
    "grad=GradientBoostingRegressor(**params)\n",
    "fit=grad.fit(x_train,y_train)\n",
    "predict=grad.predict(x_test)\n",
    "mse=mean_squared_error(y_test,predict)\n",
    "print(mse)"
   ]
  },
  {
   "cell_type": "markdown",
   "metadata": {},
   "source": [
    "# Plotting the Loss Function for Gradient Boosting"
   ]
  },
  {
   "cell_type": "code",
   "execution_count": 52,
   "metadata": {},
   "outputs": [
    {
     "name": "stdout",
     "output_type": "stream",
     "text": [
      "Aw, snap! We don't have an account for ''. Want to try again? You can authenticate with your email address or username. Sign in is not case sensitive.\n",
      "\n",
      "Don't have an account? plot.ly\n",
      "\n",
      "Questions? support@plot.ly\n"
     ]
    },
    {
     "data": {
      "text/plain": [
       "''"
      ]
     },
     "execution_count": 52,
     "metadata": {},
     "output_type": "execute_result"
    }
   ],
   "source": [
    "test_score = np.zeros((params['n_estimators'],), dtype=np.float64)\n",
    "for i, y_pred in enumerate(predict):\n",
    "    test_score[i] = grad.loss_(y_test, y_pred)\n",
    "\n",
    "train = go.Scatter(x=np.arange(params['n_estimators']) + 1, \n",
    "                   y=grad.train_score_, \n",
    "                   name='Training Set Deviance',\n",
    "                   mode='lines',\n",
    "                   line=dict(color='blue')\n",
    "                  )\n",
    "test = go.Scatter(x=np.arange(params['n_estimators']) + 1, \n",
    "                  y=test_score, \n",
    "                  mode='lines',\n",
    "                  name='Test Set Deviance',\n",
    "                  line=dict(color='red')\n",
    "                 )\n",
    "\n",
    "layout = go.Layout(title='Deviance',\n",
    "                   xaxis=dict(title='Boosting Iterations'),\n",
    "                   yaxis=dict(title='Deviance')\n",
    "                  )\n",
    "\n",
    "fig = go.Figure(data=[test, train], layout=layout)\n",
    "py.plot(fig)  "
   ]
  },
  {
   "cell_type": "markdown",
   "metadata": {},
   "source": [
    "# Plotting the Feature Importance obtained from Gradient Boosting Model"
   ]
  },
  {
   "cell_type": "code",
   "execution_count": 53,
   "metadata": {},
   "outputs": [
    {
     "name": "stdout",
     "output_type": "stream",
     "text": [
      "Aw, snap! We don't have an account for ''. Want to try again? You can authenticate with your email address or username. Sign in is not case sensitive.\n",
      "\n",
      "Don't have an account? plot.ly\n",
      "\n",
      "Questions? support@plot.ly\n"
     ]
    },
    {
     "data": {
      "text/plain": [
       "''"
      ]
     },
     "execution_count": 53,
     "metadata": {},
     "output_type": "execute_result"
    }
   ],
   "source": [
    "feature_importance = grad.feature_importances_\n",
    "\n",
    "# make importances relative to max importance\n",
    "feature_importance = 100.0 * (feature_importance / feature_importance.max())\n",
    "sorted_idx = np.argsort(feature_importance)\n",
    "pos = np.arange(sorted_idx.shape[0]) + .5\n",
    "trace = go.Bar(x=feature_importance[sorted_idx],\n",
    "               y=shots.columns[sorted_idx],\n",
    "               orientation = 'h'\n",
    "              )\n",
    "\n",
    "layout = go.Layout(xaxis=dict(title='Relative Importance'),\n",
    "                   yaxis=dict(title='Variable Importance')\n",
    "                  )\n",
    "fig = go.Figure(data=[trace], layout=layout)\n",
    "py.plot(fig) "
   ]
  },
  {
   "cell_type": "markdown",
   "metadata": {},
   "source": [
    "# Neural Network Prediction for Shots1 Dataset"
   ]
  },
  {
   "cell_type": "code",
   "execution_count": 54,
   "metadata": {},
   "outputs": [
    {
     "name": "stdout",
     "output_type": "stream",
     "text": [
      "Index(['AGE', 'GP', 'W', 'L', 'W_PCT', 'MIN', 'FGM', 'FGA', 'FG_PCT', 'FG3M',\n",
      "       'FG3A', 'FG3_PCT', 'FTM', 'FTA', 'FT_PCT', 'OREB', 'DREB', 'REB', 'AST',\n",
      "       'TOV', 'STL', 'BLK', 'BLKA', 'PF', 'PFD', 'PTS', 'PLUS_MINUS',\n",
      "       'NBA_FANTASY_PTS'],\n",
      "      dtype='object')\n"
     ]
    }
   ],
   "source": [
    "data = pd.read_csv('./shots1.csv')\n",
    "for name in data.columns:\n",
    "    if 'Unnamed' in name:\n",
    "        del data[name]\n",
    "print(data.columns)"
   ]
  },
  {
   "cell_type": "code",
   "execution_count": 55,
   "metadata": {},
   "outputs": [
    {
     "name": "stdout",
     "output_type": "stream",
     "text": [
      "434\n",
      "434\n"
     ]
    }
   ],
   "source": [
    "print(len(data))\n",
    "data = data.dropna(axis=0, how='any')\n",
    "print(len(data))"
   ]
  },
  {
   "cell_type": "markdown",
   "metadata": {},
   "source": [
    "# Normalize & visualize data"
   ]
  },
  {
   "cell_type": "code",
   "execution_count": 56,
   "metadata": {},
   "outputs": [
    {
     "data": {
      "text/plain": [
       "<matplotlib.axes._subplots.AxesSubplot at 0x11deb6438>"
      ]
     },
     "execution_count": 56,
     "metadata": {},
     "output_type": "execute_result"
    },
    {
     "data": {
      "image/png": "[encoded data removed]",
      "text/plain": [
       "<matplotlib.figure.Figure at 0x11d7835c0>"
      ]
     },
     "metadata": {},
     "output_type": "display_data"
    }
   ],
   "source": [
    "for col_name in data.columns:\n",
    "    if '_PCT' in col_name:\n",
    "        data[col_name] /= 1.\n",
    "    else:\n",
    "        a = data[col_name]\n",
    "        a = a - a.min()\n",
    "        a = a / a.max()\n",
    "        data[col_name] = a\n",
    "\n",
    "data.head()\n",
    "heatmap(data.corr())"
   ]
  },
  {
   "cell_type": "markdown",
   "metadata": {},
   "source": [
    "# Divide data into train/test"
   ]
  },
  {
   "cell_type": "code",
   "execution_count": 57,
   "metadata": {},
   "outputs": [
    {
     "name": "stdout",
     "output_type": "stream",
     "text": [
      "train input shape: (347, 27)\n",
      "test  input shape: (87, 27)\n"
     ]
    }
   ],
   "source": [
    "def get(df, predict_col_name):\n",
    "    Y = df[predict_col_name]\n",
    "    X = df.loc[:, df.columns != predict_col_name]\n",
    "    return X.as_matrix(), Y.as_matrix()\n",
    "\n",
    "\n",
    "data = shuffle(data)\n",
    "train_percentage = 0.8\n",
    "l = int(len(data) * train_percentage)\n",
    "train_data = data.iloc[: l, :]\n",
    "test_data = data.iloc[l :, :]\n",
    "\n",
    "dependent_variable = 'NBA_FANTASY_PTS'\n",
    "train_x, train_y = get(train_data, dependent_variable)\n",
    "test_x, test_y = get(test_data, dependent_variable)\n",
    "\n",
    "print('train input shape:', train_x.shape)\n",
    "print('test  input shape:', test_x.shape)"
   ]
  },
  {
   "cell_type": "markdown",
   "metadata": {},
   "source": [
    "# Neural Network Training"
   ]
  },
  {
   "cell_type": "code",
   "execution_count": 58,
   "metadata": {},
   "outputs": [
    {
     "name": "stdout",
     "output_type": "stream",
     "text": [
      "_________________________________________________________________\n",
      "Layer (type)                 Output Shape              Param #   \n",
      "=================================================================\n",
      "input_4 (InputLayer)         (None, 27)                0         \n",
      "_________________________________________________________________\n",
      "dense_10 (Dense)             (None, 64)                1792      \n",
      "_________________________________________________________________\n",
      "dense_11 (Dense)             (None, 32)                2080      \n",
      "_________________________________________________________________\n",
      "dense_12 (Dense)             (None, 1)                 33        \n",
      "=================================================================\n",
      "Total params: 3,905\n",
      "Trainable params: 3,905\n",
      "Non-trainable params: 0\n",
      "_________________________________________________________________\n"
     ]
    }
   ],
   "source": [
    "net_input = Input(shape=(train_x.shape[1],))\n",
    "x = Dense(64, activation='sigmoid')(net_input)\n",
    "x = Dense(32, activation='tanh')(x)\n",
    "out = Dense(1, activation='sigmoid')(x)\n",
    "\n",
    "model = Model(inputs=net_input, outputs=out)\n",
    "model.compile(optimizer='adam', loss='mse')\n",
    "model.summary()"
   ]
  },
  {
   "cell_type": "code",
   "execution_count": null,
   "metadata": {
    "collapsed": true
   },
   "outputs": [],
   "source": [
    "model.fit(train_x, \n",
    "          train_y, \n",
    "          batch_size=256, \n",
    "          epochs=500, \n",
    "          validation_data=(test_x, test_y), \n",
    "          callbacks=[TensorBoard(log_dir='./train_logs/')])"
   ]
  }
 ],
 "metadata": {
  "kernelspec": {
   "display_name": "Python 3",
   "language": "python",
   "name": "python3"
  },
  "language_info": {
   "codemirror_mode": {
    "name": "ipython",
    "version": 3
   },
   "file_extension": ".py",
   "mimetype": "text/x-python",
   "name": "python",
   "nbconvert_exporter": "python",
   "pygments_lexer": "ipython3",
   "version": "3.6.1"
  }
 },
 "nbformat": 4,
 "nbformat_minor": 2
}
