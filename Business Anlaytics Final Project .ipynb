{
 "cells": [
  {
   "cell_type": "markdown",
   "metadata": {},
   "source": [
    "## Abstract"
   ]
  },
  {
   "cell_type": "markdown",
   "metadata": {
    "collapsed": true
   },
   "source": [
    "The goal of our project is to see how likely a patient who suffers from diabetes is to return to a hospital after discharge, based on a sample of about 80,000 people. The data includes demographic information, laboratory testing done while the patient was in the hospital and a few more variables. We will use different machine learning algorithms (e.g. Logistic Regression, Random Forest) to predict patient readmission. In addition, we will use Linear Probability model to understand the exact impact of independent variables on our dependent variable and Logistic Regression to see\n",
    "whether the features have the same influence on males and females regarding their readmission to the hospital."
   ]
  },
  {
   "cell_type": "markdown",
   "metadata": {},
   "source": [
    "### Motivation\n",
    "\n",
    "In US hospitals, readmission is usually considered a measure of quality check for the hospitals, because in case of proper medical treatment, readmission rates are likely to be low. In addition, as many hospitals have capacity limitations and constant need of optmimization, understanding whether the patient will return or not within a specific time period can solve logistic and resource utilization problems."
   ]
  },
  {
   "cell_type": "markdown",
   "metadata": {},
   "source": [
    "### Importing libraries"
   ]
  },
  {
   "cell_type": "code",
   "execution_count": 141,
   "metadata": {},
   "outputs": [
    {
     "data": {
      "text/html": [
       "<script>requirejs.config({paths: { 'plotly': ['https://cdn.plot.ly/plotly-latest.min']},});if(!window.Plotly) {{require(['plotly'],function(plotly) {window.Plotly=plotly;});}}</script>"
      ],
      "text/vnd.plotly.v1+html": [
       "<script>requirejs.config({paths: { 'plotly': ['https://cdn.plot.ly/plotly-latest.min']},});if(!window.Plotly) {{require(['plotly'],function(plotly) {window.Plotly=plotly;});}}</script>"
      ]
     },
     "metadata": {},
     "output_type": "display_data"
    }
   ],
   "source": [
    "import pandas as pd\n",
    "import numpy as np\n",
    "\n",
    "import plotly as ply\n",
    "import plotly.plotly as py\n",
    "import plotly.figure_factory as ff\n",
    "ply.offline.init_notebook_mode(connected=True)\n",
    "\n",
    "from plotly.offline import plot, iplot, init_notebook_mode\n",
    "import plotly.graph_objs as go\n",
    "\n",
    "from sklearn.tree import DecisionTreeClassifier\n",
    "from sklearn.linear_model import LogisticRegression\n",
    "from sklearn.ensemble import RandomForestClassifier, GradientBoostingClassifier\n",
    "\n",
    "from sklearn.metrics import recall_score, roc_auc_score\n",
    "from sklearn.model_selection import train_test_split, cross_val_score\n",
    "from sklearn.model_selection import GridSearchCV, RandomizedSearchCV\n",
    "\n",
    "import matplotlib.pyplot as plt\n",
    "import seaborn as sns\n",
    "\n",
    "from pprint import pprint\n",
    "\n",
    "import scipy.stats as stats\n",
    "\n",
    "import statsmodels.api as sm\n",
    "\n",
    "%matplotlib inline"
   ]
  },
  {
   "cell_type": "code",
   "execution_count": 142,
   "metadata": {
    "collapsed": true
   },
   "outputs": [],
   "source": [
    "pd.set_option('display.max_columns', 500)\n",
    "#ply.tools.set_credentials_file(username='karengishyan', api_key='sPpmUiFypulPlsLHcy6l')\n",
    "ply.tools.set_credentials_file(username='dvmartirosyan', api_key='GuoIe9Os3ECwJAJX629I')"
   ]
  },
  {
   "cell_type": "markdown",
   "metadata": {},
   "source": [
    "## Descriptive Analytics"
   ]
  },
  {
   "cell_type": "code",
   "execution_count": 143,
   "metadata": {
    "collapsed": true
   },
   "outputs": [],
   "source": [
    "data = pd.read_csv(\"data.csv\")"
   ]
  },
  {
   "cell_type": "code",
   "execution_count": 144,
   "metadata": {},
   "outputs": [
    {
     "data": {
      "text/html": [
       "<div>\n",
       "<style>\n",
       "    .dataframe thead tr:only-child th {\n",
       "        text-align: right;\n",
       "    }\n",
       "\n",
       "    .dataframe thead th {\n",
       "        text-align: left;\n",
       "    }\n",
       "\n",
       "    .dataframe tbody tr th {\n",
       "        vertical-align: top;\n",
       "    }\n",
       "</style>\n",
       "<table border=\"1\" class=\"dataframe\">\n",
       "  <thead>\n",
       "    <tr style=\"text-align: right;\">\n",
       "      <th></th>\n",
       "      <th>race</th>\n",
       "      <th>gender</th>\n",
       "      <th>time_in_hospital</th>\n",
       "      <th>num_lab_procedures</th>\n",
       "      <th>num_procedures</th>\n",
       "      <th>num_medications</th>\n",
       "      <th>number_outpatient</th>\n",
       "      <th>number_emergency</th>\n",
       "      <th>number_inpatient</th>\n",
       "      <th>number_diagnoses</th>\n",
       "      <th>max_glu_serum</th>\n",
       "      <th>A1Cresult</th>\n",
       "      <th>metformin</th>\n",
       "      <th>glimepiride</th>\n",
       "      <th>glipizide</th>\n",
       "      <th>glyburide</th>\n",
       "      <th>pioglitazone</th>\n",
       "      <th>rosiglitazone</th>\n",
       "      <th>insulin</th>\n",
       "      <th>change</th>\n",
       "      <th>diabetesMed</th>\n",
       "      <th>disch_disp_modified</th>\n",
       "      <th>adm_src_mod</th>\n",
       "      <th>adm_typ_mod</th>\n",
       "      <th>age_mod</th>\n",
       "      <th>diag1_mod</th>\n",
       "      <th>diag2_mod</th>\n",
       "      <th>diag3_mod</th>\n",
       "      <th>readmission</th>\n",
       "    </tr>\n",
       "  </thead>\n",
       "  <tbody>\n",
       "    <tr>\n",
       "      <th>0</th>\n",
       "      <td>Caucasian</td>\n",
       "      <td>Female</td>\n",
       "      <td>13</td>\n",
       "      <td>68</td>\n",
       "      <td>2</td>\n",
       "      <td>28</td>\n",
       "      <td>0</td>\n",
       "      <td>0</td>\n",
       "      <td>0</td>\n",
       "      <td>8</td>\n",
       "      <td>None</td>\n",
       "      <td>None</td>\n",
       "      <td>No</td>\n",
       "      <td>No</td>\n",
       "      <td>Steady</td>\n",
       "      <td>No</td>\n",
       "      <td>No</td>\n",
       "      <td>No</td>\n",
       "      <td>Steady</td>\n",
       "      <td>Ch</td>\n",
       "      <td>Yes</td>\n",
       "      <td>Discharged to home</td>\n",
       "      <td>Other</td>\n",
       "      <td>Urgent</td>\n",
       "      <td>80+</td>\n",
       "      <td>Other</td>\n",
       "      <td>427</td>\n",
       "      <td>Other</td>\n",
       "      <td>NO</td>\n",
       "    </tr>\n",
       "    <tr>\n",
       "      <th>1</th>\n",
       "      <td>Caucasian</td>\n",
       "      <td>Female</td>\n",
       "      <td>12</td>\n",
       "      <td>33</td>\n",
       "      <td>3</td>\n",
       "      <td>18</td>\n",
       "      <td>0</td>\n",
       "      <td>0</td>\n",
       "      <td>0</td>\n",
       "      <td>8</td>\n",
       "      <td>None</td>\n",
       "      <td>None</td>\n",
       "      <td>No</td>\n",
       "      <td>No</td>\n",
       "      <td>No</td>\n",
       "      <td>No</td>\n",
       "      <td>No</td>\n",
       "      <td>Steady</td>\n",
       "      <td>Steady</td>\n",
       "      <td>Ch</td>\n",
       "      <td>Yes</td>\n",
       "      <td>Discharged/Transferred to SNF</td>\n",
       "      <td>Other</td>\n",
       "      <td>Elective</td>\n",
       "      <td>80+</td>\n",
       "      <td>434</td>\n",
       "      <td>Other</td>\n",
       "      <td>Other</td>\n",
       "      <td>NO</td>\n",
       "    </tr>\n",
       "    <tr>\n",
       "      <th>2</th>\n",
       "      <td>Caucasian</td>\n",
       "      <td>Male</td>\n",
       "      <td>1</td>\n",
       "      <td>51</td>\n",
       "      <td>0</td>\n",
       "      <td>8</td>\n",
       "      <td>0</td>\n",
       "      <td>0</td>\n",
       "      <td>0</td>\n",
       "      <td>5</td>\n",
       "      <td>None</td>\n",
       "      <td>None</td>\n",
       "      <td>No</td>\n",
       "      <td>No</td>\n",
       "      <td>Steady</td>\n",
       "      <td>No</td>\n",
       "      <td>No</td>\n",
       "      <td>No</td>\n",
       "      <td>Steady</td>\n",
       "      <td>Ch</td>\n",
       "      <td>Yes</td>\n",
       "      <td>Discharged to home</td>\n",
       "      <td>Emergency Room</td>\n",
       "      <td>Emergency</td>\n",
       "      <td>20-59</td>\n",
       "      <td>Other</td>\n",
       "      <td>Other</td>\n",
       "      <td>250</td>\n",
       "      <td>NO</td>\n",
       "    </tr>\n",
       "    <tr>\n",
       "      <th>3</th>\n",
       "      <td>AfricanAmerican</td>\n",
       "      <td>Female</td>\n",
       "      <td>9</td>\n",
       "      <td>47</td>\n",
       "      <td>2</td>\n",
       "      <td>17</td>\n",
       "      <td>0</td>\n",
       "      <td>0</td>\n",
       "      <td>0</td>\n",
       "      <td>9</td>\n",
       "      <td>None</td>\n",
       "      <td>None</td>\n",
       "      <td>No</td>\n",
       "      <td>No</td>\n",
       "      <td>No</td>\n",
       "      <td>No</td>\n",
       "      <td>No</td>\n",
       "      <td>No</td>\n",
       "      <td>Steady</td>\n",
       "      <td>No</td>\n",
       "      <td>Yes</td>\n",
       "      <td>Discharged to home</td>\n",
       "      <td>Emergency Room</td>\n",
       "      <td>Emergency</td>\n",
       "      <td>20-59</td>\n",
       "      <td>Other</td>\n",
       "      <td>403</td>\n",
       "      <td>Other</td>\n",
       "      <td>YES</td>\n",
       "    </tr>\n",
       "    <tr>\n",
       "      <th>4</th>\n",
       "      <td>AfricanAmerican</td>\n",
       "      <td>Male</td>\n",
       "      <td>7</td>\n",
       "      <td>62</td>\n",
       "      <td>0</td>\n",
       "      <td>11</td>\n",
       "      <td>0</td>\n",
       "      <td>0</td>\n",
       "      <td>0</td>\n",
       "      <td>7</td>\n",
       "      <td>None</td>\n",
       "      <td>None</td>\n",
       "      <td>No</td>\n",
       "      <td>No</td>\n",
       "      <td>No</td>\n",
       "      <td>Up</td>\n",
       "      <td>No</td>\n",
       "      <td>No</td>\n",
       "      <td>Steady</td>\n",
       "      <td>Ch</td>\n",
       "      <td>Yes</td>\n",
       "      <td>Discharged to home</td>\n",
       "      <td>Other</td>\n",
       "      <td>Urgent</td>\n",
       "      <td>60-79</td>\n",
       "      <td>Other</td>\n",
       "      <td>Other</td>\n",
       "      <td>Other</td>\n",
       "      <td>YES</td>\n",
       "    </tr>\n",
       "  </tbody>\n",
       "</table>\n",
       "</div>"
      ],
      "text/plain": [
       "              race  gender  time_in_hospital  num_lab_procedures  \\\n",
       "0        Caucasian  Female                13                  68   \n",
       "1        Caucasian  Female                12                  33   \n",
       "2        Caucasian    Male                 1                  51   \n",
       "3  AfricanAmerican  Female                 9                  47   \n",
       "4  AfricanAmerican    Male                 7                  62   \n",
       "\n",
       "   num_procedures  num_medications  number_outpatient  number_emergency  \\\n",
       "0               2               28                  0                 0   \n",
       "1               3               18                  0                 0   \n",
       "2               0                8                  0                 0   \n",
       "3               2               17                  0                 0   \n",
       "4               0               11                  0                 0   \n",
       "\n",
       "   number_inpatient  number_diagnoses max_glu_serum A1Cresult metformin  \\\n",
       "0                 0                 8          None      None        No   \n",
       "1                 0                 8          None      None        No   \n",
       "2                 0                 5          None      None        No   \n",
       "3                 0                 9          None      None        No   \n",
       "4                 0                 7          None      None        No   \n",
       "\n",
       "  glimepiride glipizide glyburide pioglitazone rosiglitazone insulin change  \\\n",
       "0          No    Steady        No           No            No  Steady     Ch   \n",
       "1          No        No        No           No        Steady  Steady     Ch   \n",
       "2          No    Steady        No           No            No  Steady     Ch   \n",
       "3          No        No        No           No            No  Steady     No   \n",
       "4          No        No        Up           No            No  Steady     Ch   \n",
       "\n",
       "  diabetesMed            disch_disp_modified     adm_src_mod adm_typ_mod  \\\n",
       "0         Yes             Discharged to home           Other      Urgent   \n",
       "1         Yes  Discharged/Transferred to SNF           Other    Elective   \n",
       "2         Yes             Discharged to home  Emergency Room   Emergency   \n",
       "3         Yes             Discharged to home  Emergency Room   Emergency   \n",
       "4         Yes             Discharged to home           Other      Urgent   \n",
       "\n",
       "  age_mod diag1_mod diag2_mod diag3_mod readmission  \n",
       "0     80+     Other       427     Other          NO  \n",
       "1     80+       434     Other     Other          NO  \n",
       "2   20-59     Other     Other       250          NO  \n",
       "3   20-59     Other       403     Other         YES  \n",
       "4   60-79     Other     Other     Other         YES  "
      ]
     },
     "execution_count": 144,
     "metadata": {},
     "output_type": "execute_result"
    }
   ],
   "source": [
    "data.head(5)"
   ]
  },
  {
   "cell_type": "code",
   "execution_count": 145,
   "metadata": {},
   "outputs": [
    {
     "name": "stdout",
     "output_type": "stream",
     "text": [
      "<class 'pandas.core.frame.DataFrame'>\n",
      "RangeIndex: 81414 entries, 0 to 81413\n",
      "Data columns (total 29 columns):\n",
      "race                   81414 non-null object\n",
      "gender                 81414 non-null object\n",
      "time_in_hospital       81414 non-null int64\n",
      "num_lab_procedures     81414 non-null int64\n",
      "num_procedures         81414 non-null int64\n",
      "num_medications        81414 non-null int64\n",
      "number_outpatient      81414 non-null int64\n",
      "number_emergency       81414 non-null int64\n",
      "number_inpatient       81414 non-null int64\n",
      "number_diagnoses       81414 non-null int64\n",
      "max_glu_serum          81414 non-null object\n",
      "A1Cresult              81414 non-null object\n",
      "metformin              81414 non-null object\n",
      "glimepiride            81414 non-null object\n",
      "glipizide              81414 non-null object\n",
      "glyburide              81414 non-null object\n",
      "pioglitazone           81414 non-null object\n",
      "rosiglitazone          81414 non-null object\n",
      "insulin                81414 non-null object\n",
      "change                 81414 non-null object\n",
      "diabetesMed            81414 non-null object\n",
      "disch_disp_modified    81414 non-null object\n",
      "adm_src_mod            81414 non-null object\n",
      "adm_typ_mod            81414 non-null object\n",
      "age_mod                81414 non-null object\n",
      "diag1_mod              81414 non-null object\n",
      "diag2_mod              81414 non-null object\n",
      "diag3_mod              81414 non-null object\n",
      "readmission            81414 non-null object\n",
      "dtypes: int64(8), object(21)\n",
      "memory usage: 18.0+ MB\n"
     ]
    }
   ],
   "source": [
    "data.info()"
   ]
  },
  {
   "cell_type": "code",
   "execution_count": 146,
   "metadata": {
    "collapsed": true
   },
   "outputs": [],
   "source": [
    "# Splitting data into numeric and non-numeric parts\n",
    "data_numeric = data.select_dtypes(exclude=[\"object\"])\n",
    "data_obj = data.select_dtypes(include=[\"object\"])"
   ]
  },
  {
   "cell_type": "code",
   "execution_count": 147,
   "metadata": {},
   "outputs": [
    {
     "data": {
      "image/png": "[encoded data removed]",
      "text/plain": [
       "<matplotlib.figure.Figure at 0x1c1f7c5048>"
      ]
     },
     "metadata": {},
     "output_type": "display_data"
    }
   ],
   "source": [
    "plt.figure(figsize=(15,8))\n",
    "sns.heatmap(data_numeric.corr(),annot=True);\n",
    "# As we can see from above, there are no high correlated variables."
   ]
  },
  {
   "cell_type": "code",
   "execution_count": 148,
   "metadata": {},
   "outputs": [
    {
     "data": {
      "text/plain": [
       "NO     43892\n",
       "YES    37522\n",
       "Name: readmission, dtype: int64"
      ]
     },
     "execution_count": 148,
     "metadata": {},
     "output_type": "execute_result"
    }
   ],
   "source": [
    "# Checking the frequency of \"YES\" vs \"NO\" values in readmission column. As we can see the classes are quite balanced.\n",
    "data_obj.readmission.value_counts()"
   ]
  },
  {
   "cell_type": "code",
   "execution_count": 149,
   "metadata": {},
   "outputs": [
    {
     "data": {
      "image/png": "[encoded data removed]",
      "text/plain": [
       "<matplotlib.figure.Figure at 0x1c1eb3b048>"
      ]
     },
     "metadata": {},
     "output_type": "display_data"
    }
   ],
   "source": [
    "# Visualizing\n",
    "plt.figure(figsize=(10,4))\n",
    "sns.set_style(\"darkgrid\")\n",
    "g = sns.countplot(y=data_obj.readmission,palette=['red','blue'])\n",
    "g.set(xticks=list(range(0,50000,5000)))\n",
    "g.set_ylabel('readmission', fontsize=15)\n",
    "g.set_xlabel('count', fontsize=15);"
   ]
  },
  {
   "cell_type": "code",
   "execution_count": 150,
   "metadata": {},
   "outputs": [
    {
     "name": "stderr",
     "output_type": "stream",
     "text": [
      "/Users/davitmartirosyan/anaconda3/lib/python3.6/site-packages/plotly/plotly/plotly.py:224: UserWarning:\n",
      "\n",
      "Woah there! Look at all those points! Due to browser limitations, the Plotly SVG drawing functions have a hard time graphing more than 500k data points for line charts, or 40k points for other types of charts. Here are some suggestions:\n",
      "(1) Use the `plotly.graph_objs.Scattergl` trace object to generate a WebGl graph.\n",
      "(2) Trying using the image API to return an image instead of a graph URL\n",
      "(3) Use matplotlib\n",
      "(4) See if you can create your visualization with fewer data points\n",
      "\n",
      "If the visualization you're using aggregates points (e.g., box plot, histogram, etc.) you can disregard this warning.\n",
      "\n"
     ]
    },
    {
     "name": "stdout",
     "output_type": "stream",
     "text": [
      "High five! You successfully sent some data to your account on plotly. View your plot in your browser at https://plot.ly/~dvmartirosyan/0 or inside your plot.ly account where it is named 'pandas-box-plot.html'\n"
     ]
    },
    {
     "data": {
      "text/html": [
       "<iframe id=\"igraph\" scrolling=\"no\" style=\"border:none;\" seamless=\"seamless\" src=\"https://plot.ly/~dvmartirosyan/0.embed\" height=\"525px\" width=\"100%\"></iframe>"
      ],
      "text/plain": [
       "<plotly.tools.PlotlyDisplay object>"
      ]
     },
     "execution_count": 150,
     "metadata": {},
     "output_type": "execute_result"
    }
   ],
   "source": [
    "x = data_numeric[['time_in_hospital','num_lab_procedures','num_medications','number_diagnoses']]\n",
    "l = []\n",
    "for col in x.columns:\n",
    "    l.append(go.Box( y=x[col], name=col, showlegend=False ) )\n",
    "l.append(go.Scatter( x = x.columns, y = x.mean(), mode='lines', name='mean' ) )\n",
    "py.iplot(l, filename='pandas-box-plot.html') # if this code does not work, \n",
    "# try plot(l, filename='pandas-box-plot.html')"
   ]
  },
  {
   "cell_type": "code",
   "execution_count": 151,
   "metadata": {},
   "outputs": [
    {
     "data": {
      "text/html": [
       "<iframe id=\"igraph\" scrolling=\"no\" style=\"border:none;\" seamless=\"seamless\" src=\"https://plot.ly/~dvmartirosyan/4.embed\" height=\"525px\" width=\"100%\"></iframe>"
      ],
      "text/plain": [
       "<plotly.tools.PlotlyDisplay object>"
      ]
     },
     "execution_count": 151,
     "metadata": {},
     "output_type": "execute_result"
    }
   ],
   "source": [
    "x = ['metformin', 'insulin','glimepiride','glipizide','pioglitazone','rosiglitazone','glyburide']\n",
    "y1 = [65374,37965,77240,71291,75515,76262,72860]\n",
    "y2 = [14706,24642,3744,9077,5611,4938,7457]\n",
    "y3=  [478,9775,161,428,96,69,442]\n",
    "y4=  [856,9032,269,618,192,145,655]\n",
    "Trace1 = go.Bar(\n",
    "    x=x,\n",
    "    y=y1,\n",
    "    text=y1,\n",
    "    textposition = 'auto',\n",
    "    marker=dict(\n",
    "        color='rgb(158,202,225)',\n",
    "        line=dict(\n",
    "            color='rgb(8,48,107)',\n",
    "            width=1.5),\n",
    "        ),\n",
    "    opacity=0.6,name='No'\n",
    ")\n",
    "\n",
    "Trace2 = go.Bar(\n",
    "    x=x,\n",
    "    y=y2,\n",
    "    text=y2,\n",
    "    textposition = 'auto',\n",
    "    marker=dict(\n",
    "        color='rgb(178,223,138)',\n",
    "        line=dict(\n",
    "            color='rgb(8,48,107)',\n",
    "            width=1.5),\n",
    "        ),\n",
    "    opacity=0.6,name='Steady'\n",
    ")\n",
    "Trace3 = go.Bar(\n",
    "    x=x,\n",
    "    y=y3,\n",
    "    text=y3,\n",
    "    textposition = 'auto',\n",
    "    marker=dict(\n",
    "        color='rgb(254,224,144)',\n",
    "        line=dict(\n",
    "            color='rgb(8,48,107)',\n",
    "            width=1.5),\n",
    "        ),\n",
    "    opacity=0.6,name='Down'\n",
    ")\n",
    "Trace4 = go.Bar(\n",
    "    x=x,\n",
    "    y=y4,\n",
    "    text=y4,\n",
    "    textposition = 'auto',\n",
    "    marker=dict(\n",
    "        color='rgb(215,48,39)',\n",
    "        line=dict(\n",
    "            color='rgb(8,48,107)',\n",
    "            width=1.5),\n",
    "        ),\n",
    "    opacity=0.6, name='Up'\n",
    ")\n",
    "\n",
    "\n",
    "l = [Trace1,Trace2,Trace3,Trace4]\n",
    "\n",
    "py.iplot(l, filename='grouped-bar-direct-labels')\n",
    "\n",
    "# As we can see from the figure below, insulin was the most used medication for patients in terms of all \n",
    "# categories, which is not very surprising since insulin is known to be very important for diabatic patients :)\n",
    "# \"up” - if the dosage was increased during the encounter\n",
    "# “down” - if the dosage was decreased, \n",
    "# “steady” - if the dosage did not change,\n",
    "# “no” - if the drug was not prescribe."
   ]
  },
  {
   "cell_type": "markdown",
   "metadata": {},
   "source": [
    "diag1_mod, diag2_mod, and diag3_mod stand for the primary, secondary and additional secondary diagnosis (coded as first three digits of ICD9) respectively. We decided to drop those columns because\n",
    "1. These columns contain diagnosis codes which are not interpretable\n",
    "2. These columns besides containing numeric values also contain one categorical value, namely 'Other', which cannot be substituted by some number without distort the meaning of the column"
   ]
  },
  {
   "cell_type": "code",
   "execution_count": 152,
   "metadata": {
    "collapsed": true
   },
   "outputs": [],
   "source": [
    "data = data.drop(['diag1_mod','diag2_mod','diag3_mod'],axis=1)"
   ]
  },
  {
   "cell_type": "markdown",
   "metadata": {},
   "source": [
    "#### Finding and Dealing with Missing Values"
   ]
  },
  {
   "cell_type": "code",
   "execution_count": 153,
   "metadata": {},
   "outputs": [
    {
     "data": {
      "text/plain": [
       "Female             43755\n",
       "Male               37657\n",
       "Unknown/Invalid        2\n",
       "Name: gender, dtype: int64"
      ]
     },
     "execution_count": 153,
     "metadata": {},
     "output_type": "execute_result"
    }
   ],
   "source": [
    "data_obj.gender.value_counts()\n",
    "# As we can see we have 2 Unknown/Invalid values"
   ]
  },
  {
   "cell_type": "code",
   "execution_count": 154,
   "metadata": {
    "collapsed": true
   },
   "outputs": [],
   "source": [
    "# Dropping the rows that have missing values in gender column\n",
    "data = data.loc[data.gender!='Unknown/Invalid']"
   ]
  },
  {
   "cell_type": "code",
   "execution_count": 155,
   "metadata": {},
   "outputs": [
    {
     "data": {
      "text/plain": [
       "Female    43755\n",
       "Male      37657\n",
       "Name: gender, dtype: int64"
      ]
     },
     "execution_count": 155,
     "metadata": {},
     "output_type": "execute_result"
    }
   ],
   "source": [
    "data.gender.value_counts()\n",
    "# checking that we have dropped the rows successfully"
   ]
  },
  {
   "cell_type": "code",
   "execution_count": 156,
   "metadata": {},
   "outputs": [
    {
     "data": {
      "text/plain": [
       "Caucasian          60804\n",
       "AfricanAmerican    15440\n",
       "Unknown             1852\n",
       "Hispanic            1633\n",
       "Other               1169\n",
       "Asian                514\n",
       "Name: race, dtype: int64"
      ]
     },
     "execution_count": 156,
     "metadata": {},
     "output_type": "execute_result"
    }
   ],
   "source": [
    "data.race.value_counts()\n",
    "# As we can see there are 1852 'Unknown' values in race column. We have decided to drop all of those rows, \n",
    "# because our dataset is large enough relative to the number of unknown rows and also since race column contains\n",
    "# only few categories, we believe that filling the column will distort the nature of the column"
   ]
  },
  {
   "cell_type": "code",
   "execution_count": 157,
   "metadata": {
    "collapsed": true
   },
   "outputs": [],
   "source": [
    "# Dropping the rows that have unknown values in race column\n",
    "data=data.loc[data.race!='Unknown']"
   ]
  },
  {
   "cell_type": "code",
   "execution_count": 158,
   "metadata": {},
   "outputs": [
    {
     "data": {
      "text/plain": [
       "Caucasian          60804\n",
       "AfricanAmerican    15440\n",
       "Hispanic            1633\n",
       "Other               1169\n",
       "Asian                514\n",
       "Name: race, dtype: int64"
      ]
     },
     "execution_count": 158,
     "metadata": {},
     "output_type": "execute_result"
    }
   ],
   "source": [
    "data.race.value_counts()\n",
    "# checking that we have dropped the rows successfully"
   ]
  },
  {
   "cell_type": "markdown",
   "metadata": {},
   "source": [
    "#### Data preprocessing"
   ]
  },
  {
   "cell_type": "code",
   "execution_count": 159,
   "metadata": {
    "collapsed": true
   },
   "outputs": [],
   "source": [
    "# Encoding categories\n",
    "data.age_mod = data.age_mod.astype('category').cat.reorder_categories([\"0-19\",\"20-59\",\"60-79\",\"80+\"]).cat.codes\n",
    "data.gender = data.gender.astype('category').cat.reorder_categories([\"Female\",\"Male\"]).cat.codes\n",
    "data.change = data.change.astype('category').cat.reorder_categories([\"No\",\"Ch\"]).cat.codes\n",
    "data.diabetesMed = data.diabetesMed.astype('category').cat.reorder_categories([\"No\",\"Yes\"]).cat.codes\n",
    "data.readmission = data.readmission.astype('category').cat.reorder_categories([\"NO\",\"YES\"]).cat.codes"
   ]
  },
  {
   "cell_type": "code",
   "execution_count": 160,
   "metadata": {
    "collapsed": true
   },
   "outputs": [],
   "source": [
    "# Getting dummies\n",
    "race = pd.get_dummies(data.race)\n",
    "\n",
    "glucose_level = pd.get_dummies(data.max_glu_serum)\n",
    "a1c_result = pd.get_dummies(data.A1Cresult)\n",
    "metformin_ = pd.get_dummies(data.metformin)\n",
    "glimepiride_ = pd.get_dummies(data.glimepiride)\n",
    "glipizide_ = pd.get_dummies(data.glipizide)\n",
    "glyburide_ = pd.get_dummies(data.glyburide)\n",
    "pioglitazone_ = pd.get_dummies(data.pioglitazone)\n",
    "rosiglitazone_ = pd.get_dummies(data.rosiglitazone)\n",
    "insulin_ = pd.get_dummies(data.insulin)\n",
    "\n",
    "discharge_disposition = pd.get_dummies(data.disch_disp_modified)\n",
    "admission_source = pd.get_dummies(data.adm_src_mod)\n",
    "admission_type = pd.get_dummies(data.adm_typ_mod)"
   ]
  },
  {
   "cell_type": "code",
   "execution_count": 161,
   "metadata": {
    "collapsed": true
   },
   "outputs": [],
   "source": [
    "# Dropping the columns we have got dummies from\n",
    "data = data.drop(['max_glu_serum','A1Cresult','metformin',\n",
    "                  'glimepiride','glipizide','glyburide',\n",
    "                  'pioglitazone','rosiglitazone','insulin',\n",
    "                  'disch_disp_modified','adm_src_mod','adm_typ_mod','race'],axis=1)"
   ]
  },
  {
   "cell_type": "code",
   "execution_count": 162,
   "metadata": {
    "collapsed": true
   },
   "outputs": [],
   "source": [
    "# Dealing with dummy trap\n",
    "race = race.drop(['Other'],axis=1)\n",
    "glucose_level = glucose_level.drop(['None'],axis=1)\n",
    "a1c_result = a1c_result.drop(['None'],axis=1)\n",
    "metformin_ = metformin_.drop(['No'],axis=1)\n",
    "glimepiride_ = glimepiride_.drop(['No'],axis=1)\n",
    "glipizide_ = glipizide_.drop(['No'],axis=1)\n",
    "glyburide_ = glyburide_.drop(['No'],axis=1)\n",
    "pioglitazone_ = pioglitazone_.drop(['No'],axis=1)\n",
    "rosiglitazone_ = rosiglitazone_.drop(['No'],axis=1)\n",
    "insulin_ = insulin_.drop(['No'],axis=1)\n",
    "discharge_disposition = discharge_disposition.drop(['Other'],axis=1)\n",
    "admission_source = admission_source.drop(['Other'],axis=1)\n",
    "admission_type = admission_type.drop(['Other'],axis=1)"
   ]
  },
  {
   "cell_type": "code",
   "execution_count": 163,
   "metadata": {
    "collapsed": true
   },
   "outputs": [],
   "source": [
    "# Renaming some columns to not have errors when joining\n",
    "glucose_level = glucose_level.rename(columns={'Norm':'max_glu_serum_result_norm','>200':'max_glu_serum_result(200,300]','>300':'A1C_result>300'})\n",
    "a1c_result = a1c_result.rename(columns={'Norm':'A1C_result_norm','>7':'A1C_result(7,8]','>8':'A1C_result>8'})\n",
    "\n",
    "metformin_ = metformin_.rename(columns={'Steady':'metformin_steady','Up':'metformin_up','Down':'metformin_down'})\n",
    "glimepiride_ = glimepiride_.rename(columns={'Steady':'glimepiride_steady','Up':'glimepiride_up','Down':'glimepiride_down'})\n",
    "glipizide_ = glipizide_.rename(columns={'Steady':'glipizide_steady','Up':'glipizide_up','Down':'glipizide_down'})\n",
    "glyburide_ = glyburide_.rename(columns={'Steady':'glyburide_steady','Up':'glyburide_up','Down':'glyburide_down'})\n",
    "pioglitazone_ = pioglitazone_.rename(columns={'Steady':'pioglitazone_steady','Up':'pioglitazone_up','Down':'pioglitazone_down'})\n",
    "rosiglitazone_ = rosiglitazone_.rename(columns={'Steady':'rosiglitazone_steady','Up':'rosiglitazone_up','Down':'rosiglitazone_down'})\n",
    "insulin_ = insulin_.rename(columns={'Steady':'insulin_steady','Up':'insulin_up','Down':'insulin_down'})\n",
    "\n",
    "data = data.join([race,glucose_level,a1c_result,metformin_,\n",
    "                  glimepiride_,glipizide_,glyburide_,\n",
    "                  pioglitazone_,rosiglitazone_,insulin_,\n",
    "                  discharge_disposition,admission_source,admission_type])"
   ]
  },
  {
   "cell_type": "code",
   "execution_count": 164,
   "metadata": {},
   "outputs": [
    {
     "name": "stdout",
     "output_type": "stream",
     "text": [
      "<class 'pandas.core.frame.DataFrame'>\n",
      "Int64Index: 79560 entries, 0 to 81413\n",
      "Data columns (total 53 columns):\n",
      "gender                                         79560 non-null int8\n",
      "time_in_hospital                               79560 non-null int64\n",
      "num_lab_procedures                             79560 non-null int64\n",
      "num_procedures                                 79560 non-null int64\n",
      "num_medications                                79560 non-null int64\n",
      "number_outpatient                              79560 non-null int64\n",
      "number_emergency                               79560 non-null int64\n",
      "number_inpatient                               79560 non-null int64\n",
      "number_diagnoses                               79560 non-null int64\n",
      "change                                         79560 non-null int8\n",
      "diabetesMed                                    79560 non-null int8\n",
      "age_mod                                        79560 non-null int8\n",
      "readmission                                    79560 non-null int8\n",
      "AfricanAmerican                                79560 non-null uint8\n",
      "Asian                                          79560 non-null uint8\n",
      "Caucasian                                      79560 non-null uint8\n",
      "Hispanic                                       79560 non-null uint8\n",
      "max_glu_serum_result(200,300]                  79560 non-null uint8\n",
      "A1C_result>300                                 79560 non-null uint8\n",
      "max_glu_serum_result_norm                      79560 non-null uint8\n",
      "A1C_result(7,8]                                79560 non-null uint8\n",
      "A1C_result>8                                   79560 non-null uint8\n",
      "A1C_result_norm                                79560 non-null uint8\n",
      "metformin_down                                 79560 non-null uint8\n",
      "metformin_steady                               79560 non-null uint8\n",
      "metformin_up                                   79560 non-null uint8\n",
      "glimepiride_down                               79560 non-null uint8\n",
      "glimepiride_steady                             79560 non-null uint8\n",
      "glimepiride_up                                 79560 non-null uint8\n",
      "glipizide_down                                 79560 non-null uint8\n",
      "glipizide_steady                               79560 non-null uint8\n",
      "glipizide_up                                   79560 non-null uint8\n",
      "glyburide_down                                 79560 non-null uint8\n",
      "glyburide_steady                               79560 non-null uint8\n",
      "glyburide_up                                   79560 non-null uint8\n",
      "pioglitazone_down                              79560 non-null uint8\n",
      "pioglitazone_steady                            79560 non-null uint8\n",
      "pioglitazone_up                                79560 non-null uint8\n",
      "rosiglitazone_down                             79560 non-null uint8\n",
      "rosiglitazone_steady                           79560 non-null uint8\n",
      "rosiglitazone_up                               79560 non-null uint8\n",
      "insulin_down                                   79560 non-null uint8\n",
      "insulin_steady                                 79560 non-null uint8\n",
      "insulin_up                                     79560 non-null uint8\n",
      "Discharged to home                             79560 non-null uint8\n",
      "Discharged to home with Home Health Service    79560 non-null uint8\n",
      "Discharged/Transferred to SNF                  79560 non-null uint8\n",
      "Emergency Room                                 79560 non-null uint8\n",
      "Physician Referral                             79560 non-null uint8\n",
      "Transfer from Home Health                      79560 non-null uint8\n",
      "Elective                                       79560 non-null uint8\n",
      "Emergency                                      79560 non-null uint8\n",
      "Urgent                                         79560 non-null uint8\n",
      "dtypes: int64(8), int8(5), uint8(40)\n",
      "memory usage: 11.4 MB\n"
     ]
    }
   ],
   "source": [
    "data.info()"
   ]
  },
  {
   "cell_type": "markdown",
   "metadata": {},
   "source": [
    "## Predictive Analytics"
   ]
  },
  {
   "cell_type": "code",
   "execution_count": 165,
   "metadata": {
    "collapsed": true
   },
   "outputs": [],
   "source": [
    "# Creating the base models\n",
    "model_tree = DecisionTreeClassifier(random_state=42)\n",
    "model_logit = LogisticRegression(random_state=42)\n",
    "model_rf = RandomForestClassifier(random_state=42)\n",
    "model_gb = GradientBoostingClassifier(random_state=42)"
   ]
  },
  {
   "cell_type": "code",
   "execution_count": 166,
   "metadata": {
    "collapsed": true
   },
   "outputs": [],
   "source": [
    "# Separating features and label\n",
    "y = data.readmission\n",
    "x = data.drop(\"readmission\",axis=1)"
   ]
  },
  {
   "cell_type": "code",
   "execution_count": 167,
   "metadata": {
    "collapsed": true
   },
   "outputs": [],
   "source": [
    "# Train-test split\n",
    "x_train, x_test, y_train, y_test = train_test_split(x,y,test_size=0.25,random_state = 42)"
   ]
  },
  {
   "cell_type": "code",
   "execution_count": 249,
   "metadata": {},
   "outputs": [
    {
     "name": "stdout",
     "output_type": "stream",
     "text": [
      "DecisionTreeClassifier\n",
      "Train set accuracy = 99.98659292776941\n",
      "Test set accuracy = 55.20864756158874\n",
      "Five-fold CV mean accuracy = 54.659385038210864\n",
      "Five-fold CV mean roc_auc score = 54.459484426262485\n",
      "------------------------------------------------\n",
      "LogisticRegression\n",
      "Train set accuracy = 62.366348248701186\n",
      "Test set accuracy = 62.22222222222222\n",
      "Five-fold CV mean accuracy = 61.600108056815316\n",
      "Five-fold CV mean roc_auc score = 65.88523538015932\n",
      "------------------------------------------------\n",
      "RandomForestClassifier\n",
      "Train set accuracy = 98.2319423495894\n",
      "Test set accuracy = 59.42684766214178\n",
      "Five-fold CV mean accuracy = 58.52440049134078\n",
      "Five-fold CV mean roc_auc score = 60.76553011253024\n",
      "------------------------------------------------\n",
      "GradientBoostingClassifier may take some time...\n",
      "GradientBoostingClassifier\n",
      "Train set accuracy = 63.49421820010055\n",
      "Test set accuracy = 62.765208647561586\n",
      "Five-fold CV mean accuracy = 61.99602918264133\n",
      "Five-fold CV mean roc_auc score = 66.74005596109771\n"
     ]
    }
   ],
   "source": [
    "# Train & Test accuracies for each of the models we have\n",
    "print(\"DecisionTreeClassifier\")\n",
    "model_tree.fit(x_train,y_train)\n",
    "print('Train set accuracy = {}'.format(model_tree.score(x_train,y_train)*100))\n",
    "print('Test set accuracy = {}'.format(model_tree.score(x_test,y_test)*100))\n",
    "print('Five-fold CV mean accuracy = {}'.format(np.mean(cross_val_score(model_tree,x,y,cv=5))*100))\n",
    "\n",
    "print('Five-fold CV mean roc_auc score = {}'.format(np.mean(cross_val_score(model_tree,x,y,cv=5,scoring='roc_auc'))*100))\n",
    "\n",
    "print(\"------------------------------------------------\")\n",
    "\n",
    "print(\"LogisticRegression\")\n",
    "model_logit.fit(x_train,y_train)\n",
    "print('Train set accuracy = {}'.format(model_logit.score(x_train,y_train)*100))\n",
    "print('Test set accuracy = {}'.format(model_logit.score(x_test,y_test)*100))\n",
    "print('Five-fold CV mean accuracy = {}'.format(np.mean(cross_val_score(model_logit,x,y,cv=5))*100))\n",
    "print('Five-fold CV mean roc_auc score = {}'.format(np.mean(cross_val_score(model_logit,x,y,cv=5,scoring='roc_auc'))*100))\n",
    "\n",
    "print(\"------------------------------------------------\")\n",
    "\n",
    "print(\"RandomForestClassifier\")\n",
    "model_rf.fit(x_train,y_train)\n",
    "print('Train set accuracy = {}'.format(model_rf.score(x_train,y_train)*100))\n",
    "print('Test set accuracy = {}'.format(model_rf.score(x_test,y_test)*100))\n",
    "print('Five-fold CV mean accuracy = {}'.format(np.mean(cross_val_score(model_rf,x,y,cv=5))*100))\n",
    "print('Five-fold CV mean roc_auc score = {}'.format(np.mean(cross_val_score(model_rf,x,y,cv=5,scoring='roc_auc'))*100))\n",
    "\n",
    "print(\"------------------------------------------------\")\n",
    "\n",
    "print('GradientBoostingClassifier may take some time...')\n",
    "print(\"GradientBoostingClassifier\")\n",
    "model_gb.fit(x_train,y_train)\n",
    "print('Train set accuracy = {}'.format(model_gb.score(x_train,y_train)*100))\n",
    "print('Test set accuracy = {}'.format(model_gb.score(x_test,y_test)*100))\n",
    "print('Five-fold CV mean accuracy = {}'.format(np.mean(cross_val_score(model_gb,x,y,cv=5))*100))\n",
    "print('Five-fold CV mean roc_auc score = {}'.format(np.mean(cross_val_score(model_gb,x,y,cv=5,scoring='roc_auc'))*100))"
   ]
  },
  {
   "cell_type": "code",
   "execution_count": 251,
   "metadata": {},
   "outputs": [
    {
     "name": "stdout",
     "output_type": "stream",
     "text": [
      "Parameters currently in use:\n",
      "\n",
      "{'bootstrap': True,\n",
      " 'class_weight': None,\n",
      " 'criterion': 'gini',\n",
      " 'max_depth': None,\n",
      " 'max_features': 'auto',\n",
      " 'max_leaf_nodes': None,\n",
      " 'min_impurity_decrease': 0.0,\n",
      " 'min_impurity_split': None,\n",
      " 'min_samples_leaf': 1,\n",
      " 'min_samples_split': 2,\n",
      " 'min_weight_fraction_leaf': 0.0,\n",
      " 'n_estimators': 10,\n",
      " 'n_jobs': 1,\n",
      " 'oob_score': False,\n",
      " 'random_state': 42,\n",
      " 'verbose': 0,\n",
      " 'warm_start': False}\n"
     ]
    }
   ],
   "source": [
    "# Let's tune hyperparameters for better results. First let's do it for RandomForest\n",
    "print('Parameters currently in use:\\n')\n",
    "pprint(model_rf.get_params())"
   ]
  },
  {
   "cell_type": "code",
   "execution_count": 252,
   "metadata": {},
   "outputs": [
    {
     "name": "stdout",
     "output_type": "stream",
     "text": [
      "{'bootstrap': [True, False],\n",
      " 'class_weight': ['balanced', None],\n",
      " 'max_depth': [6, 7, 8, 9, 10, None],\n",
      " 'max_features': ['auto', 'sqrt'],\n",
      " 'min_samples_leaf': [1, 2, 3, 4, 5],\n",
      " 'min_samples_split': [2, 3, 5, 7, 8, 10],\n",
      " 'n_estimators': [200, 300, 400, 500]}\n"
     ]
    }
   ],
   "source": [
    "# Class weight\n",
    "class_weight = [\"balanced\",None]\n",
    "# Number of trees in random forest\n",
    "n_estimators = [200,300,400,500]\n",
    "# Number of features to consider at every split\n",
    "max_features = ['auto', 'sqrt']\n",
    "# Maximum number of levels in tree\n",
    "max_depth = [6,7,8,9,10,None]\n",
    "# Minimum number of samples required to split a node\n",
    "min_samples_split = [2, 3, 5, 7, 8, 10]\n",
    "# Minimum number of samples required at each leaf node\n",
    "min_samples_leaf = [1, 2, 3, 4, 5]\n",
    "# Method of selecting samples for training each tree\n",
    "bootstrap = [True, False]\n",
    "\n",
    "# Create the random grid\n",
    "random_grid = {\n",
    "               'class_weight': class_weight,\n",
    "               'n_estimators': n_estimators,\n",
    "               'max_features': max_features,\n",
    "               'max_depth': max_depth,\n",
    "               'min_samples_split': min_samples_split,\n",
    "               'min_samples_leaf': min_samples_leaf,\n",
    "               'bootstrap': bootstrap}\n",
    "pprint(random_grid)"
   ]
  },
  {
   "cell_type": "code",
   "execution_count": 253,
   "metadata": {
    "collapsed": true
   },
   "outputs": [],
   "source": [
    "# Random search of parameters, using 3 fold cross validation, \n",
    "# search across 20 different combinations, and use all available scores\n",
    "model_rf_random = RandomizedSearchCV(estimator = model_rf, param_distributions = random_grid, n_iter = 20, cv = 3, verbose=2, random_state=42, n_jobs = -1,scoring='roc_auc')"
   ]
  },
  {
   "cell_type": "code",
   "execution_count": 254,
   "metadata": {},
   "outputs": [
    {
     "name": "stdout",
     "output_type": "stream",
     "text": [
      "Please wait...\n",
      "Fitting 3 folds for each of 20 candidates, totalling 60 fits\n",
      "[CV] n_estimators=200, min_samples_split=10, min_samples_leaf=1, max_features=sqrt, max_depth=9, class_weight=balanced, bootstrap=True \n",
      "[CV] n_estimators=200, min_samples_split=10, min_samples_leaf=1, max_features=sqrt, max_depth=9, class_weight=balanced, bootstrap=True \n",
      "[CV] n_estimators=200, min_samples_split=10, min_samples_leaf=1, max_features=sqrt, max_depth=9, class_weight=balanced, bootstrap=True \n",
      "[CV] n_estimators=400, min_samples_split=7, min_samples_leaf=5, max_features=auto, max_depth=10, class_weight=None, bootstrap=False \n",
      "[CV]  n_estimators=200, min_samples_split=10, min_samples_leaf=1, max_features=sqrt, max_depth=9, class_weight=balanced, bootstrap=True, total=  15.4s\n",
      "[CV]  n_estimators=200, min_samples_split=10, min_samples_leaf=1, max_features=sqrt, max_depth=9, class_weight=balanced, bootstrap=True, total=  15.5s\n",
      "[CV] n_estimators=400, min_samples_split=7, min_samples_leaf=5, max_features=auto, max_depth=10, class_weight=None, bootstrap=False \n",
      "[CV] n_estimators=400, min_samples_split=7, min_samples_leaf=5, max_features=auto, max_depth=10, class_weight=None, bootstrap=False \n",
      "[CV]  n_estimators=200, min_samples_split=10, min_samples_leaf=1, max_features=sqrt, max_depth=9, class_weight=balanced, bootstrap=True, total=  15.5s\n",
      "[CV] n_estimators=400, min_samples_split=8, min_samples_leaf=3, max_features=sqrt, max_depth=9, class_weight=None, bootstrap=False \n",
      "[CV]  n_estimators=400, min_samples_split=7, min_samples_leaf=5, max_features=auto, max_depth=10, class_weight=None, bootstrap=False, total=  38.8s\n",
      "[CV] n_estimators=400, min_samples_split=8, min_samples_leaf=3, max_features=sqrt, max_depth=9, class_weight=None, bootstrap=False \n",
      "[CV]  n_estimators=400, min_samples_split=8, min_samples_leaf=3, max_features=sqrt, max_depth=9, class_weight=None, bootstrap=False, total=  35.1s\n",
      "[CV] n_estimators=400, min_samples_split=8, min_samples_leaf=3, max_features=sqrt, max_depth=9, class_weight=None, bootstrap=False \n",
      "[CV]  n_estimators=400, min_samples_split=7, min_samples_leaf=5, max_features=auto, max_depth=10, class_weight=None, bootstrap=False, total=  38.6s\n",
      "[CV] n_estimators=500, min_samples_split=3, min_samples_leaf=2, max_features=sqrt, max_depth=9, class_weight=None, bootstrap=False \n",
      "[CV]  n_estimators=400, min_samples_split=7, min_samples_leaf=5, max_features=auto, max_depth=10, class_weight=None, bootstrap=False, total=  38.7s\n",
      "[CV] n_estimators=500, min_samples_split=3, min_samples_leaf=2, max_features=sqrt, max_depth=9, class_weight=None, bootstrap=False \n",
      "[CV]  n_estimators=400, min_samples_split=8, min_samples_leaf=3, max_features=sqrt, max_depth=9, class_weight=None, bootstrap=False, total=  35.4s\n",
      "[CV] n_estimators=500, min_samples_split=3, min_samples_leaf=2, max_features=sqrt, max_depth=9, class_weight=None, bootstrap=False \n",
      "[CV]  n_estimators=400, min_samples_split=8, min_samples_leaf=3, max_features=sqrt, max_depth=9, class_weight=None, bootstrap=False, total=  35.1s\n",
      "[CV] n_estimators=200, min_samples_split=3, min_samples_leaf=3, max_features=sqrt, max_depth=9, class_weight=balanced, bootstrap=False \n",
      "[CV]  n_estimators=500, min_samples_split=3, min_samples_leaf=2, max_features=sqrt, max_depth=9, class_weight=None, bootstrap=False, total=  43.1s\n",
      "[CV] n_estimators=200, min_samples_split=3, min_samples_leaf=3, max_features=sqrt, max_depth=9, class_weight=balanced, bootstrap=False \n",
      "[CV]  n_estimators=500, min_samples_split=3, min_samples_leaf=2, max_features=sqrt, max_depth=9, class_weight=None, bootstrap=False, total=  43.2s\n",
      "[CV] n_estimators=200, min_samples_split=3, min_samples_leaf=3, max_features=sqrt, max_depth=9, class_weight=balanced, bootstrap=False \n",
      "[CV]  n_estimators=200, min_samples_split=3, min_samples_leaf=3, max_features=sqrt, max_depth=9, class_weight=balanced, bootstrap=False, total=  19.7s\n",
      "[CV] n_estimators=200, min_samples_split=10, min_samples_leaf=4, max_features=sqrt, max_depth=6, class_weight=balanced, bootstrap=False \n",
      "[CV]  n_estimators=500, min_samples_split=3, min_samples_leaf=2, max_features=sqrt, max_depth=9, class_weight=None, bootstrap=False, total=  43.3s\n",
      "[CV] n_estimators=200, min_samples_split=10, min_samples_leaf=4, max_features=sqrt, max_depth=6, class_weight=balanced, bootstrap=False \n",
      "[CV]  n_estimators=200, min_samples_split=3, min_samples_leaf=3, max_features=sqrt, max_depth=9, class_weight=balanced, bootstrap=False, total=  20.7s\n",
      "[CV]  n_estimators=200, min_samples_split=3, min_samples_leaf=3, max_features=sqrt, max_depth=9, class_weight=balanced, bootstrap=False, total=  20.3s\n",
      "[CV] n_estimators=200, min_samples_split=10, min_samples_leaf=4, max_features=sqrt, max_depth=6, class_weight=balanced, bootstrap=False \n",
      "[CV] n_estimators=400, min_samples_split=10, min_samples_leaf=4, max_features=sqrt, max_depth=None, class_weight=None, bootstrap=False \n",
      "[CV]  n_estimators=200, min_samples_split=10, min_samples_leaf=4, max_features=sqrt, max_depth=6, class_weight=balanced, bootstrap=False, total=  13.9s\n",
      "[CV] n_estimators=400, min_samples_split=10, min_samples_leaf=4, max_features=sqrt, max_depth=None, class_weight=None, bootstrap=False \n",
      "[CV]  n_estimators=200, min_samples_split=10, min_samples_leaf=4, max_features=sqrt, max_depth=6, class_weight=balanced, bootstrap=False, total=  15.8s\n",
      "[CV] n_estimators=400, min_samples_split=10, min_samples_leaf=4, max_features=sqrt, max_depth=None, class_weight=None, bootstrap=False \n",
      "[CV]  n_estimators=200, min_samples_split=10, min_samples_leaf=4, max_features=sqrt, max_depth=6, class_weight=balanced, bootstrap=False, total=  15.9s\n",
      "[CV] n_estimators=400, min_samples_split=5, min_samples_leaf=5, max_features=sqrt, max_depth=7, class_weight=balanced, bootstrap=True \n",
      "[CV]  n_estimators=400, min_samples_split=5, min_samples_leaf=5, max_features=sqrt, max_depth=7, class_weight=balanced, bootstrap=True, total=  25.7s\n",
      "[CV] n_estimators=400, min_samples_split=5, min_samples_leaf=5, max_features=sqrt, max_depth=7, class_weight=balanced, bootstrap=True \n",
      "[CV]  n_estimators=400, min_samples_split=5, min_samples_leaf=5, max_features=sqrt, max_depth=7, class_weight=balanced, bootstrap=True, total=  28.6s\n",
      "[CV] n_estimators=400, min_samples_split=5, min_samples_leaf=5, max_features=sqrt, max_depth=7, class_weight=balanced, bootstrap=True \n",
      "[CV]  n_estimators=400, min_samples_split=10, min_samples_leaf=4, max_features=sqrt, max_depth=None, class_weight=None, bootstrap=False, total= 1.3min\n",
      "[CV] n_estimators=400, min_samples_split=3, min_samples_leaf=3, max_features=auto, max_depth=10, class_weight=None, bootstrap=False \n",
      "[CV]  n_estimators=400, min_samples_split=10, min_samples_leaf=4, max_features=sqrt, max_depth=None, class_weight=None, bootstrap=False, total= 1.4min\n",
      "[CV] n_estimators=400, min_samples_split=3, min_samples_leaf=3, max_features=auto, max_depth=10, class_weight=None, bootstrap=False \n",
      "[CV]  n_estimators=400, min_samples_split=10, min_samples_leaf=4, max_features=sqrt, max_depth=None, class_weight=None, bootstrap=False, total= 1.3min\n",
      "[CV] n_estimators=400, min_samples_split=3, min_samples_leaf=3, max_features=auto, max_depth=10, class_weight=None, bootstrap=False \n",
      "[CV]  n_estimators=400, min_samples_split=5, min_samples_leaf=5, max_features=sqrt, max_depth=7, class_weight=balanced, bootstrap=True, total=  24.1s\n",
      "[CV] n_estimators=400, min_samples_split=5, min_samples_leaf=5, max_features=auto, max_depth=6, class_weight=None, bootstrap=False \n",
      "[CV]  n_estimators=400, min_samples_split=5, min_samples_leaf=5, max_features=auto, max_depth=6, class_weight=None, bootstrap=False, total=  23.0s\n",
      "[CV] n_estimators=400, min_samples_split=5, min_samples_leaf=5, max_features=auto, max_depth=6, class_weight=None, bootstrap=False \n",
      "[CV]  n_estimators=400, min_samples_split=3, min_samples_leaf=3, max_features=auto, max_depth=10, class_weight=None, bootstrap=False, total=  38.2s\n",
      "[CV] n_estimators=400, min_samples_split=5, min_samples_leaf=5, max_features=auto, max_depth=6, class_weight=None, bootstrap=False \n",
      "[CV]  n_estimators=400, min_samples_split=3, min_samples_leaf=3, max_features=auto, max_depth=10, class_weight=None, bootstrap=False, total=  37.9s\n",
      "[CV] n_estimators=400, min_samples_split=5, min_samples_leaf=3, max_features=auto, max_depth=None, class_weight=None, bootstrap=False \n"
     ]
    },
    {
     "name": "stdout",
     "output_type": "stream",
     "text": [
      "[CV]  n_estimators=400, min_samples_split=3, min_samples_leaf=3, max_features=auto, max_depth=10, class_weight=None, bootstrap=False, total=  36.2s\n",
      "[CV] n_estimators=400, min_samples_split=5, min_samples_leaf=3, max_features=auto, max_depth=None, class_weight=None, bootstrap=False \n",
      "[CV]  n_estimators=400, min_samples_split=5, min_samples_leaf=5, max_features=auto, max_depth=6, class_weight=None, bootstrap=False, total=  25.6s\n",
      "[CV] n_estimators=400, min_samples_split=5, min_samples_leaf=3, max_features=auto, max_depth=None, class_weight=None, bootstrap=False \n",
      "[CV]  n_estimators=400, min_samples_split=5, min_samples_leaf=5, max_features=auto, max_depth=6, class_weight=None, bootstrap=False, total=  25.7s\n",
      "[CV] n_estimators=200, min_samples_split=7, min_samples_leaf=4, max_features=auto, max_depth=8, class_weight=balanced, bootstrap=False \n",
      "[CV]  n_estimators=200, min_samples_split=7, min_samples_leaf=4, max_features=auto, max_depth=8, class_weight=balanced, bootstrap=False, total=  33.4s\n",
      "[CV] n_estimators=200, min_samples_split=7, min_samples_leaf=4, max_features=auto, max_depth=8, class_weight=balanced, bootstrap=False \n",
      "[CV]  n_estimators=200, min_samples_split=7, min_samples_leaf=4, max_features=auto, max_depth=8, class_weight=balanced, bootstrap=False, total=  22.1s\n",
      "[CV] n_estimators=200, min_samples_split=7, min_samples_leaf=4, max_features=auto, max_depth=8, class_weight=balanced, bootstrap=False \n",
      "[CV]  n_estimators=200, min_samples_split=7, min_samples_leaf=4, max_features=auto, max_depth=8, class_weight=balanced, bootstrap=False, total=  20.3s\n",
      "[CV]  n_estimators=400, min_samples_split=5, min_samples_leaf=3, max_features=auto, max_depth=None, class_weight=None, bootstrap=False, total= 1.7min\n",
      "[CV] n_estimators=500, min_samples_split=2, min_samples_leaf=3, max_features=auto, max_depth=7, class_weight=balanced, bootstrap=False \n",
      "[CV] n_estimators=500, min_samples_split=2, min_samples_leaf=3, max_features=auto, max_depth=7, class_weight=balanced, bootstrap=False \n"
     ]
    },
    {
     "name": "stderr",
     "output_type": "stream",
     "text": [
      "[Parallel(n_jobs=-1)]: Done  33 tasks      | elapsed:  6.3min\n"
     ]
    },
    {
     "name": "stdout",
     "output_type": "stream",
     "text": [
      "[CV]  n_estimators=400, min_samples_split=5, min_samples_leaf=3, max_features=auto, max_depth=None, class_weight=None, bootstrap=False, total= 1.7min\n",
      "[CV] n_estimators=500, min_samples_split=2, min_samples_leaf=3, max_features=auto, max_depth=7, class_weight=balanced, bootstrap=False \n",
      "[CV]  n_estimators=400, min_samples_split=5, min_samples_leaf=3, max_features=auto, max_depth=None, class_weight=None, bootstrap=False, total= 1.7min\n",
      "[CV] n_estimators=500, min_samples_split=7, min_samples_leaf=2, max_features=auto, max_depth=6, class_weight=balanced, bootstrap=False \n",
      "[CV]  n_estimators=500, min_samples_split=2, min_samples_leaf=3, max_features=auto, max_depth=7, class_weight=balanced, bootstrap=False, total=  47.9s\n",
      "[CV] n_estimators=500, min_samples_split=7, min_samples_leaf=2, max_features=auto, max_depth=6, class_weight=balanced, bootstrap=False \n",
      "[CV]  n_estimators=500, min_samples_split=2, min_samples_leaf=3, max_features=auto, max_depth=7, class_weight=balanced, bootstrap=False, total=  48.2s\n",
      "[CV] n_estimators=500, min_samples_split=7, min_samples_leaf=2, max_features=auto, max_depth=6, class_weight=balanced, bootstrap=False \n",
      "[CV]  n_estimators=500, min_samples_split=2, min_samples_leaf=3, max_features=auto, max_depth=7, class_weight=balanced, bootstrap=False, total=  45.3s\n",
      "[CV] n_estimators=400, min_samples_split=5, min_samples_leaf=1, max_features=sqrt, max_depth=6, class_weight=balanced, bootstrap=True \n",
      "[CV]  n_estimators=500, min_samples_split=7, min_samples_leaf=2, max_features=auto, max_depth=6, class_weight=balanced, bootstrap=False, total=  37.8s\n",
      "[CV] n_estimators=400, min_samples_split=5, min_samples_leaf=1, max_features=sqrt, max_depth=6, class_weight=balanced, bootstrap=True \n",
      "[CV]  n_estimators=400, min_samples_split=5, min_samples_leaf=1, max_features=sqrt, max_depth=6, class_weight=balanced, bootstrap=True, total=  23.8s\n",
      "[CV] n_estimators=400, min_samples_split=5, min_samples_leaf=1, max_features=sqrt, max_depth=6, class_weight=balanced, bootstrap=True \n",
      "[CV]  n_estimators=500, min_samples_split=7, min_samples_leaf=2, max_features=auto, max_depth=6, class_weight=balanced, bootstrap=False, total=  39.3s\n",
      "[CV] n_estimators=300, min_samples_split=3, min_samples_leaf=1, max_features=auto, max_depth=7, class_weight=None, bootstrap=True \n",
      "[CV]  n_estimators=500, min_samples_split=7, min_samples_leaf=2, max_features=auto, max_depth=6, class_weight=balanced, bootstrap=False, total=  39.5s\n",
      "[CV] n_estimators=300, min_samples_split=3, min_samples_leaf=1, max_features=auto, max_depth=7, class_weight=None, bootstrap=True \n",
      "[CV]  n_estimators=400, min_samples_split=5, min_samples_leaf=1, max_features=sqrt, max_depth=6, class_weight=balanced, bootstrap=True, total=  22.8s\n",
      "[CV] n_estimators=300, min_samples_split=3, min_samples_leaf=1, max_features=auto, max_depth=7, class_weight=None, bootstrap=True \n",
      "[CV]  n_estimators=300, min_samples_split=3, min_samples_leaf=1, max_features=auto, max_depth=7, class_weight=None, bootstrap=True, total=  17.2s\n",
      "[CV] n_estimators=300, min_samples_split=2, min_samples_leaf=3, max_features=auto, max_depth=9, class_weight=balanced, bootstrap=True \n",
      "[CV]  n_estimators=300, min_samples_split=3, min_samples_leaf=1, max_features=auto, max_depth=7, class_weight=None, bootstrap=True, total=  17.1s\n",
      "[CV] n_estimators=300, min_samples_split=2, min_samples_leaf=3, max_features=auto, max_depth=9, class_weight=balanced, bootstrap=True \n",
      "[CV]  n_estimators=400, min_samples_split=5, min_samples_leaf=1, max_features=sqrt, max_depth=6, class_weight=balanced, bootstrap=True, total=  19.7s\n",
      "[CV] n_estimators=300, min_samples_split=2, min_samples_leaf=3, max_features=auto, max_depth=9, class_weight=balanced, bootstrap=True \n",
      "[CV]  n_estimators=300, min_samples_split=3, min_samples_leaf=1, max_features=auto, max_depth=7, class_weight=None, bootstrap=True, total=  16.7s\n",
      "[CV] n_estimators=500, min_samples_split=7, min_samples_leaf=5, max_features=sqrt, max_depth=9, class_weight=None, bootstrap=True \n",
      "[CV]  n_estimators=300, min_samples_split=2, min_samples_leaf=3, max_features=auto, max_depth=9, class_weight=balanced, bootstrap=True, total=  21.0s\n",
      "[CV] n_estimators=500, min_samples_split=7, min_samples_leaf=5, max_features=sqrt, max_depth=9, class_weight=None, bootstrap=True \n",
      "[CV]  n_estimators=300, min_samples_split=2, min_samples_leaf=3, max_features=auto, max_depth=9, class_weight=balanced, bootstrap=True, total=  21.4s\n",
      "[CV] n_estimators=500, min_samples_split=7, min_samples_leaf=5, max_features=sqrt, max_depth=9, class_weight=None, bootstrap=True \n",
      "[CV]  n_estimators=300, min_samples_split=2, min_samples_leaf=3, max_features=auto, max_depth=9, class_weight=balanced, bootstrap=True, total=  21.3s\n",
      "[CV] n_estimators=500, min_samples_split=8, min_samples_leaf=4, max_features=auto, max_depth=None, class_weight=None, bootstrap=False \n",
      "[CV]  n_estimators=500, min_samples_split=7, min_samples_leaf=5, max_features=sqrt, max_depth=9, class_weight=None, bootstrap=True, total=  35.0s\n",
      "[CV] n_estimators=500, min_samples_split=8, min_samples_leaf=4, max_features=auto, max_depth=None, class_weight=None, bootstrap=False \n",
      "[CV]  n_estimators=500, min_samples_split=7, min_samples_leaf=5, max_features=sqrt, max_depth=9, class_weight=None, bootstrap=True, total=  35.2s\n",
      "[CV] n_estimators=500, min_samples_split=8, min_samples_leaf=4, max_features=auto, max_depth=None, class_weight=None, bootstrap=False \n",
      "[CV]  n_estimators=500, min_samples_split=7, min_samples_leaf=5, max_features=sqrt, max_depth=9, class_weight=None, bootstrap=True, total=  35.2s\n",
      "[CV] n_estimators=300, min_samples_split=5, min_samples_leaf=2, max_features=auto, max_depth=10, class_weight=None, bootstrap=True \n",
      "[CV]  n_estimators=300, min_samples_split=5, min_samples_leaf=2, max_features=auto, max_depth=10, class_weight=None, bootstrap=True, total=  23.6s\n",
      "[CV] n_estimators=300, min_samples_split=5, min_samples_leaf=2, max_features=auto, max_depth=10, class_weight=None, bootstrap=True \n",
      "[CV]  n_estimators=300, min_samples_split=5, min_samples_leaf=2, max_features=auto, max_depth=10, class_weight=None, bootstrap=True, total=  24.7s\n",
      "[CV] n_estimators=300, min_samples_split=5, min_samples_leaf=2, max_features=auto, max_depth=10, class_weight=None, bootstrap=True \n",
      "[CV]  n_estimators=500, min_samples_split=8, min_samples_leaf=4, max_features=auto, max_depth=None, class_weight=None, bootstrap=False, total= 1.5min\n",
      "[CV]  n_estimators=500, min_samples_split=8, min_samples_leaf=4, max_features=auto, max_depth=None, class_weight=None, bootstrap=False, total= 1.6min\n",
      "[CV]  n_estimators=300, min_samples_split=5, min_samples_leaf=2, max_features=auto, max_depth=10, class_weight=None, bootstrap=True, total=  25.3s\n",
      "[CV]  n_estimators=500, min_samples_split=8, min_samples_leaf=4, max_features=auto, max_depth=None, class_weight=None, bootstrap=False, total= 1.5min\n"
     ]
    },
    {
     "name": "stderr",
     "output_type": "stream",
     "text": [
      "[Parallel(n_jobs=-1)]: Done  60 out of  60 | elapsed: 10.8min finished\n"
     ]
    },
    {
     "data": {
      "text/plain": [
       "RandomizedSearchCV(cv=3, error_score='raise',\n",
       "          estimator=RandomForestClassifier(bootstrap=True, class_weight=None, criterion='gini',\n",
       "            max_depth=None, max_features='auto', max_leaf_nodes=None,\n",
       "            min_impurity_decrease=0.0, min_impurity_split=None,\n",
       "            min_samples_leaf=1, min_samples_split=2,\n",
       "            min_weight_fraction_leaf=0.0, n_estimators=10, n_jobs=1,\n",
       "            oob_score=False, random_state=42, verbose=0, warm_start=False),\n",
       "          fit_params=None, iid=True, n_iter=20, n_jobs=-1,\n",
       "          param_distributions={'class_weight': ['balanced', None], 'n_estimators': [200, 300, 400, 500], 'max_features': ['auto', 'sqrt'], 'max_depth': [6, 7, 8, 9, 10, None], 'min_samples_split': [2, 3, 5, 7, 8, 10], 'min_samples_leaf': [1, 2, 3, 4, 5], 'bootstrap': [True, False]},\n",
       "          pre_dispatch='2*n_jobs', random_state=42, refit=True,\n",
       "          return_train_score='warn', scoring='roc_auc', verbose=2)"
      ]
     },
     "execution_count": 254,
     "metadata": {},
     "output_type": "execute_result"
    }
   ],
   "source": [
    "# Fit the random search model\n",
    "print(\"Please wait...\")\n",
    "model_rf_random.fit(x, y)"
   ]
  },
  {
   "cell_type": "code",
   "execution_count": 255,
   "metadata": {},
   "outputs": [
    {
     "data": {
      "text/plain": [
       "{'bootstrap': True,\n",
       " 'class_weight': None,\n",
       " 'max_depth': 9,\n",
       " 'max_features': 'sqrt',\n",
       " 'min_samples_leaf': 5,\n",
       " 'min_samples_split': 7,\n",
       " 'n_estimators': 500}"
      ]
     },
     "execution_count": 255,
     "metadata": {},
     "output_type": "execute_result"
    }
   ],
   "source": [
    "model_rf_random.best_params_"
   ]
  },
  {
   "cell_type": "code",
   "execution_count": 168,
   "metadata": {
    "collapsed": true
   },
   "outputs": [],
   "source": [
    "# Building the model based on RandomizedSearch results\n",
    "model_rf_b = RandomForestClassifier(class_weight=None,random_state=42,bootstrap=False,max_depth=9,max_features='sqrt',min_samples_leaf=5,min_samples_split=7,n_estimators=500)"
   ]
  },
  {
   "cell_type": "code",
   "execution_count": 257,
   "metadata": {},
   "outputs": [
    {
     "name": "stdout",
     "output_type": "stream",
     "text": [
      "New train set accuracy = 64.95726495726495\n",
      "New test set accuracy = 62.57415786827551\n",
      "New five-fold CV mean accuracy = 62.12297526561483\n",
      "New five-fold CV mean roc_auc score = 66.68650334028627\n"
     ]
    }
   ],
   "source": [
    "print(\"Please wait...\")\n",
    "model_rf_b.fit(x_train, y_train)\n",
    "print('New train set accuracy = {}'.format(model_rf_b.score(x_train,y_train)*100))\n",
    "print('New test set accuracy = {}'.format(model_rf_b.score(x_test,y_test)*100))\n",
    "print('New five-fold CV mean accuracy = {}'.format(np.mean(cross_val_score(model_rf_b,x,y,cv=5))*100))\n",
    "print('New five-fold CV mean roc_auc score = {}'.format(np.mean(cross_val_score(model_rf_b,x,y,cv=5,scoring='roc_auc'))*100))"
   ]
  },
  {
   "cell_type": "code",
   "execution_count": 170,
   "metadata": {
    "collapsed": true
   },
   "outputs": [],
   "source": [
    "# Taking all features with their importances\n",
    "features = pd.DataFrame(data=model_rf_b.feature_importances_,columns = [\"importance\"],index = x.columns)"
   ]
  },
  {
   "cell_type": "code",
   "execution_count": 171,
   "metadata": {},
   "outputs": [
    {
     "name": "stdout",
     "output_type": "stream",
     "text": [
      "                                             importance\n",
      "gender                                         0.004448\n",
      "time_in_hospital                               0.028065\n",
      "num_lab_procedures                             0.033682\n",
      "num_procedures                                 0.021702\n",
      "num_medications                                0.055873\n",
      "number_outpatient                              0.077942\n",
      "number_emergency                               0.099591\n",
      "number_inpatient                               0.379012\n",
      "number_diagnoses                               0.075875\n",
      "change                                         0.007174\n",
      "diabetesMed                                    0.020775\n",
      "age_mod                                        0.025049\n",
      "AfricanAmerican                                0.003061\n",
      "Asian                                          0.000783\n",
      "Caucasian                                      0.004428\n",
      "Hispanic                                       0.001539\n",
      "max_glu_serum_result(200,300]                  0.001210\n",
      "A1C_result>300                                 0.002091\n",
      "max_glu_serum_result_norm                      0.002491\n",
      "A1C_result(7,8]                                0.001174\n",
      "A1C_result>8                                   0.003233\n",
      "A1C_result_norm                                0.002457\n",
      "metformin_down                                 0.000383\n",
      "metformin_steady                               0.005400\n",
      "metformin_up                                   0.000577\n",
      "glimepiride_down                               0.000054\n",
      "glimepiride_steady                             0.001439\n",
      "glimepiride_up                                 0.000103\n",
      "glipizide_down                                 0.000401\n",
      "glipizide_steady                               0.002435\n",
      "glipizide_up                                   0.000520\n",
      "glyburide_down                                 0.000462\n",
      "glyburide_steady                               0.002256\n",
      "glyburide_up                                   0.000360\n",
      "pioglitazone_down                              0.000067\n",
      "pioglitazone_steady                            0.001823\n",
      "pioglitazone_up                                0.000107\n",
      "rosiglitazone_down                             0.000056\n",
      "rosiglitazone_steady                           0.002562\n",
      "rosiglitazone_up                               0.000085\n",
      "insulin_down                                   0.011272\n",
      "insulin_steady                                 0.003629\n",
      "insulin_up                                     0.004507\n",
      "Discharged to home                             0.013406\n",
      "Discharged to home with Home Health Service    0.020546\n",
      "Discharged/Transferred to SNF                  0.005000\n",
      "Emergency Room                                 0.032656\n",
      "Physician Referral                             0.006850\n",
      "Transfer from Home Health                      0.004590\n",
      "Elective                                       0.013660\n",
      "Emergency                                      0.008087\n",
      "Urgent                                         0.005051\n"
     ]
    }
   ],
   "source": [
    "print(features)"
   ]
  },
  {
   "cell_type": "code",
   "execution_count": 172,
   "metadata": {},
   "outputs": [
    {
     "name": "stdout",
     "output_type": "stream",
     "text": [
      "1. feature 7 (0.379012)\n",
      "2. feature 6 (0.099591)\n",
      "3. feature 5 (0.077942)\n",
      "4. feature 8 (0.075875)\n",
      "5. feature 4 (0.055873)\n",
      "6. feature 2 (0.033682)\n",
      "7. feature 46 (0.032656)\n",
      "8. feature 1 (0.028065)\n",
      "9. feature 11 (0.025049)\n",
      "10. feature 3 (0.021702)\n",
      "11. feature 10 (0.020775)\n",
      "12. feature 44 (0.020546)\n",
      "13. feature 49 (0.013660)\n",
      "14. feature 43 (0.013406)\n",
      "15. feature 40 (0.011272)\n",
      "16. feature 50 (0.008087)\n",
      "17. feature 9 (0.007174)\n",
      "18. feature 47 (0.006850)\n",
      "19. feature 23 (0.005400)\n",
      "20. feature 51 (0.005051)\n",
      "21. feature 45 (0.005000)\n",
      "22. feature 48 (0.004590)\n",
      "23. feature 42 (0.004507)\n",
      "24. feature 0 (0.004448)\n",
      "25. feature 14 (0.004428)\n",
      "26. feature 41 (0.003629)\n",
      "27. feature 20 (0.003233)\n",
      "28. feature 12 (0.003061)\n",
      "29. feature 38 (0.002562)\n",
      "30. feature 18 (0.002491)\n",
      "31. feature 21 (0.002457)\n",
      "32. feature 29 (0.002435)\n",
      "33. feature 32 (0.002256)\n",
      "34. feature 17 (0.002091)\n",
      "35. feature 35 (0.001823)\n",
      "36. feature 15 (0.001539)\n",
      "37. feature 26 (0.001439)\n",
      "38. feature 16 (0.001210)\n",
      "39. feature 19 (0.001174)\n",
      "40. feature 13 (0.000783)\n",
      "41. feature 24 (0.000577)\n",
      "42. feature 30 (0.000520)\n",
      "43. feature 31 (0.000462)\n",
      "44. feature 28 (0.000401)\n",
      "45. feature 22 (0.000383)\n",
      "46. feature 33 (0.000360)\n",
      "47. feature 36 (0.000107)\n",
      "48. feature 27 (0.000103)\n",
      "49. feature 39 (0.000085)\n",
      "50. feature 34 (0.000067)\n",
      "51. feature 37 (0.000056)\n",
      "52. feature 25 (0.000054)\n"
     ]
    }
   ],
   "source": [
    "importances = model_rf_b.feature_importances_\n",
    "std = np.std([tree.feature_importances_ for tree in model_rf_b.estimators_],axis=0)\n",
    "indices = np.argsort(importances)[::-1]\n",
    "for f in range(x_train.shape[1]):\n",
    "    print(\"%d. feature %d (%f)\" % (f + 1, indices[f], importances[indices[f]]))"
   ]
  },
  {
   "cell_type": "code",
   "execution_count": 173,
   "metadata": {
    "collapsed": true
   },
   "outputs": [],
   "source": [
    "trace = go.Bar(x=list(features.index[indices]), y=importances[indices],\n",
    "               marker=dict(color='red'),\n",
    "               error_y=dict(visible=True, arrayminus=std[indices]),\n",
    "               opacity=0.5)\n",
    "\n",
    "layout = go.Layout(title=\"Feature importances\")\n",
    "fig = go.Figure(data=[trace], layout=layout)"
   ]
  },
  {
   "cell_type": "code",
   "execution_count": 174,
   "metadata": {},
   "outputs": [
    {
     "data": {
      "text/html": [
       "<iframe id=\"igraph\" scrolling=\"no\" style=\"border:none;\" seamless=\"seamless\" src=\"https://plot.ly/~dvmartirosyan/8.embed\" height=\"525px\" width=\"100%\"></iframe>"
      ],
      "text/plain": [
       "<plotly.tools.PlotlyDisplay object>"
      ]
     },
     "execution_count": 174,
     "metadata": {},
     "output_type": "execute_result"
    }
   ],
   "source": [
    "py.iplot(fig)\n",
    "# From the figure below, we can see that especially number_inpatient and also number_emergency, number_outpatients\n",
    "# are very important, which is, of course, logical."
   ]
  },
  {
   "cell_type": "code",
   "execution_count": 175,
   "metadata": {
    "collapsed": true
   },
   "outputs": [],
   "source": [
    "# Selecting all features whose importances are greater than 0.01\n",
    "important_features = features[features.importance>0.01]"
   ]
  },
  {
   "cell_type": "code",
   "execution_count": 176,
   "metadata": {},
   "outputs": [
    {
     "name": "stdout",
     "output_type": "stream",
     "text": [
      "                                             importance\n",
      "time_in_hospital                               0.028065\n",
      "num_lab_procedures                             0.033682\n",
      "num_procedures                                 0.021702\n",
      "num_medications                                0.055873\n",
      "number_outpatient                              0.077942\n",
      "number_emergency                               0.099591\n",
      "number_inpatient                               0.379012\n",
      "number_diagnoses                               0.075875\n",
      "diabetesMed                                    0.020775\n",
      "age_mod                                        0.025049\n",
      "insulin_down                                   0.011272\n",
      "Discharged to home                             0.013406\n",
      "Discharged to home with Home Health Service    0.020546\n",
      "Emergency Room                                 0.032656\n",
      "Elective                                       0.013660\n"
     ]
    }
   ],
   "source": [
    "print(important_features)"
   ]
  },
  {
   "cell_type": "code",
   "execution_count": 307,
   "metadata": {
    "collapsed": true
   },
   "outputs": [],
   "source": [
    "# Taking train data that contains only important features \n",
    "selected_features = important_features.index\n",
    "x_train_new = x_train[selected_features]\n",
    "x_test_new = x_test[selected_features]"
   ]
  },
  {
   "cell_type": "code",
   "execution_count": 264,
   "metadata": {},
   "outputs": [
    {
     "name": "stdout",
     "output_type": "stream",
     "text": [
      "Train set accuracy with imp. features = 64.73604826546003\n",
      "Test set accuracy with imp. features = 62.41830065359477\n",
      "Five-fold CV mean accuracy with imp. features = 62.041270231730984\n",
      "Five-fold CV mean roc_auc score with imp. features = 66.58135381840738\n"
     ]
    }
   ],
   "source": [
    "# Fitting the model on our new train data\n",
    "print(\"Please wait...\")\n",
    "model_rf_b.fit(x_train_new,y_train)\n",
    "print('Train set accuracy with imp. features = {}'.format(model_rf_b.score(x_train_new,y_train)*100))\n",
    "print('Test set accuracy with imp. features = {}'.format(model_rf_b.score(x_test_new,y_test)*100))\n",
    "print('Five-fold CV mean accuracy with imp. features = {}'.format(np.mean(cross_val_score(model_rf_b,x[selected_features],y,cv=5))*100))\n",
    "print('Five-fold CV mean roc_auc score with imp. features = {}'.format(np.mean(cross_val_score(model_rf_b,x[selected_features],y,cv=5,scoring='roc_auc'))*100))\n",
    "# As we can see building our model only on important features did not have an impact on evaluation scores\n"
   ]
  },
  {
   "cell_type": "markdown",
   "metadata": {
    "collapsed": true
   },
   "source": [
    "We could do also RandomizeSearch/GridSearch for **Gradient Boosting** (and probably we would get a little bit higher accuracy), but it is computationally very expensive that's why we did it only for RandomForest."
   ]
  },
  {
   "cell_type": "code",
   "execution_count": 177,
   "metadata": {
    "collapsed": true
   },
   "outputs": [],
   "source": [
    "# Let's scale our data using MinMaxScaler method to see what happens to LogisticRegression results\n",
    "for i in range(len(x.columns)):\n",
    "    A = x.iloc[:,i]\n",
    "    x.iloc[:,i] = (x.iloc[:,i]-A.min())/(A.max()-A.min())"
   ]
  },
  {
   "cell_type": "code",
   "execution_count": 178,
   "metadata": {
    "collapsed": true
   },
   "outputs": [],
   "source": [
    "# Train-test split\n",
    "x_train, x_test, y_train, y_test = train_test_split(x,y,test_size=0.25,random_state = 42)"
   ]
  },
  {
   "cell_type": "code",
   "execution_count": 64,
   "metadata": {},
   "outputs": [
    {
     "name": "stdout",
     "output_type": "stream",
     "text": [
      "LogisticRegression on scaled data\n",
      "Train set accuracy = 62.32780291603821\n",
      "Test set accuracy = 61.990950226244344\n",
      "Five-fold CV mean accuracy = 61.46309482101074\n",
      "Five-fold CV mean roc_auc score = 65.7643470069736\n"
     ]
    }
   ],
   "source": [
    "print(\"LogisticRegression on scaled data\")\n",
    "model_logit.fit(x_train,y_train)\n",
    "print('Train set accuracy = {}'.format(model_logit.score(x_train,y_train)*100))\n",
    "print('Test set accuracy = {}'.format(model_logit.score(x_test,y_test)*100))\n",
    "print('Five-fold CV mean accuracy = {}'.format(np.mean(cross_val_score(model_logit,x,y,cv=5))*100))\n",
    "print('Five-fold CV mean roc_auc score = {}'.format(np.mean(cross_val_score(model_logit,x,y,cv=5,scoring='roc_auc'))*100))\n",
    "# As we can see, compared to the results obtained from non-scaled data, nothing really changed"
   ]
  },
  {
   "cell_type": "markdown",
   "metadata": {},
   "source": [
    "# Understanding features' impact on readmission using Econometric measures"
   ]
  },
  {
   "cell_type": "markdown",
   "metadata": {},
   "source": [
    "Now, after doing a lot of predictive analytics, let's use econometric approaches to understand the impact of the independent variables on our readmission dependent variable. We will use linear probability model first, because it is a lot more interpretable compared to Logistic regression. So, we will not use this model for accuracy measures, but just for understanding the coefficient impacts because the data itself is quite complex for a simple linear model. Later we will Use Logistic Regression from statsmodels library as it provides detailed statistical measures about coefficients and more. We will take out the most important features, then divide the data based on males and females to understand whether the variables change their impacts depending on gender. "
   ]
  },
  {
   "cell_type": "markdown",
   "metadata": {},
   "source": [
    "## Linear Probability Model"
   ]
  },
  {
   "cell_type": "code",
   "execution_count": 179,
   "metadata": {
    "collapsed": true
   },
   "outputs": [],
   "source": [
    "# Again doing test-train splitting because we need non-scaled data to understand the exact effect of \n",
    "# independent variables' coefficients\n",
    "y = data.readmission\n",
    "x = data.drop(\"readmission\",axis=1)"
   ]
  },
  {
   "cell_type": "code",
   "execution_count": 180,
   "metadata": {},
   "outputs": [
    {
     "name": "stdout",
     "output_type": "stream",
     "text": [
      "                            OLS Regression Results                            \n",
      "==============================================================================\n",
      "Dep. Variable:            readmission   R-squared:                       0.077\n",
      "Model:                            OLS   Adj. R-squared:                  0.076\n",
      "Method:                 Least Squares   F-statistic:                     138.7\n",
      "Date:                Fri, 18 May 2018   Prob (F-statistic):               0.00\n",
      "Time:                        17:31:36   Log-Likelihood:                -54373.\n",
      "No. Observations:               79560   AIC:                         1.089e+05\n",
      "Df Residuals:                   79507   BIC:                         1.093e+05\n",
      "Df Model:                          52                                         \n",
      "Covariance Type:                  HC1                                         \n",
      "===============================================================================================================\n",
      "                                                  coef    std err          t      P>|t|      [0.025      0.975]\n",
      "---------------------------------------------------------------------------------------------------------------\n",
      "const                                           0.0670      0.019      3.483      0.000       0.029       0.105\n",
      "gender                                         -0.0094      0.003     -2.725      0.006      -0.016      -0.003\n",
      "time_in_hospital                                0.0043      0.001      6.115      0.000       0.003       0.006\n",
      "num_lab_procedures                              0.0001      0.000      1.453      0.146   -5.19e-05       0.000\n",
      "num_procedures                                 -0.0096      0.001     -8.414      0.000      -0.012      -0.007\n",
      "num_medications                                 0.0005      0.000      1.839      0.066   -3.37e-05       0.001\n",
      "number_outpatient                               0.0157      0.001     11.456      0.000       0.013       0.018\n",
      "number_emergency                                0.0222      0.003      8.605      0.000       0.017       0.027\n",
      "number_inpatient                                0.0700      0.001     48.674      0.000       0.067       0.073\n",
      "number_diagnoses                                0.0177      0.001     18.329      0.000       0.016       0.020\n",
      "change                                          0.0037      0.006      0.568      0.570      -0.009       0.016\n",
      "diabetesMed                                     0.0772      0.006     12.521      0.000       0.065       0.089\n",
      "age_mod                                         0.0105      0.003      4.009      0.000       0.005       0.016\n",
      "AfricanAmerican                                 0.0549      0.014      3.824      0.000       0.027       0.083\n",
      "Asian                                          -0.0557      0.024     -2.290      0.022      -0.103      -0.008\n",
      "Caucasian                                       0.0558      0.014      3.998      0.000       0.028       0.083\n",
      "Hispanic                                        0.0227      0.018      1.254      0.210      -0.013       0.058\n",
      "max_glu_serum_result(200,300]                  -0.0265      0.016     -1.637      0.102      -0.058       0.005\n",
      "A1C_result>300                                  0.0166      0.016      1.030      0.303      -0.015       0.048\n",
      "max_glu_serum_result_norm                      -0.0268      0.013     -2.054      0.040      -0.052      -0.001\n",
      "A1C_result(7,8]                                -0.0242      0.009     -2.653      0.008      -0.042      -0.006\n",
      "A1C_result>8                                   -0.0024      0.007     -0.369      0.712      -0.015       0.010\n",
      "A1C_result_norm                                -0.0437      0.008     -5.505      0.000      -0.059      -0.028\n",
      "metformin_down                                 -0.0156      0.023     -0.683      0.494      -0.060       0.029\n",
      "metformin_steady                               -0.0441      0.005     -8.170      0.000      -0.055      -0.034\n",
      "metformin_up                                   -0.0481      0.017     -2.820      0.005      -0.082      -0.015\n",
      "glimepiride_down                               -0.0177      0.040     -0.445      0.656      -0.096       0.060\n",
      "glimepiride_steady                             -0.0025      0.009     -0.281      0.778      -0.020       0.015\n",
      "glimepiride_up                                 -0.0339      0.030     -1.139      0.255      -0.092       0.024\n",
      "glipizide_down                                  0.0280      0.025      1.142      0.254      -0.020       0.076\n",
      "glipizide_steady                                0.0153      0.006      2.416      0.016       0.003       0.028\n",
      "glipizide_up                                    0.0390      0.020      1.944      0.052      -0.000       0.078\n",
      "glyburide_down                                  0.0300      0.024      1.230      0.219      -0.018       0.078\n",
      "glyburide_steady                               -0.0037      0.007     -0.530      0.596      -0.017       0.010\n",
      "glyburide_up                                   -0.0114      0.020     -0.574      0.566      -0.050       0.028\n",
      "pioglitazone_down                               0.0365      0.050      0.738      0.461      -0.061       0.134\n",
      "pioglitazone_steady                             0.0120      0.007      1.653      0.098      -0.002       0.026\n",
      "pioglitazone_up                                 0.0232      0.036      0.651      0.515      -0.047       0.093\n",
      "rosiglitazone_down                             -0.1500      0.058     -2.590      0.010      -0.264      -0.036\n",
      "rosiglitazone_steady                            0.0292      0.008      3.801      0.000       0.014       0.044\n",
      "rosiglitazone_up                               -0.0623      0.041     -1.521      0.128      -0.143       0.018\n",
      "insulin_down                                    0.0046      0.009      0.509      0.611      -0.013       0.022\n",
      "insulin_steady                                 -0.0350      0.006     -6.230      0.000      -0.046      -0.024\n",
      "insulin_up                                     -0.0139      0.009     -1.525      0.127      -0.032       0.004\n",
      "Discharged to home                              0.0707      0.005     13.656      0.000       0.061       0.081\n",
      "Discharged to home with Home Health Service     0.1110      0.007     16.688      0.000       0.098       0.124\n",
      "Discharged/Transferred to SNF                   0.0584      0.007      8.736      0.000       0.045       0.072\n",
      "Emergency Room                                  0.1211      0.007     17.217      0.000       0.107       0.135\n",
      "Physician Referral                              0.0771      0.007     10.565      0.000       0.063       0.091\n",
      "Transfer from Home Health                       0.0309      0.012      2.532      0.011       0.007       0.055\n",
      "Elective                                       -0.0918      0.009    -10.101      0.000      -0.110      -0.074\n",
      "Emergency                                      -0.0940      0.008    -11.079      0.000      -0.111      -0.077\n",
      "Urgent                                         -0.0569      0.009     -6.509      0.000      -0.074      -0.040\n",
      "==============================================================================\n",
      "Omnibus:                      338.613   Durbin-Watson:                   1.967\n",
      "Prob(Omnibus):                  0.000   Jarque-Bera (JB):            10096.503\n",
      "Skew:                           0.161   Prob(JB):                         0.00\n",
      "Kurtosis:                       1.285   Cond. No.                     1.77e+03\n",
      "==============================================================================\n",
      "\n",
      "Warnings:\n",
      "[1] Standard Errors are heteroscedasticity robust (HC1)\n",
      "[2] The condition number is large, 1.77e+03. This might indicate that there are\n",
      "strong multicollinearity or other numerical problems.\n"
     ]
    }
   ],
   "source": [
    "linear_prob_results = sm.OLS(y,sm.add_constant(x)).fit()\n",
    "# We get the Robust coefficients to make sure we have no issues with hetersocedasticity.\n",
    "#This means t anf f tests are valid.\n",
    "linear_prob_results_robust=linear_prob_results.get_robustcov_results()\n",
    "print(linear_prob_results_robust.summary())"
   ]
  },
  {
   "cell_type": "code",
   "execution_count": 181,
   "metadata": {
    "collapsed": true
   },
   "outputs": [],
   "source": [
    "# Finding insignificant variables\n",
    "insignificant_vars = ['num_lab_procedures','change','Hispanic','glimepiride_down', \n",
    "                      'A1C_result>300','A1C_result>8', 'metformin_down','glimepiride_steady', 'glimepiride_up',\n",
    "                       'glipizide_down', 'glyburide_down','A1C_result(7,8]',\n",
    "                       'glyburide_steady', 'glyburide_up', 'pioglitazone_up','pioglitazone_down',\n",
    "                      'pioglitazone_steady','insulin_down','rosiglitazone_up','max_glu_serum_result(200,300]']"
   ]
  },
  {
   "cell_type": "code",
   "execution_count": 182,
   "metadata": {
    "collapsed": true
   },
   "outputs": [],
   "source": [
    "# Dropping those insignificant variables\n",
    "x_s = x.drop(insignificant_vars,axis=1)"
   ]
  },
  {
   "cell_type": "code",
   "execution_count": 183,
   "metadata": {
    "scrolled": false
   },
   "outputs": [
    {
     "name": "stdout",
     "output_type": "stream",
     "text": [
      "                            OLS Regression Results                            \n",
      "==============================================================================\n",
      "Dep. Variable:            readmission   R-squared:                       0.076\n",
      "Model:                            OLS   Adj. R-squared:                  0.076\n",
      "Method:                 Least Squares   F-statistic:                     224.1\n",
      "Date:                Fri, 18 May 2018   Prob (F-statistic):               0.00\n",
      "Time:                        17:31:38   Log-Likelihood:                -54387.\n",
      "No. Observations:               79560   AIC:                         1.088e+05\n",
      "Df Residuals:                   79527   BIC:                         1.091e+05\n",
      "Df Model:                          32                                         \n",
      "Covariance Type:                  HC1                                         \n",
      "===============================================================================================================\n",
      "                                                  coef    std err          t      P>|t|      [0.025      0.975]\n",
      "---------------------------------------------------------------------------------------------------------------\n",
      "const                                           0.0821      0.015      5.326      0.000       0.052       0.112\n",
      "gender                                         -0.0095      0.003     -2.761      0.006      -0.016      -0.003\n",
      "time_in_hospital                                0.0044      0.001      6.481      0.000       0.003       0.006\n",
      "num_procedures                                 -0.0096      0.001     -8.494      0.000      -0.012      -0.007\n",
      "num_medications                                 0.0007      0.000      2.426      0.015       0.000       0.001\n",
      "number_outpatient                               0.0157      0.001     11.459      0.000       0.013       0.018\n",
      "number_emergency                                0.0223      0.003      8.605      0.000       0.017       0.027\n",
      "number_inpatient                                0.0702      0.001     48.972      0.000       0.067       0.073\n",
      "number_diagnoses                                0.0178      0.001     18.488      0.000       0.016       0.020\n",
      "diabetesMed                                     0.0808      0.005     16.272      0.000       0.071       0.091\n",
      "age_mod                                         0.0101      0.003      3.932      0.000       0.005       0.015\n",
      "AfricanAmerican                                 0.0417      0.010      4.269      0.000       0.023       0.061\n",
      "Asian                                          -0.0693      0.022     -3.162      0.002      -0.112      -0.026\n",
      "Caucasian                                       0.0425      0.009      4.627      0.000       0.025       0.061\n",
      "max_glu_serum_result_norm                      -0.0257      0.012     -2.073      0.038      -0.050      -0.001\n",
      "A1C_result_norm                                -0.0409      0.008     -5.222      0.000      -0.056      -0.026\n",
      "metformin_steady                               -0.0445      0.005     -9.423      0.000      -0.054      -0.035\n",
      "metformin_up                                   -0.0482      0.017     -2.888      0.004      -0.081      -0.015\n",
      "glipizide_steady                                0.0158      0.006      2.806      0.005       0.005       0.027\n",
      "glipizide_up                                    0.0405      0.020      2.059      0.040       0.002       0.079\n",
      "rosiglitazone_down                             -0.1490      0.058     -2.579      0.010      -0.262      -0.036\n",
      "rosiglitazone_steady                            0.0284      0.007      3.890      0.000       0.014       0.043\n",
      "insulin_steady                                 -0.0374      0.004     -8.657      0.000      -0.046      -0.029\n",
      "insulin_up                                     -0.0144      0.006     -2.385      0.017      -0.026      -0.003\n",
      "Discharged to home                              0.0713      0.005     13.806      0.000       0.061       0.081\n",
      "Discharged to home with Home Health Service     0.1113      0.007     16.753      0.000       0.098       0.124\n",
      "Discharged/Transferred to SNF                   0.0588      0.007      8.818      0.000       0.046       0.072\n",
      "Emergency Room                                  0.1217      0.007     17.364      0.000       0.108       0.135\n",
      "Physician Referral                              0.0772      0.007     10.593      0.000       0.063       0.091\n",
      "Transfer from Home Health                       0.0281      0.012      2.408      0.016       0.005       0.051\n",
      "Elective                                       -0.0923      0.009    -10.425      0.000      -0.110      -0.075\n",
      "Emergency                                      -0.0933      0.008    -11.225      0.000      -0.110      -0.077\n",
      "Urgent                                         -0.0571      0.009     -6.672      0.000      -0.074      -0.040\n",
      "==============================================================================\n",
      "Omnibus:                      339.064   Durbin-Watson:                   1.967\n",
      "Prob(Omnibus):                  0.000   Jarque-Bera (JB):            10113.416\n",
      "Skew:                           0.161   Prob(JB):                         0.00\n",
      "Kurtosis:                       1.283   Cond. No.                         697.\n",
      "==============================================================================\n",
      "\n",
      "Warnings:\n",
      "[1] Standard Errors are heteroscedasticity robust (HC1)\n"
     ]
    }
   ],
   "source": [
    "# Building another linear probability model with only significant variables.\n",
    "linear_prob_results = sm.OLS(y,sm.add_constant(x_s,)).fit()\n",
    "linear_prob_results_robust=linear_prob_results.get_robustcov_results()\n",
    "print(linear_prob_results_robust.summary())"
   ]
  },
  {
   "cell_type": "markdown",
   "metadata": {
    "collapsed": true
   },
   "source": [
    "The interpretation of some of the coefficients are the following for the Linear Probability Model:\n",
    "1. Holding all other factors constant a male patient has 0.95% lower chance of returning to hospital within\n",
    "   one year compared to women.\n",
    "2. Holding all other factors constant, if you increase the number of days stayed in hospital by one day the          probability of returning to hospital by increases by 0.44%\n",
    "3. Holding all other factors constant, compared to a patient who has not received insulin, a patient who has had a    steady dose of insulin has a 3.74% lower chance of returning to a hospital."
   ]
  },
  {
   "cell_type": "markdown",
   "metadata": {},
   "source": [
    "## Logistic Regression "
   ]
  },
  {
   "cell_type": "code",
   "execution_count": 184,
   "metadata": {
    "collapsed": true
   },
   "outputs": [],
   "source": [
    "# Here we do not split the data into train and test sets because we are just interested in the interpretation of the \n",
    "# variables and thus the whole data will be our train data.\n",
    "y = data.readmission\n",
    "x = data.drop(\"readmission\",axis=1)"
   ]
  },
  {
   "cell_type": "code",
   "execution_count": 185,
   "metadata": {},
   "outputs": [
    {
     "name": "stdout",
     "output_type": "stream",
     "text": [
      "Optimization terminated successfully.\n",
      "         Current function value: 0.647980\n",
      "         Iterations 6\n"
     ]
    },
    {
     "data": {
      "text/html": [
       "<table class=\"simpletable\">\n",
       "<caption>Logit Regression Results</caption>\n",
       "<tr>\n",
       "  <th>Dep. Variable:</th>    <td>readmission</td>   <th>  No. Observations:  </th>  <td> 79560</td> \n",
       "</tr>\n",
       "<tr>\n",
       "  <th>Model:</th>               <td>Logit</td>      <th>  Df Residuals:      </th>  <td> 79507</td> \n",
       "</tr>\n",
       "<tr>\n",
       "  <th>Method:</th>               <td>MLE</td>       <th>  Df Model:          </th>  <td>    52</td> \n",
       "</tr>\n",
       "<tr>\n",
       "  <th>Date:</th>          <td>Fri, 18 May 2018</td> <th>  Pseudo R-squ.:     </th>  <td>0.06170</td>\n",
       "</tr>\n",
       "<tr>\n",
       "  <th>Time:</th>              <td>17:31:41</td>     <th>  Log-Likelihood:    </th> <td> -51553.</td>\n",
       "</tr>\n",
       "<tr>\n",
       "  <th>converged:</th>           <td>True</td>       <th>  LL-Null:           </th> <td> -54944.</td>\n",
       "</tr>\n",
       "<tr>\n",
       "  <th> </th>                      <td> </td>        <th>  LLR p-value:       </th>  <td> 0.000</td> \n",
       "</tr>\n",
       "</table>\n",
       "<table class=\"simpletable\">\n",
       "<tr>\n",
       "                       <td></td>                          <th>coef</th>     <th>std err</th>      <th>z</th>      <th>P>|z|</th>  <th>[0.025</th>    <th>0.975]</th>  \n",
       "</tr>\n",
       "<tr>\n",
       "  <th>const</th>                                       <td>   -1.8831</td> <td>    0.087</td> <td>  -21.678</td> <td> 0.000</td> <td>   -2.053</td> <td>   -1.713</td>\n",
       "</tr>\n",
       "<tr>\n",
       "  <th>gender</th>                                      <td>   -0.0435</td> <td>    0.015</td> <td>   -2.896</td> <td> 0.004</td> <td>   -0.073</td> <td>   -0.014</td>\n",
       "</tr>\n",
       "<tr>\n",
       "  <th>time_in_hospital</th>                            <td>    0.0186</td> <td>    0.003</td> <td>    6.103</td> <td> 0.000</td> <td>    0.013</td> <td>    0.025</td>\n",
       "</tr>\n",
       "<tr>\n",
       "  <th>num_lab_procedures</th>                          <td>    0.0006</td> <td>    0.000</td> <td>    1.326</td> <td> 0.185</td> <td>   -0.000</td> <td>    0.001</td>\n",
       "</tr>\n",
       "<tr>\n",
       "  <th>num_procedures</th>                              <td>   -0.0373</td> <td>    0.005</td> <td>   -7.465</td> <td> 0.000</td> <td>   -0.047</td> <td>   -0.028</td>\n",
       "</tr>\n",
       "<tr>\n",
       "  <th>num_medications</th>                             <td>    0.0018</td> <td>    0.001</td> <td>    1.502</td> <td> 0.133</td> <td>   -0.001</td> <td>    0.004</td>\n",
       "</tr>\n",
       "<tr>\n",
       "  <th>number_outpatient</th>                           <td>    0.0671</td> <td>    0.007</td> <td>    9.218</td> <td> 0.000</td> <td>    0.053</td> <td>    0.081</td>\n",
       "</tr>\n",
       "<tr>\n",
       "  <th>number_emergency</th>                            <td>    0.2103</td> <td>    0.016</td> <td>   12.896</td> <td> 0.000</td> <td>    0.178</td> <td>    0.242</td>\n",
       "</tr>\n",
       "<tr>\n",
       "  <th>number_inpatient</th>                            <td>    0.3620</td> <td>    0.009</td> <td>   41.247</td> <td> 0.000</td> <td>    0.345</td> <td>    0.379</td>\n",
       "</tr>\n",
       "<tr>\n",
       "  <th>number_diagnoses</th>                            <td>    0.0729</td> <td>    0.004</td> <td>   17.059</td> <td> 0.000</td> <td>    0.065</td> <td>    0.081</td>\n",
       "</tr>\n",
       "<tr>\n",
       "  <th>change</th>                                      <td>    0.0143</td> <td>    0.028</td> <td>    0.513</td> <td> 0.608</td> <td>   -0.040</td> <td>    0.069</td>\n",
       "</tr>\n",
       "<tr>\n",
       "  <th>diabetesMed</th>                                 <td>    0.3272</td> <td>    0.027</td> <td>   12.198</td> <td> 0.000</td> <td>    0.275</td> <td>    0.380</td>\n",
       "</tr>\n",
       "<tr>\n",
       "  <th>age_mod</th>                                     <td>    0.0460</td> <td>    0.011</td> <td>    4.049</td> <td> 0.000</td> <td>    0.024</td> <td>    0.068</td>\n",
       "</tr>\n",
       "<tr>\n",
       "  <th>AfricanAmerican</th>                             <td>    0.2324</td> <td>    0.065</td> <td>    3.603</td> <td> 0.000</td> <td>    0.106</td> <td>    0.359</td>\n",
       "</tr>\n",
       "<tr>\n",
       "  <th>Asian</th>                                       <td>   -0.2447</td> <td>    0.113</td> <td>   -2.158</td> <td> 0.031</td> <td>   -0.467</td> <td>   -0.022</td>\n",
       "</tr>\n",
       "<tr>\n",
       "  <th>Caucasian</th>                                   <td>    0.2476</td> <td>    0.063</td> <td>    3.944</td> <td> 0.000</td> <td>    0.125</td> <td>    0.371</td>\n",
       "</tr>\n",
       "<tr>\n",
       "  <th>Hispanic</th>                                    <td>    0.0916</td> <td>    0.081</td> <td>    1.131</td> <td> 0.258</td> <td>   -0.067</td> <td>    0.250</td>\n",
       "</tr>\n",
       "<tr>\n",
       "  <th>max_glu_serum_result(200,300]</th>               <td>   -0.1322</td> <td>    0.070</td> <td>   -1.891</td> <td> 0.059</td> <td>   -0.269</td> <td>    0.005</td>\n",
       "</tr>\n",
       "<tr>\n",
       "  <th>A1C_result>300</th>                              <td>    0.0746</td> <td>    0.071</td> <td>    1.056</td> <td> 0.291</td> <td>   -0.064</td> <td>    0.213</td>\n",
       "</tr>\n",
       "<tr>\n",
       "  <th>max_glu_serum_result_norm</th>                   <td>   -0.1337</td> <td>    0.056</td> <td>   -2.370</td> <td> 0.018</td> <td>   -0.244</td> <td>   -0.023</td>\n",
       "</tr>\n",
       "<tr>\n",
       "  <th>A1C_result(7,8]</th>                             <td>   -0.0902</td> <td>    0.039</td> <td>   -2.287</td> <td> 0.022</td> <td>   -0.168</td> <td>   -0.013</td>\n",
       "</tr>\n",
       "<tr>\n",
       "  <th>A1C_result>8</th>                                <td>   -0.0016</td> <td>    0.028</td> <td>   -0.055</td> <td> 0.956</td> <td>   -0.057</td> <td>    0.054</td>\n",
       "</tr>\n",
       "<tr>\n",
       "  <th>A1C_result_norm</th>                             <td>   -0.1824</td> <td>    0.035</td> <td>   -5.260</td> <td> 0.000</td> <td>   -0.250</td> <td>   -0.114</td>\n",
       "</tr>\n",
       "<tr>\n",
       "  <th>metformin_down</th>                              <td>   -0.0626</td> <td>    0.096</td> <td>   -0.650</td> <td> 0.515</td> <td>   -0.251</td> <td>    0.126</td>\n",
       "</tr>\n",
       "<tr>\n",
       "  <th>metformin_steady</th>                            <td>   -0.1812</td> <td>    0.023</td> <td>   -7.799</td> <td> 0.000</td> <td>   -0.227</td> <td>   -0.136</td>\n",
       "</tr>\n",
       "<tr>\n",
       "  <th>metformin_up</th>                                <td>   -0.1963</td> <td>    0.073</td> <td>   -2.675</td> <td> 0.007</td> <td>   -0.340</td> <td>   -0.052</td>\n",
       "</tr>\n",
       "<tr>\n",
       "  <th>glimepiride_down</th>                            <td>   -0.0679</td> <td>    0.169</td> <td>   -0.402</td> <td> 0.688</td> <td>   -0.399</td> <td>    0.263</td>\n",
       "</tr>\n",
       "<tr>\n",
       "  <th>glimepiride_steady</th>                          <td>   -0.0052</td> <td>    0.038</td> <td>   -0.138</td> <td> 0.890</td> <td>   -0.079</td> <td>    0.068</td>\n",
       "</tr>\n",
       "<tr>\n",
       "  <th>glimepiride_up</th>                              <td>   -0.1468</td> <td>    0.131</td> <td>   -1.121</td> <td> 0.262</td> <td>   -0.404</td> <td>    0.110</td>\n",
       "</tr>\n",
       "<tr>\n",
       "  <th>glipizide_down</th>                              <td>    0.1181</td> <td>    0.105</td> <td>    1.130</td> <td> 0.258</td> <td>   -0.087</td> <td>    0.323</td>\n",
       "</tr>\n",
       "<tr>\n",
       "  <th>glipizide_steady</th>                            <td>    0.0692</td> <td>    0.027</td> <td>    2.541</td> <td> 0.011</td> <td>    0.016</td> <td>    0.123</td>\n",
       "</tr>\n",
       "<tr>\n",
       "  <th>glipizide_up</th>                                <td>    0.1696</td> <td>    0.085</td> <td>    1.986</td> <td> 0.047</td> <td>    0.002</td> <td>    0.337</td>\n",
       "</tr>\n",
       "<tr>\n",
       "  <th>glyburide_down</th>                              <td>    0.1324</td> <td>    0.104</td> <td>    1.273</td> <td> 0.203</td> <td>   -0.071</td> <td>    0.336</td>\n",
       "</tr>\n",
       "<tr>\n",
       "  <th>glyburide_steady</th>                            <td>   -0.0078</td> <td>    0.030</td> <td>   -0.264</td> <td> 0.792</td> <td>   -0.066</td> <td>    0.050</td>\n",
       "</tr>\n",
       "<tr>\n",
       "  <th>glyburide_up</th>                                <td>   -0.0377</td> <td>    0.085</td> <td>   -0.445</td> <td> 0.657</td> <td>   -0.204</td> <td>    0.129</td>\n",
       "</tr>\n",
       "<tr>\n",
       "  <th>pioglitazone_down</th>                           <td>    0.1590</td> <td>    0.216</td> <td>    0.737</td> <td> 0.461</td> <td>   -0.264</td> <td>    0.582</td>\n",
       "</tr>\n",
       "<tr>\n",
       "  <th>pioglitazone_steady</th>                         <td>    0.0497</td> <td>    0.031</td> <td>    1.598</td> <td> 0.110</td> <td>   -0.011</td> <td>    0.111</td>\n",
       "</tr>\n",
       "<tr>\n",
       "  <th>pioglitazone_up</th>                             <td>    0.1014</td> <td>    0.152</td> <td>    0.669</td> <td> 0.504</td> <td>   -0.196</td> <td>    0.399</td>\n",
       "</tr>\n",
       "<tr>\n",
       "  <th>rosiglitazone_down</th>                          <td>   -0.6639</td> <td>    0.283</td> <td>   -2.346</td> <td> 0.019</td> <td>   -1.219</td> <td>   -0.109</td>\n",
       "</tr>\n",
       "<tr>\n",
       "  <th>rosiglitazone_steady</th>                        <td>    0.1262</td> <td>    0.033</td> <td>    3.839</td> <td> 0.000</td> <td>    0.062</td> <td>    0.191</td>\n",
       "</tr>\n",
       "<tr>\n",
       "  <th>rosiglitazone_up</th>                            <td>   -0.2739</td> <td>    0.182</td> <td>   -1.507</td> <td> 0.132</td> <td>   -0.630</td> <td>    0.082</td>\n",
       "</tr>\n",
       "<tr>\n",
       "  <th>insulin_down</th>                                <td>    0.0174</td> <td>    0.039</td> <td>    0.448</td> <td> 0.654</td> <td>   -0.059</td> <td>    0.094</td>\n",
       "</tr>\n",
       "<tr>\n",
       "  <th>insulin_steady</th>                              <td>   -0.1492</td> <td>    0.024</td> <td>   -6.165</td> <td> 0.000</td> <td>   -0.197</td> <td>   -0.102</td>\n",
       "</tr>\n",
       "<tr>\n",
       "  <th>insulin_up</th>                                  <td>   -0.0609</td> <td>    0.039</td> <td>   -1.553</td> <td> 0.120</td> <td>   -0.138</td> <td>    0.016</td>\n",
       "</tr>\n",
       "<tr>\n",
       "  <th>Discharged to home</th>                          <td>    0.3165</td> <td>    0.023</td> <td>   13.654</td> <td> 0.000</td> <td>    0.271</td> <td>    0.362</td>\n",
       "</tr>\n",
       "<tr>\n",
       "  <th>Discharged to home with Home Health Service</th> <td>    0.4812</td> <td>    0.029</td> <td>   16.411</td> <td> 0.000</td> <td>    0.424</td> <td>    0.539</td>\n",
       "</tr>\n",
       "<tr>\n",
       "  <th>Discharged/Transferred to SNF</th>               <td>    0.2480</td> <td>    0.029</td> <td>    8.458</td> <td> 0.000</td> <td>    0.191</td> <td>    0.305</td>\n",
       "</tr>\n",
       "<tr>\n",
       "  <th>Emergency Room</th>                              <td>    0.5300</td> <td>    0.033</td> <td>   16.158</td> <td> 0.000</td> <td>    0.466</td> <td>    0.594</td>\n",
       "</tr>\n",
       "<tr>\n",
       "  <th>Physician Referral</th>                          <td>    0.3450</td> <td>    0.034</td> <td>   10.261</td> <td> 0.000</td> <td>    0.279</td> <td>    0.411</td>\n",
       "</tr>\n",
       "<tr>\n",
       "  <th>Transfer from Home Health</th>                   <td>    0.1331</td> <td>    0.054</td> <td>    2.475</td> <td> 0.013</td> <td>    0.028</td> <td>    0.239</td>\n",
       "</tr>\n",
       "<tr>\n",
       "  <th>Elective</th>                                    <td>   -0.4046</td> <td>    0.039</td> <td>  -10.305</td> <td> 0.000</td> <td>   -0.482</td> <td>   -0.328</td>\n",
       "</tr>\n",
       "<tr>\n",
       "  <th>Emergency</th>                                   <td>   -0.4153</td> <td>    0.037</td> <td>  -11.302</td> <td> 0.000</td> <td>   -0.487</td> <td>   -0.343</td>\n",
       "</tr>\n",
       "<tr>\n",
       "  <th>Urgent</th>                                      <td>   -0.2546</td> <td>    0.038</td> <td>   -6.763</td> <td> 0.000</td> <td>   -0.328</td> <td>   -0.181</td>\n",
       "</tr>\n",
       "</table>"
      ],
      "text/plain": [
       "<class 'statsmodels.iolib.summary.Summary'>\n",
       "\"\"\"\n",
       "                           Logit Regression Results                           \n",
       "==============================================================================\n",
       "Dep. Variable:            readmission   No. Observations:                79560\n",
       "Model:                          Logit   Df Residuals:                    79507\n",
       "Method:                           MLE   Df Model:                           52\n",
       "Date:                Fri, 18 May 2018   Pseudo R-squ.:                 0.06170\n",
       "Time:                        17:31:41   Log-Likelihood:                -51553.\n",
       "converged:                       True   LL-Null:                       -54944.\n",
       "                                        LLR p-value:                     0.000\n",
       "===============================================================================================================\n",
       "                                                  coef    std err          z      P>|z|      [0.025      0.975]\n",
       "---------------------------------------------------------------------------------------------------------------\n",
       "const                                          -1.8831      0.087    -21.678      0.000      -2.053      -1.713\n",
       "gender                                         -0.0435      0.015     -2.896      0.004      -0.073      -0.014\n",
       "time_in_hospital                                0.0186      0.003      6.103      0.000       0.013       0.025\n",
       "num_lab_procedures                              0.0006      0.000      1.326      0.185      -0.000       0.001\n",
       "num_procedures                                 -0.0373      0.005     -7.465      0.000      -0.047      -0.028\n",
       "num_medications                                 0.0018      0.001      1.502      0.133      -0.001       0.004\n",
       "number_outpatient                               0.0671      0.007      9.218      0.000       0.053       0.081\n",
       "number_emergency                                0.2103      0.016     12.896      0.000       0.178       0.242\n",
       "number_inpatient                                0.3620      0.009     41.247      0.000       0.345       0.379\n",
       "number_diagnoses                                0.0729      0.004     17.059      0.000       0.065       0.081\n",
       "change                                          0.0143      0.028      0.513      0.608      -0.040       0.069\n",
       "diabetesMed                                     0.3272      0.027     12.198      0.000       0.275       0.380\n",
       "age_mod                                         0.0460      0.011      4.049      0.000       0.024       0.068\n",
       "AfricanAmerican                                 0.2324      0.065      3.603      0.000       0.106       0.359\n",
       "Asian                                          -0.2447      0.113     -2.158      0.031      -0.467      -0.022\n",
       "Caucasian                                       0.2476      0.063      3.944      0.000       0.125       0.371\n",
       "Hispanic                                        0.0916      0.081      1.131      0.258      -0.067       0.250\n",
       "max_glu_serum_result(200,300]                  -0.1322      0.070     -1.891      0.059      -0.269       0.005\n",
       "A1C_result>300                                  0.0746      0.071      1.056      0.291      -0.064       0.213\n",
       "max_glu_serum_result_norm                      -0.1337      0.056     -2.370      0.018      -0.244      -0.023\n",
       "A1C_result(7,8]                                -0.0902      0.039     -2.287      0.022      -0.168      -0.013\n",
       "A1C_result>8                                   -0.0016      0.028     -0.055      0.956      -0.057       0.054\n",
       "A1C_result_norm                                -0.1824      0.035     -5.260      0.000      -0.250      -0.114\n",
       "metformin_down                                 -0.0626      0.096     -0.650      0.515      -0.251       0.126\n",
       "metformin_steady                               -0.1812      0.023     -7.799      0.000      -0.227      -0.136\n",
       "metformin_up                                   -0.1963      0.073     -2.675      0.007      -0.340      -0.052\n",
       "glimepiride_down                               -0.0679      0.169     -0.402      0.688      -0.399       0.263\n",
       "glimepiride_steady                             -0.0052      0.038     -0.138      0.890      -0.079       0.068\n",
       "glimepiride_up                                 -0.1468      0.131     -1.121      0.262      -0.404       0.110\n",
       "glipizide_down                                  0.1181      0.105      1.130      0.258      -0.087       0.323\n",
       "glipizide_steady                                0.0692      0.027      2.541      0.011       0.016       0.123\n",
       "glipizide_up                                    0.1696      0.085      1.986      0.047       0.002       0.337\n",
       "glyburide_down                                  0.1324      0.104      1.273      0.203      -0.071       0.336\n",
       "glyburide_steady                               -0.0078      0.030     -0.264      0.792      -0.066       0.050\n",
       "glyburide_up                                   -0.0377      0.085     -0.445      0.657      -0.204       0.129\n",
       "pioglitazone_down                               0.1590      0.216      0.737      0.461      -0.264       0.582\n",
       "pioglitazone_steady                             0.0497      0.031      1.598      0.110      -0.011       0.111\n",
       "pioglitazone_up                                 0.1014      0.152      0.669      0.504      -0.196       0.399\n",
       "rosiglitazone_down                             -0.6639      0.283     -2.346      0.019      -1.219      -0.109\n",
       "rosiglitazone_steady                            0.1262      0.033      3.839      0.000       0.062       0.191\n",
       "rosiglitazone_up                               -0.2739      0.182     -1.507      0.132      -0.630       0.082\n",
       "insulin_down                                    0.0174      0.039      0.448      0.654      -0.059       0.094\n",
       "insulin_steady                                 -0.1492      0.024     -6.165      0.000      -0.197      -0.102\n",
       "insulin_up                                     -0.0609      0.039     -1.553      0.120      -0.138       0.016\n",
       "Discharged to home                              0.3165      0.023     13.654      0.000       0.271       0.362\n",
       "Discharged to home with Home Health Service     0.4812      0.029     16.411      0.000       0.424       0.539\n",
       "Discharged/Transferred to SNF                   0.2480      0.029      8.458      0.000       0.191       0.305\n",
       "Emergency Room                                  0.5300      0.033     16.158      0.000       0.466       0.594\n",
       "Physician Referral                              0.3450      0.034     10.261      0.000       0.279       0.411\n",
       "Transfer from Home Health                       0.1331      0.054      2.475      0.013       0.028       0.239\n",
       "Elective                                       -0.4046      0.039    -10.305      0.000      -0.482      -0.328\n",
       "Emergency                                      -0.4153      0.037    -11.302      0.000      -0.487      -0.343\n",
       "Urgent                                         -0.2546      0.038     -6.763      0.000      -0.328      -0.181\n",
       "===============================================================================================================\n",
       "\"\"\""
      ]
     },
     "execution_count": 185,
     "metadata": {},
     "output_type": "execute_result"
    }
   ],
   "source": [
    "# Now we use logistic regression from statsmodels. The summary of the results gives us detailed information.\n",
    "new_logit_model_b = sm.Logit(y, sm.add_constant(x))\n",
    "result = new_logit_model_b.fit(cov_type='HC1')\n",
    "result.summary()"
   ]
  },
  {
   "cell_type": "code",
   "execution_count": 186,
   "metadata": {
    "collapsed": true
   },
   "outputs": [],
   "source": [
    "# We dropped those variables which have P values higher than 0.05 (our alpha). We do not do it step by step here but \n",
    "# at the end we get the list of variables which need to be dropped.\n",
    "insignificant_vars = ['num_lab_procedures','num_medications','change','Hispanic',\n",
    "                     'A1C_result>300','A1C_result>8','metformin_down','glimepiride_steady', 'glimepiride_up',\n",
    "                       'glipizide_down','glyburide_steady', 'glyburide_up','glimepiride_down',\n",
    "                     'glyburide_down','pioglitazone_up','pioglitazone_down','insulin_down','pioglitazone_steady',\n",
    "                     'rosiglitazone_up']"
   ]
  },
  {
   "cell_type": "code",
   "execution_count": 187,
   "metadata": {
    "collapsed": true
   },
   "outputs": [],
   "source": [
    "# Dropping Insignificant variables\n",
    "x_s = x.drop(insignificant_vars,axis=1)"
   ]
  },
  {
   "cell_type": "code",
   "execution_count": 188,
   "metadata": {},
   "outputs": [
    {
     "name": "stdout",
     "output_type": "stream",
     "text": [
      "Optimization terminated successfully.\n",
      "         Current function value: 0.648115\n",
      "         Iterations 6\n"
     ]
    },
    {
     "data": {
      "text/html": [
       "<table class=\"simpletable\">\n",
       "<caption>Logit Regression Results</caption>\n",
       "<tr>\n",
       "  <th>Dep. Variable:</th>    <td>readmission</td>   <th>  No. Observations:  </th>  <td> 79560</td> \n",
       "</tr>\n",
       "<tr>\n",
       "  <th>Model:</th>               <td>Logit</td>      <th>  Df Residuals:      </th>  <td> 79526</td> \n",
       "</tr>\n",
       "<tr>\n",
       "  <th>Method:</th>               <td>MLE</td>       <th>  Df Model:          </th>  <td>    33</td> \n",
       "</tr>\n",
       "<tr>\n",
       "  <th>Date:</th>          <td>Fri, 18 May 2018</td> <th>  Pseudo R-squ.:     </th>  <td>0.06151</td>\n",
       "</tr>\n",
       "<tr>\n",
       "  <th>Time:</th>              <td>17:31:42</td>     <th>  Log-Likelihood:    </th> <td> -51564.</td>\n",
       "</tr>\n",
       "<tr>\n",
       "  <th>converged:</th>           <td>True</td>       <th>  LL-Null:           </th> <td> -54944.</td>\n",
       "</tr>\n",
       "<tr>\n",
       "  <th> </th>                      <td> </td>        <th>  LLR p-value:       </th>  <td> 0.000</td> \n",
       "</tr>\n",
       "</table>\n",
       "<table class=\"simpletable\">\n",
       "<tr>\n",
       "                       <td></td>                          <th>coef</th>     <th>std err</th>      <th>z</th>      <th>P>|z|</th>  <th>[0.025</th>    <th>0.975]</th>  \n",
       "</tr>\n",
       "<tr>\n",
       "  <th>const</th>                                       <td>   -1.8006</td> <td>    0.070</td> <td>  -25.761</td> <td> 0.000</td> <td>   -1.938</td> <td>   -1.664</td>\n",
       "</tr>\n",
       "<tr>\n",
       "  <th>gender</th>                                      <td>   -0.0447</td> <td>    0.015</td> <td>   -2.979</td> <td> 0.003</td> <td>   -0.074</td> <td>   -0.015</td>\n",
       "</tr>\n",
       "<tr>\n",
       "  <th>time_in_hospital</th>                            <td>    0.0218</td> <td>    0.003</td> <td>    7.903</td> <td> 0.000</td> <td>    0.016</td> <td>    0.027</td>\n",
       "</tr>\n",
       "<tr>\n",
       "  <th>num_procedures</th>                              <td>   -0.0347</td> <td>    0.005</td> <td>   -7.413</td> <td> 0.000</td> <td>   -0.044</td> <td>   -0.026</td>\n",
       "</tr>\n",
       "<tr>\n",
       "  <th>number_outpatient</th>                           <td>    0.0677</td> <td>    0.007</td> <td>    9.293</td> <td> 0.000</td> <td>    0.053</td> <td>    0.082</td>\n",
       "</tr>\n",
       "<tr>\n",
       "  <th>number_emergency</th>                            <td>    0.2113</td> <td>    0.016</td> <td>   12.946</td> <td> 0.000</td> <td>    0.179</td> <td>    0.243</td>\n",
       "</tr>\n",
       "<tr>\n",
       "  <th>number_inpatient</th>                            <td>    0.3628</td> <td>    0.009</td> <td>   41.457</td> <td> 0.000</td> <td>    0.346</td> <td>    0.380</td>\n",
       "</tr>\n",
       "<tr>\n",
       "  <th>number_diagnoses</th>                            <td>    0.0746</td> <td>    0.004</td> <td>   17.779</td> <td> 0.000</td> <td>    0.066</td> <td>    0.083</td>\n",
       "</tr>\n",
       "<tr>\n",
       "  <th>diabetesMed</th>                                 <td>    0.3497</td> <td>    0.022</td> <td>   16.214</td> <td> 0.000</td> <td>    0.307</td> <td>    0.392</td>\n",
       "</tr>\n",
       "<tr>\n",
       "  <th>age_mod</th>                                     <td>    0.0439</td> <td>    0.011</td> <td>    3.924</td> <td> 0.000</td> <td>    0.022</td> <td>    0.066</td>\n",
       "</tr>\n",
       "<tr>\n",
       "  <th>AfricanAmerican</th>                             <td>    0.1778</td> <td>    0.043</td> <td>    4.093</td> <td> 0.000</td> <td>    0.093</td> <td>    0.263</td>\n",
       "</tr>\n",
       "<tr>\n",
       "  <th>Asian</th>                                       <td>   -0.3007</td> <td>    0.103</td> <td>   -2.925</td> <td> 0.003</td> <td>   -0.502</td> <td>   -0.099</td>\n",
       "</tr>\n",
       "<tr>\n",
       "  <th>Caucasian</th>                                   <td>    0.1954</td> <td>    0.041</td> <td>    4.777</td> <td> 0.000</td> <td>    0.115</td> <td>    0.276</td>\n",
       "</tr>\n",
       "<tr>\n",
       "  <th>max_glu_serum_result(200,300]</th>               <td>   -0.1527</td> <td>    0.069</td> <td>   -2.223</td> <td> 0.026</td> <td>   -0.287</td> <td>   -0.018</td>\n",
       "</tr>\n",
       "<tr>\n",
       "  <th>max_glu_serum_result_norm</th>                   <td>   -0.1573</td> <td>    0.055</td> <td>   -2.861</td> <td> 0.004</td> <td>   -0.265</td> <td>   -0.050</td>\n",
       "</tr>\n",
       "<tr>\n",
       "  <th>A1C_result(7,8]</th>                             <td>   -0.0847</td> <td>    0.039</td> <td>   -2.170</td> <td> 0.030</td> <td>   -0.161</td> <td>   -0.008</td>\n",
       "</tr>\n",
       "<tr>\n",
       "  <th>A1C_result_norm</th>                             <td>   -0.1759</td> <td>    0.034</td> <td>   -5.135</td> <td> 0.000</td> <td>   -0.243</td> <td>   -0.109</td>\n",
       "</tr>\n",
       "<tr>\n",
       "  <th>metformin_steady</th>                            <td>   -0.1796</td> <td>    0.020</td> <td>   -8.832</td> <td> 0.000</td> <td>   -0.219</td> <td>   -0.140</td>\n",
       "</tr>\n",
       "<tr>\n",
       "  <th>metformin_up</th>                                <td>   -0.1926</td> <td>    0.072</td> <td>   -2.678</td> <td> 0.007</td> <td>   -0.333</td> <td>   -0.052</td>\n",
       "</tr>\n",
       "<tr>\n",
       "  <th>glipizide_steady</th>                            <td>    0.0709</td> <td>    0.024</td> <td>    2.940</td> <td> 0.003</td> <td>    0.024</td> <td>    0.118</td>\n",
       "</tr>\n",
       "<tr>\n",
       "  <th>glipizide_up</th>                                <td>    0.1760</td> <td>    0.084</td> <td>    2.107</td> <td> 0.035</td> <td>    0.012</td> <td>    0.340</td>\n",
       "</tr>\n",
       "<tr>\n",
       "  <th>rosiglitazone_down</th>                          <td>   -0.6636</td> <td>    0.283</td> <td>   -2.347</td> <td> 0.019</td> <td>   -1.218</td> <td>   -0.110</td>\n",
       "</tr>\n",
       "<tr>\n",
       "  <th>rosiglitazone_steady</th>                        <td>    0.1244</td> <td>    0.031</td> <td>    3.991</td> <td> 0.000</td> <td>    0.063</td> <td>    0.185</td>\n",
       "</tr>\n",
       "<tr>\n",
       "  <th>insulin_steady</th>                              <td>   -0.1582</td> <td>    0.019</td> <td>   -8.481</td> <td> 0.000</td> <td>   -0.195</td> <td>   -0.122</td>\n",
       "</tr>\n",
       "<tr>\n",
       "  <th>insulin_up</th>                                  <td>   -0.0587</td> <td>    0.026</td> <td>   -2.243</td> <td> 0.025</td> <td>   -0.110</td> <td>   -0.007</td>\n",
       "</tr>\n",
       "<tr>\n",
       "  <th>Discharged to home</th>                          <td>    0.3161</td> <td>    0.023</td> <td>   13.675</td> <td> 0.000</td> <td>    0.271</td> <td>    0.361</td>\n",
       "</tr>\n",
       "<tr>\n",
       "  <th>Discharged to home with Home Health Service</th> <td>    0.4830</td> <td>    0.029</td> <td>   16.501</td> <td> 0.000</td> <td>    0.426</td> <td>    0.540</td>\n",
       "</tr>\n",
       "<tr>\n",
       "  <th>Discharged/Transferred to SNF</th>               <td>    0.2500</td> <td>    0.029</td> <td>    8.544</td> <td> 0.000</td> <td>    0.193</td> <td>    0.307</td>\n",
       "</tr>\n",
       "<tr>\n",
       "  <th>Emergency Room</th>                              <td>    0.5338</td> <td>    0.033</td> <td>   16.321</td> <td> 0.000</td> <td>    0.470</td> <td>    0.598</td>\n",
       "</tr>\n",
       "<tr>\n",
       "  <th>Physician Referral</th>                          <td>    0.3468</td> <td>    0.034</td> <td>   10.330</td> <td> 0.000</td> <td>    0.281</td> <td>    0.413</td>\n",
       "</tr>\n",
       "<tr>\n",
       "  <th>Transfer from Home Health</th>                   <td>    0.1440</td> <td>    0.053</td> <td>    2.723</td> <td> 0.006</td> <td>    0.040</td> <td>    0.248</td>\n",
       "</tr>\n",
       "<tr>\n",
       "  <th>Elective</th>                                    <td>   -0.4135</td> <td>    0.038</td> <td>  -10.750</td> <td> 0.000</td> <td>   -0.489</td> <td>   -0.338</td>\n",
       "</tr>\n",
       "<tr>\n",
       "  <th>Emergency</th>                                   <td>   -0.4227</td> <td>    0.036</td> <td>  -11.627</td> <td> 0.000</td> <td>   -0.494</td> <td>   -0.351</td>\n",
       "</tr>\n",
       "<tr>\n",
       "  <th>Urgent</th>                                      <td>   -0.2680</td> <td>    0.037</td> <td>   -7.230</td> <td> 0.000</td> <td>   -0.341</td> <td>   -0.195</td>\n",
       "</tr>\n",
       "</table>"
      ],
      "text/plain": [
       "<class 'statsmodels.iolib.summary.Summary'>\n",
       "\"\"\"\n",
       "                           Logit Regression Results                           \n",
       "==============================================================================\n",
       "Dep. Variable:            readmission   No. Observations:                79560\n",
       "Model:                          Logit   Df Residuals:                    79526\n",
       "Method:                           MLE   Df Model:                           33\n",
       "Date:                Fri, 18 May 2018   Pseudo R-squ.:                 0.06151\n",
       "Time:                        17:31:42   Log-Likelihood:                -51564.\n",
       "converged:                       True   LL-Null:                       -54944.\n",
       "                                        LLR p-value:                     0.000\n",
       "===============================================================================================================\n",
       "                                                  coef    std err          z      P>|z|      [0.025      0.975]\n",
       "---------------------------------------------------------------------------------------------------------------\n",
       "const                                          -1.8006      0.070    -25.761      0.000      -1.938      -1.664\n",
       "gender                                         -0.0447      0.015     -2.979      0.003      -0.074      -0.015\n",
       "time_in_hospital                                0.0218      0.003      7.903      0.000       0.016       0.027\n",
       "num_procedures                                 -0.0347      0.005     -7.413      0.000      -0.044      -0.026\n",
       "number_outpatient                               0.0677      0.007      9.293      0.000       0.053       0.082\n",
       "number_emergency                                0.2113      0.016     12.946      0.000       0.179       0.243\n",
       "number_inpatient                                0.3628      0.009     41.457      0.000       0.346       0.380\n",
       "number_diagnoses                                0.0746      0.004     17.779      0.000       0.066       0.083\n",
       "diabetesMed                                     0.3497      0.022     16.214      0.000       0.307       0.392\n",
       "age_mod                                         0.0439      0.011      3.924      0.000       0.022       0.066\n",
       "AfricanAmerican                                 0.1778      0.043      4.093      0.000       0.093       0.263\n",
       "Asian                                          -0.3007      0.103     -2.925      0.003      -0.502      -0.099\n",
       "Caucasian                                       0.1954      0.041      4.777      0.000       0.115       0.276\n",
       "max_glu_serum_result(200,300]                  -0.1527      0.069     -2.223      0.026      -0.287      -0.018\n",
       "max_glu_serum_result_norm                      -0.1573      0.055     -2.861      0.004      -0.265      -0.050\n",
       "A1C_result(7,8]                                -0.0847      0.039     -2.170      0.030      -0.161      -0.008\n",
       "A1C_result_norm                                -0.1759      0.034     -5.135      0.000      -0.243      -0.109\n",
       "metformin_steady                               -0.1796      0.020     -8.832      0.000      -0.219      -0.140\n",
       "metformin_up                                   -0.1926      0.072     -2.678      0.007      -0.333      -0.052\n",
       "glipizide_steady                                0.0709      0.024      2.940      0.003       0.024       0.118\n",
       "glipizide_up                                    0.1760      0.084      2.107      0.035       0.012       0.340\n",
       "rosiglitazone_down                             -0.6636      0.283     -2.347      0.019      -1.218      -0.110\n",
       "rosiglitazone_steady                            0.1244      0.031      3.991      0.000       0.063       0.185\n",
       "insulin_steady                                 -0.1582      0.019     -8.481      0.000      -0.195      -0.122\n",
       "insulin_up                                     -0.0587      0.026     -2.243      0.025      -0.110      -0.007\n",
       "Discharged to home                              0.3161      0.023     13.675      0.000       0.271       0.361\n",
       "Discharged to home with Home Health Service     0.4830      0.029     16.501      0.000       0.426       0.540\n",
       "Discharged/Transferred to SNF                   0.2500      0.029      8.544      0.000       0.193       0.307\n",
       "Emergency Room                                  0.5338      0.033     16.321      0.000       0.470       0.598\n",
       "Physician Referral                              0.3468      0.034     10.330      0.000       0.281       0.413\n",
       "Transfer from Home Health                       0.1440      0.053      2.723      0.006       0.040       0.248\n",
       "Elective                                       -0.4135      0.038    -10.750      0.000      -0.489      -0.338\n",
       "Emergency                                      -0.4227      0.036    -11.627      0.000      -0.494      -0.351\n",
       "Urgent                                         -0.2680      0.037     -7.230      0.000      -0.341      -0.195\n",
       "===============================================================================================================\n",
       "\"\"\""
      ]
     },
     "execution_count": 188,
     "metadata": {},
     "output_type": "execute_result"
    }
   ],
   "source": [
    "# model with significant variables\n",
    "new_logit_model_b = sm.Logit(y,sm.add_constant(x_s)) # adding constant\n",
    "result = new_logit_model_b.fit(cov_type='HC1')# specifing cov type for robust errors\n",
    "result.summary()"
   ]
  },
  {
   "cell_type": "code",
   "execution_count": 189,
   "metadata": {
    "collapsed": true
   },
   "outputs": [],
   "source": [
    "# Separating male and female datasets so as we can build models separately to capture the variable effects.\n",
    "data_copy = data\n",
    "data_copy = data_copy.drop(insignificant_vars,axis=1)\n",
    "data_male = data_copy.loc[data.gender==1]\n",
    "data_female = data_copy.loc[data.gender==0]"
   ]
  },
  {
   "cell_type": "code",
   "execution_count": 190,
   "metadata": {
    "collapsed": true
   },
   "outputs": [],
   "source": [
    "# Dropping readmission and gender columns from male and female models. \n",
    "male_y = data_male.readmission\n",
    "female_y = data_female.readmission\n",
    "\n",
    "data_male = data_male.drop(['gender','readmission'],axis=1)\n",
    "data_female = data_female.drop(['gender','readmission'],axis=1)"
   ]
  },
  {
   "cell_type": "markdown",
   "metadata": {},
   "source": [
    "### Male Model Results"
   ]
  },
  {
   "cell_type": "code",
   "execution_count": 191,
   "metadata": {},
   "outputs": [
    {
     "name": "stdout",
     "output_type": "stream",
     "text": [
      "Optimization terminated successfully.\n",
      "         Current function value: 0.646335\n",
      "         Iterations 6\n"
     ]
    },
    {
     "data": {
      "text/html": [
       "<table class=\"simpletable\">\n",
       "<caption>Logit Regression Results</caption>\n",
       "<tr>\n",
       "  <th>Dep. Variable:</th>    <td>readmission</td>   <th>  No. Observations:  </th>  <td> 36729</td> \n",
       "</tr>\n",
       "<tr>\n",
       "  <th>Model:</th>               <td>Logit</td>      <th>  Df Residuals:      </th>  <td> 36696</td> \n",
       "</tr>\n",
       "<tr>\n",
       "  <th>Method:</th>               <td>MLE</td>       <th>  Df Model:          </th>  <td>    32</td> \n",
       "</tr>\n",
       "<tr>\n",
       "  <th>Date:</th>          <td>Fri, 18 May 2018</td> <th>  Pseudo R-squ.:     </th>  <td>0.06209</td>\n",
       "</tr>\n",
       "<tr>\n",
       "  <th>Time:</th>              <td>17:31:44</td>     <th>  Log-Likelihood:    </th> <td> -23739.</td>\n",
       "</tr>\n",
       "<tr>\n",
       "  <th>converged:</th>           <td>True</td>       <th>  LL-Null:           </th> <td> -25311.</td>\n",
       "</tr>\n",
       "<tr>\n",
       "  <th> </th>                      <td> </td>        <th>  LLR p-value:       </th>  <td> 0.000</td> \n",
       "</tr>\n",
       "</table>\n",
       "<table class=\"simpletable\">\n",
       "<tr>\n",
       "                       <td></td>                          <th>coef</th>     <th>std err</th>      <th>z</th>      <th>P>|z|</th>  <th>[0.025</th>    <th>0.975]</th>  \n",
       "</tr>\n",
       "<tr>\n",
       "  <th>const</th>                                       <td>   -1.9833</td> <td>    0.102</td> <td>  -19.520</td> <td> 0.000</td> <td>   -2.182</td> <td>   -1.784</td>\n",
       "</tr>\n",
       "<tr>\n",
       "  <th>time_in_hospital</th>                            <td>    0.0213</td> <td>    0.004</td> <td>    5.247</td> <td> 0.000</td> <td>    0.013</td> <td>    0.029</td>\n",
       "</tr>\n",
       "<tr>\n",
       "  <th>num_procedures</th>                              <td>   -0.0267</td> <td>    0.007</td> <td>   -4.090</td> <td> 0.000</td> <td>   -0.040</td> <td>   -0.014</td>\n",
       "</tr>\n",
       "<tr>\n",
       "  <th>number_outpatient</th>                           <td>    0.0744</td> <td>    0.012</td> <td>    6.410</td> <td> 0.000</td> <td>    0.052</td> <td>    0.097</td>\n",
       "</tr>\n",
       "<tr>\n",
       "  <th>number_emergency</th>                            <td>    0.2087</td> <td>    0.024</td> <td>    8.669</td> <td> 0.000</td> <td>    0.161</td> <td>    0.256</td>\n",
       "</tr>\n",
       "<tr>\n",
       "  <th>number_inpatient</th>                            <td>    0.3726</td> <td>    0.013</td> <td>   28.378</td> <td> 0.000</td> <td>    0.347</td> <td>    0.398</td>\n",
       "</tr>\n",
       "<tr>\n",
       "  <th>number_diagnoses</th>                            <td>    0.0856</td> <td>    0.006</td> <td>   13.896</td> <td> 0.000</td> <td>    0.073</td> <td>    0.098</td>\n",
       "</tr>\n",
       "<tr>\n",
       "  <th>diabetesMed</th>                                 <td>    0.3505</td> <td>    0.032</td> <td>   10.956</td> <td> 0.000</td> <td>    0.288</td> <td>    0.413</td>\n",
       "</tr>\n",
       "<tr>\n",
       "  <th>age_mod</th>                                     <td>    0.0708</td> <td>    0.017</td> <td>    4.187</td> <td> 0.000</td> <td>    0.038</td> <td>    0.104</td>\n",
       "</tr>\n",
       "<tr>\n",
       "  <th>AfricanAmerican</th>                             <td>    0.1563</td> <td>    0.064</td> <td>    2.452</td> <td> 0.014</td> <td>    0.031</td> <td>    0.281</td>\n",
       "</tr>\n",
       "<tr>\n",
       "  <th>Asian</th>                                       <td>   -0.4118</td> <td>    0.148</td> <td>   -2.780</td> <td> 0.005</td> <td>   -0.702</td> <td>   -0.121</td>\n",
       "</tr>\n",
       "<tr>\n",
       "  <th>Caucasian</th>                                   <td>    0.1433</td> <td>    0.059</td> <td>    2.427</td> <td> 0.015</td> <td>    0.028</td> <td>    0.259</td>\n",
       "</tr>\n",
       "<tr>\n",
       "  <th>max_glu_serum_result(200,300]</th>               <td>   -0.2208</td> <td>    0.101</td> <td>   -2.196</td> <td> 0.028</td> <td>   -0.418</td> <td>   -0.024</td>\n",
       "</tr>\n",
       "<tr>\n",
       "  <th>max_glu_serum_result_norm</th>                   <td>   -0.1868</td> <td>    0.081</td> <td>   -2.292</td> <td> 0.022</td> <td>   -0.346</td> <td>   -0.027</td>\n",
       "</tr>\n",
       "<tr>\n",
       "  <th>A1C_result(7,8]</th>                             <td>   -0.1271</td> <td>    0.056</td> <td>   -2.252</td> <td> 0.024</td> <td>   -0.238</td> <td>   -0.016</td>\n",
       "</tr>\n",
       "<tr>\n",
       "  <th>A1C_result_norm</th>                             <td>   -0.1941</td> <td>    0.051</td> <td>   -3.778</td> <td> 0.000</td> <td>   -0.295</td> <td>   -0.093</td>\n",
       "</tr>\n",
       "<tr>\n",
       "  <th>metformin_steady</th>                            <td>   -0.1903</td> <td>    0.030</td> <td>   -6.354</td> <td> 0.000</td> <td>   -0.249</td> <td>   -0.132</td>\n",
       "</tr>\n",
       "<tr>\n",
       "  <th>metformin_up</th>                                <td>   -0.1718</td> <td>    0.106</td> <td>   -1.614</td> <td> 0.106</td> <td>   -0.380</td> <td>    0.037</td>\n",
       "</tr>\n",
       "<tr>\n",
       "  <th>glipizide_steady</th>                            <td>    0.0391</td> <td>    0.034</td> <td>    1.144</td> <td> 0.253</td> <td>   -0.028</td> <td>    0.106</td>\n",
       "</tr>\n",
       "<tr>\n",
       "  <th>glipizide_up</th>                                <td>    0.2054</td> <td>    0.118</td> <td>    1.736</td> <td> 0.083</td> <td>   -0.027</td> <td>    0.437</td>\n",
       "</tr>\n",
       "<tr>\n",
       "  <th>rosiglitazone_down</th>                          <td>   -0.5967</td> <td>    0.345</td> <td>   -1.732</td> <td> 0.083</td> <td>   -1.272</td> <td>    0.079</td>\n",
       "</tr>\n",
       "<tr>\n",
       "  <th>rosiglitazone_steady</th>                        <td>    0.0772</td> <td>    0.045</td> <td>    1.710</td> <td> 0.087</td> <td>   -0.011</td> <td>    0.166</td>\n",
       "</tr>\n",
       "<tr>\n",
       "  <th>insulin_steady</th>                              <td>   -0.1738</td> <td>    0.027</td> <td>   -6.348</td> <td> 0.000</td> <td>   -0.227</td> <td>   -0.120</td>\n",
       "</tr>\n",
       "<tr>\n",
       "  <th>insulin_up</th>                                  <td>   -0.0855</td> <td>    0.038</td> <td>   -2.240</td> <td> 0.025</td> <td>   -0.160</td> <td>   -0.011</td>\n",
       "</tr>\n",
       "<tr>\n",
       "  <th>Discharged to home</th>                          <td>    0.3965</td> <td>    0.034</td> <td>   11.721</td> <td> 0.000</td> <td>    0.330</td> <td>    0.463</td>\n",
       "</tr>\n",
       "<tr>\n",
       "  <th>Discharged to home with Home Health Service</th> <td>    0.4670</td> <td>    0.044</td> <td>   10.632</td> <td> 0.000</td> <td>    0.381</td> <td>    0.553</td>\n",
       "</tr>\n",
       "<tr>\n",
       "  <th>Discharged/Transferred to SNF</th>               <td>    0.3113</td> <td>    0.046</td> <td>    6.798</td> <td> 0.000</td> <td>    0.222</td> <td>    0.401</td>\n",
       "</tr>\n",
       "<tr>\n",
       "  <th>Emergency Room</th>                              <td>    0.5093</td> <td>    0.050</td> <td>   10.231</td> <td> 0.000</td> <td>    0.412</td> <td>    0.607</td>\n",
       "</tr>\n",
       "<tr>\n",
       "  <th>Physician Referral</th>                          <td>    0.3761</td> <td>    0.050</td> <td>    7.498</td> <td> 0.000</td> <td>    0.278</td> <td>    0.474</td>\n",
       "</tr>\n",
       "<tr>\n",
       "  <th>Transfer from Home Health</th>                   <td>    0.1649</td> <td>    0.078</td> <td>    2.123</td> <td> 0.034</td> <td>    0.013</td> <td>    0.317</td>\n",
       "</tr>\n",
       "<tr>\n",
       "  <th>Elective</th>                                    <td>   -0.4257</td> <td>    0.056</td> <td>   -7.606</td> <td> 0.000</td> <td>   -0.535</td> <td>   -0.316</td>\n",
       "</tr>\n",
       "<tr>\n",
       "  <th>Emergency</th>                                   <td>   -0.4109</td> <td>    0.053</td> <td>   -7.822</td> <td> 0.000</td> <td>   -0.514</td> <td>   -0.308</td>\n",
       "</tr>\n",
       "<tr>\n",
       "  <th>Urgent</th>                                      <td>   -0.2665</td> <td>    0.054</td> <td>   -4.953</td> <td> 0.000</td> <td>   -0.372</td> <td>   -0.161</td>\n",
       "</tr>\n",
       "</table>"
      ],
      "text/plain": [
       "<class 'statsmodels.iolib.summary.Summary'>\n",
       "\"\"\"\n",
       "                           Logit Regression Results                           \n",
       "==============================================================================\n",
       "Dep. Variable:            readmission   No. Observations:                36729\n",
       "Model:                          Logit   Df Residuals:                    36696\n",
       "Method:                           MLE   Df Model:                           32\n",
       "Date:                Fri, 18 May 2018   Pseudo R-squ.:                 0.06209\n",
       "Time:                        17:31:44   Log-Likelihood:                -23739.\n",
       "converged:                       True   LL-Null:                       -25311.\n",
       "                                        LLR p-value:                     0.000\n",
       "===============================================================================================================\n",
       "                                                  coef    std err          z      P>|z|      [0.025      0.975]\n",
       "---------------------------------------------------------------------------------------------------------------\n",
       "const                                          -1.9833      0.102    -19.520      0.000      -2.182      -1.784\n",
       "time_in_hospital                                0.0213      0.004      5.247      0.000       0.013       0.029\n",
       "num_procedures                                 -0.0267      0.007     -4.090      0.000      -0.040      -0.014\n",
       "number_outpatient                               0.0744      0.012      6.410      0.000       0.052       0.097\n",
       "number_emergency                                0.2087      0.024      8.669      0.000       0.161       0.256\n",
       "number_inpatient                                0.3726      0.013     28.378      0.000       0.347       0.398\n",
       "number_diagnoses                                0.0856      0.006     13.896      0.000       0.073       0.098\n",
       "diabetesMed                                     0.3505      0.032     10.956      0.000       0.288       0.413\n",
       "age_mod                                         0.0708      0.017      4.187      0.000       0.038       0.104\n",
       "AfricanAmerican                                 0.1563      0.064      2.452      0.014       0.031       0.281\n",
       "Asian                                          -0.4118      0.148     -2.780      0.005      -0.702      -0.121\n",
       "Caucasian                                       0.1433      0.059      2.427      0.015       0.028       0.259\n",
       "max_glu_serum_result(200,300]                  -0.2208      0.101     -2.196      0.028      -0.418      -0.024\n",
       "max_glu_serum_result_norm                      -0.1868      0.081     -2.292      0.022      -0.346      -0.027\n",
       "A1C_result(7,8]                                -0.1271      0.056     -2.252      0.024      -0.238      -0.016\n",
       "A1C_result_norm                                -0.1941      0.051     -3.778      0.000      -0.295      -0.093\n",
       "metformin_steady                               -0.1903      0.030     -6.354      0.000      -0.249      -0.132\n",
       "metformin_up                                   -0.1718      0.106     -1.614      0.106      -0.380       0.037\n",
       "glipizide_steady                                0.0391      0.034      1.144      0.253      -0.028       0.106\n",
       "glipizide_up                                    0.2054      0.118      1.736      0.083      -0.027       0.437\n",
       "rosiglitazone_down                             -0.5967      0.345     -1.732      0.083      -1.272       0.079\n",
       "rosiglitazone_steady                            0.0772      0.045      1.710      0.087      -0.011       0.166\n",
       "insulin_steady                                 -0.1738      0.027     -6.348      0.000      -0.227      -0.120\n",
       "insulin_up                                     -0.0855      0.038     -2.240      0.025      -0.160      -0.011\n",
       "Discharged to home                              0.3965      0.034     11.721      0.000       0.330       0.463\n",
       "Discharged to home with Home Health Service     0.4670      0.044     10.632      0.000       0.381       0.553\n",
       "Discharged/Transferred to SNF                   0.3113      0.046      6.798      0.000       0.222       0.401\n",
       "Emergency Room                                  0.5093      0.050     10.231      0.000       0.412       0.607\n",
       "Physician Referral                              0.3761      0.050      7.498      0.000       0.278       0.474\n",
       "Transfer from Home Health                       0.1649      0.078      2.123      0.034       0.013       0.317\n",
       "Elective                                       -0.4257      0.056     -7.606      0.000      -0.535      -0.316\n",
       "Emergency                                      -0.4109      0.053     -7.822      0.000      -0.514      -0.308\n",
       "Urgent                                         -0.2665      0.054     -4.953      0.000      -0.372      -0.161\n",
       "===============================================================================================================\n",
       "\"\"\""
      ]
     },
     "execution_count": 191,
     "metadata": {},
     "output_type": "execute_result"
    }
   ],
   "source": [
    "# Male model results\n",
    "logit_model_male = sm.Logit(male_y, sm.add_constant(data_male))\n",
    "result = logit_model_male.fit(cov_type='HC1')\n",
    "result.summary()"
   ]
  },
  {
   "cell_type": "markdown",
   "metadata": {},
   "source": [
    "### Female Model Results"
   ]
  },
  {
   "cell_type": "code",
   "execution_count": 192,
   "metadata": {},
   "outputs": [
    {
     "name": "stdout",
     "output_type": "stream",
     "text": [
      "Optimization terminated successfully.\n",
      "         Current function value: 0.649022\n",
      "         Iterations 6\n"
     ]
    },
    {
     "data": {
      "text/html": [
       "<table class=\"simpletable\">\n",
       "<caption>Logit Regression Results</caption>\n",
       "<tr>\n",
       "  <th>Dep. Variable:</th>    <td>readmission</td>   <th>  No. Observations:  </th>  <td> 42831</td> \n",
       "</tr>\n",
       "<tr>\n",
       "  <th>Model:</th>               <td>Logit</td>      <th>  Df Residuals:      </th>  <td> 42798</td> \n",
       "</tr>\n",
       "<tr>\n",
       "  <th>Method:</th>               <td>MLE</td>       <th>  Df Model:          </th>  <td>    32</td> \n",
       "</tr>\n",
       "<tr>\n",
       "  <th>Date:</th>          <td>Fri, 18 May 2018</td> <th>  Pseudo R-squ.:     </th>  <td>0.06155</td>\n",
       "</tr>\n",
       "<tr>\n",
       "  <th>Time:</th>              <td>17:31:46</td>     <th>  Log-Likelihood:    </th> <td> -27798.</td>\n",
       "</tr>\n",
       "<tr>\n",
       "  <th>converged:</th>           <td>True</td>       <th>  LL-Null:           </th> <td> -29621.</td>\n",
       "</tr>\n",
       "<tr>\n",
       "  <th> </th>                      <td> </td>        <th>  LLR p-value:       </th>  <td> 0.000</td> \n",
       "</tr>\n",
       "</table>\n",
       "<table class=\"simpletable\">\n",
       "<tr>\n",
       "                       <td></td>                          <th>coef</th>     <th>std err</th>      <th>z</th>      <th>P>|z|</th>  <th>[0.025</th>    <th>0.975]</th>  \n",
       "</tr>\n",
       "<tr>\n",
       "  <th>const</th>                                       <td>   -1.6688</td> <td>    0.096</td> <td>  -17.466</td> <td> 0.000</td> <td>   -1.856</td> <td>   -1.482</td>\n",
       "</tr>\n",
       "<tr>\n",
       "  <th>time_in_hospital</th>                            <td>    0.0225</td> <td>    0.004</td> <td>    5.996</td> <td> 0.000</td> <td>    0.015</td> <td>    0.030</td>\n",
       "</tr>\n",
       "<tr>\n",
       "  <th>num_procedures</th>                              <td>   -0.0431</td> <td>    0.007</td> <td>   -6.418</td> <td> 0.000</td> <td>   -0.056</td> <td>   -0.030</td>\n",
       "</tr>\n",
       "<tr>\n",
       "  <th>number_outpatient</th>                           <td>    0.0632</td> <td>    0.009</td> <td>    6.775</td> <td> 0.000</td> <td>    0.045</td> <td>    0.081</td>\n",
       "</tr>\n",
       "<tr>\n",
       "  <th>number_emergency</th>                            <td>    0.2143</td> <td>    0.022</td> <td>    9.661</td> <td> 0.000</td> <td>    0.171</td> <td>    0.258</td>\n",
       "</tr>\n",
       "<tr>\n",
       "  <th>number_inpatient</th>                            <td>    0.3535</td> <td>    0.012</td> <td>   30.112</td> <td> 0.000</td> <td>    0.330</td> <td>    0.376</td>\n",
       "</tr>\n",
       "<tr>\n",
       "  <th>number_diagnoses</th>                            <td>    0.0647</td> <td>    0.006</td> <td>   11.260</td> <td> 0.000</td> <td>    0.053</td> <td>    0.076</td>\n",
       "</tr>\n",
       "<tr>\n",
       "  <th>diabetesMed</th>                                 <td>    0.3480</td> <td>    0.029</td> <td>   11.899</td> <td> 0.000</td> <td>    0.291</td> <td>    0.405</td>\n",
       "</tr>\n",
       "<tr>\n",
       "  <th>age_mod</th>                                     <td>    0.0182</td> <td>    0.015</td> <td>    1.219</td> <td> 0.223</td> <td>   -0.011</td> <td>    0.048</td>\n",
       "</tr>\n",
       "<tr>\n",
       "  <th>AfricanAmerican</th>                             <td>    0.2007</td> <td>    0.060</td> <td>    3.367</td> <td> 0.001</td> <td>    0.084</td> <td>    0.317</td>\n",
       "</tr>\n",
       "<tr>\n",
       "  <th>Asian</th>                                       <td>   -0.1956</td> <td>    0.143</td> <td>   -1.367</td> <td> 0.171</td> <td>   -0.476</td> <td>    0.085</td>\n",
       "</tr>\n",
       "<tr>\n",
       "  <th>Caucasian</th>                                   <td>    0.2414</td> <td>    0.057</td> <td>    4.255</td> <td> 0.000</td> <td>    0.130</td> <td>    0.353</td>\n",
       "</tr>\n",
       "<tr>\n",
       "  <th>max_glu_serum_result(200,300]</th>               <td>   -0.0945</td> <td>    0.094</td> <td>   -1.001</td> <td> 0.317</td> <td>   -0.280</td> <td>    0.091</td>\n",
       "</tr>\n",
       "<tr>\n",
       "  <th>max_glu_serum_result_norm</th>                   <td>   -0.1359</td> <td>    0.075</td> <td>   -1.822</td> <td> 0.068</td> <td>   -0.282</td> <td>    0.010</td>\n",
       "</tr>\n",
       "<tr>\n",
       "  <th>A1C_result(7,8]</th>                             <td>   -0.0464</td> <td>    0.054</td> <td>   -0.858</td> <td> 0.391</td> <td>   -0.152</td> <td>    0.060</td>\n",
       "</tr>\n",
       "<tr>\n",
       "  <th>A1C_result_norm</th>                             <td>   -0.1630</td> <td>    0.046</td> <td>   -3.542</td> <td> 0.000</td> <td>   -0.253</td> <td>   -0.073</td>\n",
       "</tr>\n",
       "<tr>\n",
       "  <th>metformin_steady</th>                            <td>   -0.1692</td> <td>    0.028</td> <td>   -6.099</td> <td> 0.000</td> <td>   -0.224</td> <td>   -0.115</td>\n",
       "</tr>\n",
       "<tr>\n",
       "  <th>metformin_up</th>                                <td>   -0.2087</td> <td>    0.098</td> <td>   -2.135</td> <td> 0.033</td> <td>   -0.400</td> <td>   -0.017</td>\n",
       "</tr>\n",
       "<tr>\n",
       "  <th>glipizide_steady</th>                            <td>    0.1006</td> <td>    0.034</td> <td>    2.953</td> <td> 0.003</td> <td>    0.034</td> <td>    0.167</td>\n",
       "</tr>\n",
       "<tr>\n",
       "  <th>glipizide_up</th>                                <td>    0.1407</td> <td>    0.118</td> <td>    1.192</td> <td> 0.233</td> <td>   -0.091</td> <td>    0.372</td>\n",
       "</tr>\n",
       "<tr>\n",
       "  <th>rosiglitazone_down</th>                          <td>   -0.7545</td> <td>    0.489</td> <td>   -1.542</td> <td> 0.123</td> <td>   -1.713</td> <td>    0.204</td>\n",
       "</tr>\n",
       "<tr>\n",
       "  <th>rosiglitazone_steady</th>                        <td>    0.1684</td> <td>    0.043</td> <td>    3.890</td> <td> 0.000</td> <td>    0.084</td> <td>    0.253</td>\n",
       "</tr>\n",
       "<tr>\n",
       "  <th>insulin_steady</th>                              <td>   -0.1437</td> <td>    0.026</td> <td>   -5.628</td> <td> 0.000</td> <td>   -0.194</td> <td>   -0.094</td>\n",
       "</tr>\n",
       "<tr>\n",
       "  <th>insulin_up</th>                                  <td>   -0.0341</td> <td>    0.036</td> <td>   -0.950</td> <td> 0.342</td> <td>   -0.105</td> <td>    0.036</td>\n",
       "</tr>\n",
       "<tr>\n",
       "  <th>Discharged to home</th>                          <td>    0.2406</td> <td>    0.032</td> <td>    7.578</td> <td> 0.000</td> <td>    0.178</td> <td>    0.303</td>\n",
       "</tr>\n",
       "<tr>\n",
       "  <th>Discharged to home with Home Health Service</th> <td>    0.4893</td> <td>    0.039</td> <td>   12.420</td> <td> 0.000</td> <td>    0.412</td> <td>    0.567</td>\n",
       "</tr>\n",
       "<tr>\n",
       "  <th>Discharged/Transferred to SNF</th>               <td>    0.1999</td> <td>    0.038</td> <td>    5.224</td> <td> 0.000</td> <td>    0.125</td> <td>    0.275</td>\n",
       "</tr>\n",
       "<tr>\n",
       "  <th>Emergency Room</th>                              <td>    0.5552</td> <td>    0.043</td> <td>   12.777</td> <td> 0.000</td> <td>    0.470</td> <td>    0.640</td>\n",
       "</tr>\n",
       "<tr>\n",
       "  <th>Physician Referral</th>                          <td>    0.3200</td> <td>    0.045</td> <td>    7.068</td> <td> 0.000</td> <td>    0.231</td> <td>    0.409</td>\n",
       "</tr>\n",
       "<tr>\n",
       "  <th>Transfer from Home Health</th>                   <td>    0.1217</td> <td>    0.072</td> <td>    1.682</td> <td> 0.093</td> <td>   -0.020</td> <td>    0.264</td>\n",
       "</tr>\n",
       "<tr>\n",
       "  <th>Elective</th>                                    <td>   -0.4052</td> <td>    0.053</td> <td>   -7.636</td> <td> 0.000</td> <td>   -0.509</td> <td>   -0.301</td>\n",
       "</tr>\n",
       "<tr>\n",
       "  <th>Emergency</th>                                   <td>   -0.4345</td> <td>    0.050</td> <td>   -8.619</td> <td> 0.000</td> <td>   -0.533</td> <td>   -0.336</td>\n",
       "</tr>\n",
       "<tr>\n",
       "  <th>Urgent</th>                                      <td>   -0.2697</td> <td>    0.051</td> <td>   -5.262</td> <td> 0.000</td> <td>   -0.370</td> <td>   -0.169</td>\n",
       "</tr>\n",
       "</table>"
      ],
      "text/plain": [
       "<class 'statsmodels.iolib.summary.Summary'>\n",
       "\"\"\"\n",
       "                           Logit Regression Results                           \n",
       "==============================================================================\n",
       "Dep. Variable:            readmission   No. Observations:                42831\n",
       "Model:                          Logit   Df Residuals:                    42798\n",
       "Method:                           MLE   Df Model:                           32\n",
       "Date:                Fri, 18 May 2018   Pseudo R-squ.:                 0.06155\n",
       "Time:                        17:31:46   Log-Likelihood:                -27798.\n",
       "converged:                       True   LL-Null:                       -29621.\n",
       "                                        LLR p-value:                     0.000\n",
       "===============================================================================================================\n",
       "                                                  coef    std err          z      P>|z|      [0.025      0.975]\n",
       "---------------------------------------------------------------------------------------------------------------\n",
       "const                                          -1.6688      0.096    -17.466      0.000      -1.856      -1.482\n",
       "time_in_hospital                                0.0225      0.004      5.996      0.000       0.015       0.030\n",
       "num_procedures                                 -0.0431      0.007     -6.418      0.000      -0.056      -0.030\n",
       "number_outpatient                               0.0632      0.009      6.775      0.000       0.045       0.081\n",
       "number_emergency                                0.2143      0.022      9.661      0.000       0.171       0.258\n",
       "number_inpatient                                0.3535      0.012     30.112      0.000       0.330       0.376\n",
       "number_diagnoses                                0.0647      0.006     11.260      0.000       0.053       0.076\n",
       "diabetesMed                                     0.3480      0.029     11.899      0.000       0.291       0.405\n",
       "age_mod                                         0.0182      0.015      1.219      0.223      -0.011       0.048\n",
       "AfricanAmerican                                 0.2007      0.060      3.367      0.001       0.084       0.317\n",
       "Asian                                          -0.1956      0.143     -1.367      0.171      -0.476       0.085\n",
       "Caucasian                                       0.2414      0.057      4.255      0.000       0.130       0.353\n",
       "max_glu_serum_result(200,300]                  -0.0945      0.094     -1.001      0.317      -0.280       0.091\n",
       "max_glu_serum_result_norm                      -0.1359      0.075     -1.822      0.068      -0.282       0.010\n",
       "A1C_result(7,8]                                -0.0464      0.054     -0.858      0.391      -0.152       0.060\n",
       "A1C_result_norm                                -0.1630      0.046     -3.542      0.000      -0.253      -0.073\n",
       "metformin_steady                               -0.1692      0.028     -6.099      0.000      -0.224      -0.115\n",
       "metformin_up                                   -0.2087      0.098     -2.135      0.033      -0.400      -0.017\n",
       "glipizide_steady                                0.1006      0.034      2.953      0.003       0.034       0.167\n",
       "glipizide_up                                    0.1407      0.118      1.192      0.233      -0.091       0.372\n",
       "rosiglitazone_down                             -0.7545      0.489     -1.542      0.123      -1.713       0.204\n",
       "rosiglitazone_steady                            0.1684      0.043      3.890      0.000       0.084       0.253\n",
       "insulin_steady                                 -0.1437      0.026     -5.628      0.000      -0.194      -0.094\n",
       "insulin_up                                     -0.0341      0.036     -0.950      0.342      -0.105       0.036\n",
       "Discharged to home                              0.2406      0.032      7.578      0.000       0.178       0.303\n",
       "Discharged to home with Home Health Service     0.4893      0.039     12.420      0.000       0.412       0.567\n",
       "Discharged/Transferred to SNF                   0.1999      0.038      5.224      0.000       0.125       0.275\n",
       "Emergency Room                                  0.5552      0.043     12.777      0.000       0.470       0.640\n",
       "Physician Referral                              0.3200      0.045      7.068      0.000       0.231       0.409\n",
       "Transfer from Home Health                       0.1217      0.072      1.682      0.093      -0.020       0.264\n",
       "Elective                                       -0.4052      0.053     -7.636      0.000      -0.509      -0.301\n",
       "Emergency                                      -0.4345      0.050     -8.619      0.000      -0.533      -0.336\n",
       "Urgent                                         -0.2697      0.051     -5.262      0.000      -0.370      -0.169\n",
       "===============================================================================================================\n",
       "\"\"\""
      ]
     },
     "execution_count": 192,
     "metadata": {},
     "output_type": "execute_result"
    }
   ],
   "source": [
    "## female model\n",
    "logit_model_female = sm.Logit(female_y,sm.add_constant(data_female))\n",
    "result = logit_model_female.fit(cov_type='HC1')\n",
    "result.summary()"
   ]
  },
  {
   "cell_type": "markdown",
   "metadata": {
    "collapsed": true
   },
   "source": [
    "We have now obtained logistic regression coefficients for male and female models separately. We can see that\n",
    "\n",
    "1. age_mod variable has a P value of 0.223 for a female model and is insignificant, while for a male model it is highly significant. \n",
    "2. For a male model max_glu_serum_result(200,300] is significant with P value of 0.028, whereas for a female model it is highly insignificant with P value of 0.317. The same refers to A1C_result(7,8].\n",
    "3. On the other hand, glipizide_steady is significant for a female model, while for a male model it is insignificant.\n",
    "\n",
    "Thus we can see that different variables, especially the medical procedures can have completely different influence on a person's readmission to a hospital depending on gender."
   ]
  }
 ],
 "metadata": {
  "kernelspec": {
   "display_name": "Python 3",
   "language": "python",
   "name": "python3"
  },
  "language_info": {
   "codemirror_mode": {
    "name": "ipython",
    "version": 3
   },
   "file_extension": ".py",
   "mimetype": "text/x-python",
   "name": "python",
   "nbconvert_exporter": "python",
   "pygments_lexer": "ipython3",
   "version": "3.6.1"
  }
 },
 "nbformat": 4,
 "nbformat_minor": 2
}
